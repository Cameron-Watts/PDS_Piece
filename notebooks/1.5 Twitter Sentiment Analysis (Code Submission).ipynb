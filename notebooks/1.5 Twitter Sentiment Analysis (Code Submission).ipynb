{
 "cells": [
  {
   "cell_type": "markdown",
   "metadata": {},
   "source": [
    "## Preparation\n",
    "\n",
    "This section is where we prepare for the project, through a variety of initial steps. The steps in this section are as follows:\n",
    "\n",
    "- Importing Packages\n",
    "- Importing Data\n",
    "- Dropping NA Values\n",
    "- Subsetting Data"
   ]
  },
  {
   "cell_type": "markdown",
   "metadata": {},
   "source": [
    "### Importing Packages"
   ]
  },
  {
   "cell_type": "code",
   "execution_count": 1,
   "metadata": {},
   "outputs": [],
   "source": [
    "#Data management\n",
    "import pandas as pd\n",
    "import numpy as np\n",
    "np.random.seed(0)\n",
    "#from pandas_profiling import ProfileReport\n",
    "\n",
    "#TextBlob Features\n",
    "from textblob import TextBlob\n",
    "\n",
    "#Plotting\n",
    "import matplotlib.pyplot as plt\n",
    "\n",
    "#SciKit-Learn\n",
    "from sklearn.model_selection import train_test_split\n",
    "from sklearn.metrics import accuracy_score\n",
    "from sklearn.metrics import confusion_matrix, ConfusionMatrixDisplay\n",
    "\n",
    "#nltk\n",
    "import nltk\n",
    "from nltk.corpus import stopwords\n",
    "#nltk.download('stopwords')\n",
    "from nltk.tokenize import word_tokenize\n",
    "from nltk.stem import WordNetLemmatizer\n",
    "#nltk.download('wordnet')\n",
    "\n",
    "#Tensorflow / Keras\n",
    "import tensorflow as tf\n",
    "from tensorflow.keras.preprocessing.text import Tokenizer\n",
    "\n",
    "#Test\n",
    "from collections import Counter"
   ]
  },
  {
   "cell_type": "markdown",
   "metadata": {},
   "source": [
    "### Importing Data"
   ]
  },
  {
   "cell_type": "code",
   "execution_count": 2,
   "metadata": {},
   "outputs": [],
   "source": [
    "#Training Data\n",
    "path = \"../data/raw/twitter_training.csv\"\n",
    "train_df = pd.read_csv(path, names=[\"Tweet_ID\", \"Entity\", \"Sentiment\", \"Tweet_Content\"])\n",
    "\n",
    "#Test Data (Not to be used until the full model has been trained)\n",
    "test_path = \"../data/raw/twitter_validation.csv\"\n",
    "test_df = pd.read_csv(test_path, names=[\"Tweet_ID\", \"Entity\", \"Sentiment\", \"Tweet_Content\"])"
   ]
  },
  {
   "cell_type": "markdown",
   "metadata": {},
   "source": [
    "### Dropping NA Values\n",
    "\n",
    "Here, we drop any rows with null values, as these miss out on key information."
   ]
  },
  {
   "cell_type": "code",
   "execution_count": 3,
   "metadata": {},
   "outputs": [],
   "source": [
    "train_df = train_df.dropna()\n",
    "test_df = test_df.dropna()"
   ]
  },
  {
   "cell_type": "code",
   "execution_count": 4,
   "metadata": {},
   "outputs": [
    {
     "data": {
      "text/plain": [
       "(73996, 4)"
      ]
     },
     "execution_count": 4,
     "metadata": {},
     "output_type": "execute_result"
    }
   ],
   "source": [
    "train_df.shape"
   ]
  },
  {
   "cell_type": "markdown",
   "metadata": {},
   "source": [
    "### Subsetting Data\n",
    "\n",
    "As this dataset is quite large, during the exploration process we begin by subsetting the data during the training process, to speed up any testing steps. We also reset the index of the dataframe, to make adding columns easier later on in the process."
   ]
  },
  {
   "cell_type": "code",
   "execution_count": 5,
   "metadata": {},
   "outputs": [],
   "source": [
    "df = train_df.sample(frac=0.1)\n",
    "df.reset_index(drop=True, inplace=True)"
   ]
  },
  {
   "cell_type": "markdown",
   "metadata": {},
   "source": [
    "## Data Exploration\n",
    "\n",
    "Here, we explore the data, testing if it is balanced, and checking for patterns in missing rows. This can generally be done in an automated fashion with pandas-profiling. The sections under this header include:\n",
    "\n",
    "- Basic visualisation\n",
    "- Automated Data Exploration with pandas-profiling\n",
    "- Checking for balance in output categories"
   ]
  },
  {
   "cell_type": "markdown",
   "metadata": {},
   "source": [
    "### Basic Visualisation\n",
    "\n",
    "We can display basic statistics about the data using pandas, and also view a few entries of the dataset, to see example points with which we'll work."
   ]
  },
  {
   "cell_type": "code",
   "execution_count": 6,
   "metadata": {},
   "outputs": [
    {
     "name": "stdout",
     "output_type": "stream",
     "text": [
      "<class 'pandas.core.frame.DataFrame'>\n",
      "RangeIndex: 7400 entries, 0 to 7399\n",
      "Data columns (total 4 columns):\n",
      " #   Column         Non-Null Count  Dtype \n",
      "---  ------         --------------  ----- \n",
      " 0   Tweet_ID       7400 non-null   int64 \n",
      " 1   Entity         7400 non-null   object\n",
      " 2   Sentiment      7400 non-null   object\n",
      " 3   Tweet_Content  7400 non-null   object\n",
      "dtypes: int64(1), object(3)\n",
      "memory usage: 231.4+ KB\n"
     ]
    }
   ],
   "source": [
    "#See overall information about the data frame\n",
    "df.info()"
   ]
  },
  {
   "cell_type": "code",
   "execution_count": 7,
   "metadata": {},
   "outputs": [
    {
     "data": {
      "text/html": [
       "<div>\n",
       "<style scoped>\n",
       "    .dataframe tbody tr th:only-of-type {\n",
       "        vertical-align: middle;\n",
       "    }\n",
       "\n",
       "    .dataframe tbody tr th {\n",
       "        vertical-align: top;\n",
       "    }\n",
       "\n",
       "    .dataframe thead th {\n",
       "        text-align: right;\n",
       "    }\n",
       "</style>\n",
       "<table border=\"1\" class=\"dataframe\">\n",
       "  <thead>\n",
       "    <tr style=\"text-align: right;\">\n",
       "      <th></th>\n",
       "      <th>Tweet_ID</th>\n",
       "      <th>Entity</th>\n",
       "      <th>Sentiment</th>\n",
       "      <th>Tweet_Content</th>\n",
       "    </tr>\n",
       "  </thead>\n",
       "  <tbody>\n",
       "    <tr>\n",
       "      <th>0</th>\n",
       "      <td>2535</td>\n",
       "      <td>Borderlands</td>\n",
       "      <td>Negative</td>\n",
       "      <td>@ Borderlands. Can we get a big fix please? I'...</td>\n",
       "    </tr>\n",
       "    <tr>\n",
       "      <th>1</th>\n",
       "      <td>11073</td>\n",
       "      <td>TomClancysGhostRecon</td>\n",
       "      <td>Negative</td>\n",
       "      <td>@GhostRecon You call 1.1.0 an update. You're h...</td>\n",
       "    </tr>\n",
       "    <tr>\n",
       "      <th>2</th>\n",
       "      <td>3024</td>\n",
       "      <td>Dota2</td>\n",
       "      <td>Neutral</td>\n",
       "      <td>I'm excited to watch the EU's closed qualifyin...</td>\n",
       "    </tr>\n",
       "    <tr>\n",
       "      <th>3</th>\n",
       "      <td>6719</td>\n",
       "      <td>Fortnite</td>\n",
       "      <td>Negative</td>\n",
       "      <td>anyways but my fortnite here,, im annoyed.</td>\n",
       "    </tr>\n",
       "    <tr>\n",
       "      <th>4</th>\n",
       "      <td>1533</td>\n",
       "      <td>Battlefield</td>\n",
       "      <td>Negative</td>\n",
       "      <td>Collateral with the revolver is so satisfying....</td>\n",
       "    </tr>\n",
       "  </tbody>\n",
       "</table>\n",
       "</div>"
      ],
      "text/plain": [
       "   Tweet_ID                Entity Sentiment  \\\n",
       "0      2535           Borderlands  Negative   \n",
       "1     11073  TomClancysGhostRecon  Negative   \n",
       "2      3024                 Dota2   Neutral   \n",
       "3      6719              Fortnite  Negative   \n",
       "4      1533           Battlefield  Negative   \n",
       "\n",
       "                                       Tweet_Content  \n",
       "0  @ Borderlands. Can we get a big fix please? I'...  \n",
       "1  @GhostRecon You call 1.1.0 an update. You're h...  \n",
       "2  I'm excited to watch the EU's closed qualifyin...  \n",
       "3         anyways but my fortnite here,, im annoyed.  \n",
       "4  Collateral with the revolver is so satisfying....  "
      ]
     },
     "execution_count": 7,
     "metadata": {},
     "output_type": "execute_result"
    }
   ],
   "source": [
    "#Display a few entries\n",
    "df.head()"
   ]
  },
  {
   "cell_type": "markdown",
   "metadata": {},
   "source": [
    "### Automated Data Exploration with Pandas-Profiling\n",
    "\n",
    "Pandas-profiling is a library used to automatically explore data. This gives us a good overview of the dataset, which we can use to inform our later work."
   ]
  },
  {
   "cell_type": "code",
   "execution_count": 8,
   "metadata": {},
   "outputs": [],
   "source": [
    "#profile = ProfileReport(df, title=\"Pandas Profiling Report\", explorative=True)\n",
    "#profile"
   ]
  },
  {
   "cell_type": "markdown",
   "metadata": {},
   "source": [
    "### Checking Balance of the Data in Output Categories\n",
    "\n",
    "We want to check the balance of the output column (Sentiment), such that we don't train a model that always predicts one output. This model might have a high accuracy, but we wouldn't have learned anything about trends in the data, other than the count in the most common sentiment. It might be tempting to think about balancing the test data too, but remember that data in the real world will be unlikely to come nicely balanced, and test data is analagous to real world data\n",
    "\n",
    "\n",
    "The proportion of sentiments ranges from about 0.15 to 0.3, which is generally good balance, such that we are unlikely to see a scenario in which only one class is predicted. We will however be looking out for if our training accuracy forms a plateau at about 0.3, which could be indicative of this problem."
   ]
  },
  {
   "cell_type": "code",
   "execution_count": 9,
   "metadata": {},
   "outputs": [
    {
     "data": {
      "text/plain": [
       "<BarContainer object of 4 artists>"
      ]
     },
     "execution_count": 9,
     "metadata": {},
     "output_type": "execute_result"
    },
    {
     "data": {
      "image/png": "[encoded data removed]",
      "text/plain": [
       "<Figure size 432x288 with 1 Axes>"
      ]
     },
     "metadata": {
      "needs_background": "light"
     },
     "output_type": "display_data"
    }
   ],
   "source": [
    "#Checking balance of target classes\n",
    "sentiments = list(df[\"Sentiment\"].unique())\n",
    "\n",
    "sentiment_nums = [len(df[df[\"Sentiment\"] == sentiment]) / len(df) for sentiment in sentiments]\n",
    "\n",
    "plt.bar(sentiments, sentiment_nums)"
   ]
  },
  {
   "cell_type": "markdown",
   "metadata": {},
   "source": [
    "## Basic Data Enrichment\n",
    "\n",
    "Here, we consider basic features that can enhance the dataset. This will include one-hot encoding of the categorical \"Entity\" variable. We can also use pre-trained NLP systems here to extract features from the text, such as the one from TextBlob, giving us a \"polarity\" and \"subjectivity\" value from any text that we give it. These extra features are added to the dataframe.\n",
    "\n",
    "We can also create an indexer to convert sentiments from labels to indexes, and back again. This is useful in understanding our predictions later on.\n",
    "\n",
    "Sections under this header include:\n",
    "\n",
    "- One-Hot Encoding\n",
    "- Enrichment with Pre-Trained NLP Models (TextBlob)\n",
    "- Labels to Indexes (and Back Again)"
   ]
  },
  {
   "cell_type": "markdown",
   "metadata": {},
   "source": [
    "### One-Hot Encoding\n",
    "\n",
    "Here, we create a Boolean column for each possible entity, as there are only 32 of these. 32 columns are added, each signifying if the Tweet was related to the given entity. Each Tweet will only be related to one entity in total."
   ]
  },
  {
   "cell_type": "code",
   "execution_count": 10,
   "metadata": {},
   "outputs": [
    {
     "name": "stdout",
     "output_type": "stream",
     "text": [
      "['Borderlands' 'TomClancysGhostRecon' 'Dota2' 'Fortnite' 'Battlefield'\n",
      " 'Hearthstone' 'Amazon' 'Google' 'Overwatch' 'Nvidia' 'FIFA'\n",
      " 'AssassinsCreed' 'Verizon' 'CallOfDuty' 'Cyberpunk2077' 'Xbox(Xseries)'\n",
      " 'CS-GO' 'WorldOfCraft' 'Microsoft' 'CallOfDutyBlackopsColdWar'\n",
      " 'MaddenNFL' 'HomeDepot' 'ApexLegends' 'TomClancysRainbowSix'\n",
      " 'PlayerUnknownsBattlegrounds(PUBG)' 'LeagueOfLegends' 'Facebook'\n",
      " 'GrandTheftAuto(GTA)' 'NBA2K' 'RedDeadRedemption(RDR)' 'johnson&johnson'\n",
      " 'PlayStation5(PS5)']\n",
      "32\n"
     ]
    }
   ],
   "source": [
    "#View all possible entities\n",
    "print(df[\"Entity\"].unique())\n",
    "print(len(df[\"Entity\"].unique()))"
   ]
  },
  {
   "cell_type": "code",
   "execution_count": 11,
   "metadata": {},
   "outputs": [
    {
     "data": {
      "text/html": [
       "<div>\n",
       "<style scoped>\n",
       "    .dataframe tbody tr th:only-of-type {\n",
       "        vertical-align: middle;\n",
       "    }\n",
       "\n",
       "    .dataframe tbody tr th {\n",
       "        vertical-align: top;\n",
       "    }\n",
       "\n",
       "    .dataframe thead th {\n",
       "        text-align: right;\n",
       "    }\n",
       "</style>\n",
       "<table border=\"1\" class=\"dataframe\">\n",
       "  <thead>\n",
       "    <tr style=\"text-align: right;\">\n",
       "      <th></th>\n",
       "      <th>Tweet_ID</th>\n",
       "      <th>Entity</th>\n",
       "      <th>Sentiment</th>\n",
       "      <th>Tweet_Content</th>\n",
       "      <th>Entity_Amazon</th>\n",
       "      <th>Entity_ApexLegends</th>\n",
       "      <th>Entity_AssassinsCreed</th>\n",
       "      <th>Entity_Battlefield</th>\n",
       "      <th>Entity_Borderlands</th>\n",
       "      <th>Entity_CS-GO</th>\n",
       "      <th>...</th>\n",
       "      <th>Entity_Overwatch</th>\n",
       "      <th>Entity_PlayStation5(PS5)</th>\n",
       "      <th>Entity_PlayerUnknownsBattlegrounds(PUBG)</th>\n",
       "      <th>Entity_RedDeadRedemption(RDR)</th>\n",
       "      <th>Entity_TomClancysGhostRecon</th>\n",
       "      <th>Entity_TomClancysRainbowSix</th>\n",
       "      <th>Entity_Verizon</th>\n",
       "      <th>Entity_WorldOfCraft</th>\n",
       "      <th>Entity_Xbox(Xseries)</th>\n",
       "      <th>Entity_johnson&amp;johnson</th>\n",
       "    </tr>\n",
       "  </thead>\n",
       "  <tbody>\n",
       "    <tr>\n",
       "      <th>0</th>\n",
       "      <td>2535</td>\n",
       "      <td>Borderlands</td>\n",
       "      <td>Negative</td>\n",
       "      <td>@ Borderlands. Can we get a big fix please? I'...</td>\n",
       "      <td>0</td>\n",
       "      <td>0</td>\n",
       "      <td>0</td>\n",
       "      <td>0</td>\n",
       "      <td>1</td>\n",
       "      <td>0</td>\n",
       "      <td>...</td>\n",
       "      <td>0</td>\n",
       "      <td>0</td>\n",
       "      <td>0</td>\n",
       "      <td>0</td>\n",
       "      <td>0</td>\n",
       "      <td>0</td>\n",
       "      <td>0</td>\n",
       "      <td>0</td>\n",
       "      <td>0</td>\n",
       "      <td>0</td>\n",
       "    </tr>\n",
       "    <tr>\n",
       "      <th>1</th>\n",
       "      <td>11073</td>\n",
       "      <td>TomClancysGhostRecon</td>\n",
       "      <td>Negative</td>\n",
       "      <td>@GhostRecon You call 1.1.0 an update. You're h...</td>\n",
       "      <td>0</td>\n",
       "      <td>0</td>\n",
       "      <td>0</td>\n",
       "      <td>0</td>\n",
       "      <td>0</td>\n",
       "      <td>0</td>\n",
       "      <td>...</td>\n",
       "      <td>0</td>\n",
       "      <td>0</td>\n",
       "      <td>0</td>\n",
       "      <td>0</td>\n",
       "      <td>1</td>\n",
       "      <td>0</td>\n",
       "      <td>0</td>\n",
       "      <td>0</td>\n",
       "      <td>0</td>\n",
       "      <td>0</td>\n",
       "    </tr>\n",
       "    <tr>\n",
       "      <th>2</th>\n",
       "      <td>3024</td>\n",
       "      <td>Dota2</td>\n",
       "      <td>Neutral</td>\n",
       "      <td>I'm excited to watch the EU's closed qualifyin...</td>\n",
       "      <td>0</td>\n",
       "      <td>0</td>\n",
       "      <td>0</td>\n",
       "      <td>0</td>\n",
       "      <td>0</td>\n",
       "      <td>0</td>\n",
       "      <td>...</td>\n",
       "      <td>0</td>\n",
       "      <td>0</td>\n",
       "      <td>0</td>\n",
       "      <td>0</td>\n",
       "      <td>0</td>\n",
       "      <td>0</td>\n",
       "      <td>0</td>\n",
       "      <td>0</td>\n",
       "      <td>0</td>\n",
       "      <td>0</td>\n",
       "    </tr>\n",
       "    <tr>\n",
       "      <th>3</th>\n",
       "      <td>6719</td>\n",
       "      <td>Fortnite</td>\n",
       "      <td>Negative</td>\n",
       "      <td>anyways but my fortnite here,, im annoyed.</td>\n",
       "      <td>0</td>\n",
       "      <td>0</td>\n",
       "      <td>0</td>\n",
       "      <td>0</td>\n",
       "      <td>0</td>\n",
       "      <td>0</td>\n",
       "      <td>...</td>\n",
       "      <td>0</td>\n",
       "      <td>0</td>\n",
       "      <td>0</td>\n",
       "      <td>0</td>\n",
       "      <td>0</td>\n",
       "      <td>0</td>\n",
       "      <td>0</td>\n",
       "      <td>0</td>\n",
       "      <td>0</td>\n",
       "      <td>0</td>\n",
       "    </tr>\n",
       "    <tr>\n",
       "      <th>4</th>\n",
       "      <td>1533</td>\n",
       "      <td>Battlefield</td>\n",
       "      <td>Negative</td>\n",
       "      <td>Collateral with the revolver is so satisfying....</td>\n",
       "      <td>0</td>\n",
       "      <td>0</td>\n",
       "      <td>0</td>\n",
       "      <td>1</td>\n",
       "      <td>0</td>\n",
       "      <td>0</td>\n",
       "      <td>...</td>\n",
       "      <td>0</td>\n",
       "      <td>0</td>\n",
       "      <td>0</td>\n",
       "      <td>0</td>\n",
       "      <td>0</td>\n",
       "      <td>0</td>\n",
       "      <td>0</td>\n",
       "      <td>0</td>\n",
       "      <td>0</td>\n",
       "      <td>0</td>\n",
       "    </tr>\n",
       "  </tbody>\n",
       "</table>\n",
       "<p>5 rows × 36 columns</p>\n",
       "</div>"
      ],
      "text/plain": [
       "   Tweet_ID                Entity Sentiment  \\\n",
       "0      2535           Borderlands  Negative   \n",
       "1     11073  TomClancysGhostRecon  Negative   \n",
       "2      3024                 Dota2   Neutral   \n",
       "3      6719              Fortnite  Negative   \n",
       "4      1533           Battlefield  Negative   \n",
       "\n",
       "                                       Tweet_Content  Entity_Amazon  \\\n",
       "0  @ Borderlands. Can we get a big fix please? I'...              0   \n",
       "1  @GhostRecon You call 1.1.0 an update. You're h...              0   \n",
       "2  I'm excited to watch the EU's closed qualifyin...              0   \n",
       "3         anyways but my fortnite here,, im annoyed.              0   \n",
       "4  Collateral with the revolver is so satisfying....              0   \n",
       "\n",
       "   Entity_ApexLegends  Entity_AssassinsCreed  Entity_Battlefield  \\\n",
       "0                   0                      0                   0   \n",
       "1                   0                      0                   0   \n",
       "2                   0                      0                   0   \n",
       "3                   0                      0                   0   \n",
       "4                   0                      0                   1   \n",
       "\n",
       "   Entity_Borderlands  Entity_CS-GO  ...  Entity_Overwatch  \\\n",
       "0                   1             0  ...                 0   \n",
       "1                   0             0  ...                 0   \n",
       "2                   0             0  ...                 0   \n",
       "3                   0             0  ...                 0   \n",
       "4                   0             0  ...                 0   \n",
       "\n",
       "   Entity_PlayStation5(PS5)  Entity_PlayerUnknownsBattlegrounds(PUBG)  \\\n",
       "0                         0                                         0   \n",
       "1                         0                                         0   \n",
       "2                         0                                         0   \n",
       "3                         0                                         0   \n",
       "4                         0                                         0   \n",
       "\n",
       "   Entity_RedDeadRedemption(RDR)  Entity_TomClancysGhostRecon  \\\n",
       "0                              0                            0   \n",
       "1                              0                            1   \n",
       "2                              0                            0   \n",
       "3                              0                            0   \n",
       "4                              0                            0   \n",
       "\n",
       "   Entity_TomClancysRainbowSix  Entity_Verizon  Entity_WorldOfCraft  \\\n",
       "0                            0               0                    0   \n",
       "1                            0               0                    0   \n",
       "2                            0               0                    0   \n",
       "3                            0               0                    0   \n",
       "4                            0               0                    0   \n",
       "\n",
       "   Entity_Xbox(Xseries)  Entity_johnson&johnson  \n",
       "0                     0                       0  \n",
       "1                     0                       0  \n",
       "2                     0                       0  \n",
       "3                     0                       0  \n",
       "4                     0                       0  \n",
       "\n",
       "[5 rows x 36 columns]"
      ]
     },
     "execution_count": 11,
     "metadata": {},
     "output_type": "execute_result"
    }
   ],
   "source": [
    "#One-hot encode using Pandas' get_dummies()\n",
    "onehot = pd.get_dummies(df[\"Entity\"], prefix=\"Entity\")\n",
    "\n",
    "#Join these new columns back into the DataFrame\n",
    "df = df.join(onehot)\n",
    "\n",
    "#Display a sample of the data with our new columns\n",
    "df.head()"
   ]
  },
  {
   "cell_type": "code",
   "execution_count": 12,
   "metadata": {},
   "outputs": [],
   "source": [
    "#Remove the Entity column, as we have transformed this data into a more usable format\n",
    "\n",
    "df = df.drop(\"Entity\", axis=1)"
   ]
  },
  {
   "cell_type": "markdown",
   "metadata": {},
   "source": [
    "### Enrichment with Pre-Trained Models (TextBlob)\n",
    "\n",
    "Here, we use the built-in functionality of TextBlob to add dimensionality to the data, by using it to analyse the text of the \"Tweet_Content\" column, and storing the outputs in a new column. This pre-trained model allows us to easily analyse strings of text, without any of the more involved NLP methods. Though we also plan to use more methods for NLP, this step can be a good to see if this model picks up on areas that our created one does not."
   ]
  },
  {
   "cell_type": "code",
   "execution_count": 13,
   "metadata": {},
   "outputs": [],
   "source": [
    "#Adding dimensions with textblob\n",
    "def tb_enrich(ls):\n",
    "    #Enriches a column of text with TextBlob Sentiment Analysis outputs\n",
    "    tb_polarity = []\n",
    "    tb_subject = []\n",
    "\n",
    "    for tweet in ls:\n",
    "        tb_polarity.append(TextBlob(tweet).sentiment[0])\n",
    "        tb_subject.append(TextBlob(tweet).sentiment[1])\n",
    "    \n",
    "\n",
    "    return tb_polarity, tb_subject\n",
    "    \n",
    "df[\"Polarity\"], df[\"Subjectivity\"] = tb_enrich(list(df[\"Tweet_Content\"]))"
   ]
  },
  {
   "cell_type": "code",
   "execution_count": 14,
   "metadata": {},
   "outputs": [
    {
     "data": {
      "text/html": [
       "<div>\n",
       "<style scoped>\n",
       "    .dataframe tbody tr th:only-of-type {\n",
       "        vertical-align: middle;\n",
       "    }\n",
       "\n",
       "    .dataframe tbody tr th {\n",
       "        vertical-align: top;\n",
       "    }\n",
       "\n",
       "    .dataframe thead th {\n",
       "        text-align: right;\n",
       "    }\n",
       "</style>\n",
       "<table border=\"1\" class=\"dataframe\">\n",
       "  <thead>\n",
       "    <tr style=\"text-align: right;\">\n",
       "      <th></th>\n",
       "      <th>Tweet_ID</th>\n",
       "      <th>Sentiment</th>\n",
       "      <th>Tweet_Content</th>\n",
       "      <th>Entity_Amazon</th>\n",
       "      <th>Entity_ApexLegends</th>\n",
       "      <th>Entity_AssassinsCreed</th>\n",
       "      <th>Entity_Battlefield</th>\n",
       "      <th>Entity_Borderlands</th>\n",
       "      <th>Entity_CS-GO</th>\n",
       "      <th>Entity_CallOfDuty</th>\n",
       "      <th>...</th>\n",
       "      <th>Entity_PlayerUnknownsBattlegrounds(PUBG)</th>\n",
       "      <th>Entity_RedDeadRedemption(RDR)</th>\n",
       "      <th>Entity_TomClancysGhostRecon</th>\n",
       "      <th>Entity_TomClancysRainbowSix</th>\n",
       "      <th>Entity_Verizon</th>\n",
       "      <th>Entity_WorldOfCraft</th>\n",
       "      <th>Entity_Xbox(Xseries)</th>\n",
       "      <th>Entity_johnson&amp;johnson</th>\n",
       "      <th>Polarity</th>\n",
       "      <th>Subjectivity</th>\n",
       "    </tr>\n",
       "  </thead>\n",
       "  <tbody>\n",
       "    <tr>\n",
       "      <th>0</th>\n",
       "      <td>2535</td>\n",
       "      <td>Negative</td>\n",
       "      <td>@ Borderlands. Can we get a big fix please? I'...</td>\n",
       "      <td>0</td>\n",
       "      <td>0</td>\n",
       "      <td>0</td>\n",
       "      <td>0</td>\n",
       "      <td>1</td>\n",
       "      <td>0</td>\n",
       "      <td>0</td>\n",
       "      <td>...</td>\n",
       "      <td>0</td>\n",
       "      <td>0</td>\n",
       "      <td>0</td>\n",
       "      <td>0</td>\n",
       "      <td>0</td>\n",
       "      <td>0</td>\n",
       "      <td>0</td>\n",
       "      <td>0</td>\n",
       "      <td>0.0000</td>\n",
       "      <td>0.3625</td>\n",
       "    </tr>\n",
       "    <tr>\n",
       "      <th>1</th>\n",
       "      <td>11073</td>\n",
       "      <td>Negative</td>\n",
       "      <td>@GhostRecon You call 1.1.0 an update. You're h...</td>\n",
       "      <td>0</td>\n",
       "      <td>0</td>\n",
       "      <td>0</td>\n",
       "      <td>0</td>\n",
       "      <td>0</td>\n",
       "      <td>0</td>\n",
       "      <td>0</td>\n",
       "      <td>...</td>\n",
       "      <td>0</td>\n",
       "      <td>0</td>\n",
       "      <td>1</td>\n",
       "      <td>0</td>\n",
       "      <td>0</td>\n",
       "      <td>0</td>\n",
       "      <td>0</td>\n",
       "      <td>0</td>\n",
       "      <td>0.5375</td>\n",
       "      <td>0.4750</td>\n",
       "    </tr>\n",
       "    <tr>\n",
       "      <th>2</th>\n",
       "      <td>3024</td>\n",
       "      <td>Neutral</td>\n",
       "      <td>I'm excited to watch the EU's closed qualifyin...</td>\n",
       "      <td>0</td>\n",
       "      <td>0</td>\n",
       "      <td>0</td>\n",
       "      <td>0</td>\n",
       "      <td>0</td>\n",
       "      <td>0</td>\n",
       "      <td>0</td>\n",
       "      <td>...</td>\n",
       "      <td>0</td>\n",
       "      <td>0</td>\n",
       "      <td>0</td>\n",
       "      <td>0</td>\n",
       "      <td>0</td>\n",
       "      <td>0</td>\n",
       "      <td>0</td>\n",
       "      <td>0</td>\n",
       "      <td>0.1375</td>\n",
       "      <td>0.4250</td>\n",
       "    </tr>\n",
       "    <tr>\n",
       "      <th>3</th>\n",
       "      <td>6719</td>\n",
       "      <td>Negative</td>\n",
       "      <td>anyways but my fortnite here,, im annoyed.</td>\n",
       "      <td>0</td>\n",
       "      <td>0</td>\n",
       "      <td>0</td>\n",
       "      <td>0</td>\n",
       "      <td>0</td>\n",
       "      <td>0</td>\n",
       "      <td>0</td>\n",
       "      <td>...</td>\n",
       "      <td>0</td>\n",
       "      <td>0</td>\n",
       "      <td>0</td>\n",
       "      <td>0</td>\n",
       "      <td>0</td>\n",
       "      <td>0</td>\n",
       "      <td>0</td>\n",
       "      <td>0</td>\n",
       "      <td>-0.4000</td>\n",
       "      <td>0.8000</td>\n",
       "    </tr>\n",
       "    <tr>\n",
       "      <th>4</th>\n",
       "      <td>1533</td>\n",
       "      <td>Negative</td>\n",
       "      <td>Collateral with the revolver is so satisfying....</td>\n",
       "      <td>0</td>\n",
       "      <td>0</td>\n",
       "      <td>0</td>\n",
       "      <td>1</td>\n",
       "      <td>0</td>\n",
       "      <td>0</td>\n",
       "      <td>0</td>\n",
       "      <td>...</td>\n",
       "      <td>0</td>\n",
       "      <td>0</td>\n",
       "      <td>0</td>\n",
       "      <td>0</td>\n",
       "      <td>0</td>\n",
       "      <td>0</td>\n",
       "      <td>0</td>\n",
       "      <td>0</td>\n",
       "      <td>0.0000</td>\n",
       "      <td>0.0000</td>\n",
       "    </tr>\n",
       "  </tbody>\n",
       "</table>\n",
       "<p>5 rows × 37 columns</p>\n",
       "</div>"
      ],
      "text/plain": [
       "   Tweet_ID Sentiment                                      Tweet_Content  \\\n",
       "0      2535  Negative  @ Borderlands. Can we get a big fix please? I'...   \n",
       "1     11073  Negative  @GhostRecon You call 1.1.0 an update. You're h...   \n",
       "2      3024   Neutral  I'm excited to watch the EU's closed qualifyin...   \n",
       "3      6719  Negative         anyways but my fortnite here,, im annoyed.   \n",
       "4      1533  Negative  Collateral with the revolver is so satisfying....   \n",
       "\n",
       "   Entity_Amazon  Entity_ApexLegends  Entity_AssassinsCreed  \\\n",
       "0              0                   0                      0   \n",
       "1              0                   0                      0   \n",
       "2              0                   0                      0   \n",
       "3              0                   0                      0   \n",
       "4              0                   0                      0   \n",
       "\n",
       "   Entity_Battlefield  Entity_Borderlands  Entity_CS-GO  Entity_CallOfDuty  \\\n",
       "0                   0                   1             0                  0   \n",
       "1                   0                   0             0                  0   \n",
       "2                   0                   0             0                  0   \n",
       "3                   0                   0             0                  0   \n",
       "4                   1                   0             0                  0   \n",
       "\n",
       "   ...  Entity_PlayerUnknownsBattlegrounds(PUBG)  \\\n",
       "0  ...                                         0   \n",
       "1  ...                                         0   \n",
       "2  ...                                         0   \n",
       "3  ...                                         0   \n",
       "4  ...                                         0   \n",
       "\n",
       "   Entity_RedDeadRedemption(RDR)  Entity_TomClancysGhostRecon  \\\n",
       "0                              0                            0   \n",
       "1                              0                            1   \n",
       "2                              0                            0   \n",
       "3                              0                            0   \n",
       "4                              0                            0   \n",
       "\n",
       "   Entity_TomClancysRainbowSix  Entity_Verizon  Entity_WorldOfCraft  \\\n",
       "0                            0               0                    0   \n",
       "1                            0               0                    0   \n",
       "2                            0               0                    0   \n",
       "3                            0               0                    0   \n",
       "4                            0               0                    0   \n",
       "\n",
       "   Entity_Xbox(Xseries)  Entity_johnson&johnson  Polarity  Subjectivity  \n",
       "0                     0                       0    0.0000        0.3625  \n",
       "1                     0                       0    0.5375        0.4750  \n",
       "2                     0                       0    0.1375        0.4250  \n",
       "3                     0                       0   -0.4000        0.8000  \n",
       "4                     0                       0    0.0000        0.0000  \n",
       "\n",
       "[5 rows x 37 columns]"
      ]
     },
     "execution_count": 14,
     "metadata": {},
     "output_type": "execute_result"
    }
   ],
   "source": [
    "df.head()"
   ]
  },
  {
   "cell_type": "markdown",
   "metadata": {},
   "source": [
    "### Labels to Indexes (and Back Again)\n",
    "\n",
    "Here, as discussed above, we create a dictionary in order to change the text in the \"Sentiment\" column into an index representing the predicted sentiment.\n",
    "\n",
    "We then convert the \"Sentiment\" column in the training data to the labels, which is what we will learn to predict"
   ]
  },
  {
   "cell_type": "code",
   "execution_count": 15,
   "metadata": {},
   "outputs": [],
   "source": [
    "#Define the indexing for each possible label in a dictionary\n",
    "class_to_index = {\"Neutral\":0, \"Irrelevant\":1, \"Negative\":2, \"Positive\": 3}\n",
    "\n",
    "#Creates a reverse dictionary\n",
    "index_to_class = dict((v,k) for k, v in class_to_index.items())\n",
    "\n",
    "#Creates lambda functions, applying the appropriate dictionary\n",
    "names_to_ids = lambda n: np.array([class_to_index.get(x) for x in n])\n",
    "ids_to_names = lambda n: np.array([index_to_class.get(x) for x in n])"
   ]
  },
  {
   "cell_type": "code",
   "execution_count": 16,
   "metadata": {},
   "outputs": [
    {
     "name": "stdout",
     "output_type": "stream",
     "text": [
      "[3 2 1 0]\n",
      "['Neutral' 'Irrelevant' 'Negative' 'Positive']\n"
     ]
    }
   ],
   "source": [
    "#Test each function\n",
    "print(names_to_ids([\"Positive\", \"Negative\", \"Irrelevant\", \"Neutral\"]))\n",
    "print(ids_to_names([0,1,2,3]))"
   ]
  },
  {
   "cell_type": "code",
   "execution_count": 17,
   "metadata": {},
   "outputs": [],
   "source": [
    "#Convert the \"Sentiment\" column into indexes\n",
    "df[\"Sentiment\"] = names_to_ids(df[\"Sentiment\"])"
   ]
  },
  {
   "cell_type": "code",
   "execution_count": 18,
   "metadata": {},
   "outputs": [
    {
     "data": {
      "text/html": [
       "<div>\n",
       "<style scoped>\n",
       "    .dataframe tbody tr th:only-of-type {\n",
       "        vertical-align: middle;\n",
       "    }\n",
       "\n",
       "    .dataframe tbody tr th {\n",
       "        vertical-align: top;\n",
       "    }\n",
       "\n",
       "    .dataframe thead th {\n",
       "        text-align: right;\n",
       "    }\n",
       "</style>\n",
       "<table border=\"1\" class=\"dataframe\">\n",
       "  <thead>\n",
       "    <tr style=\"text-align: right;\">\n",
       "      <th></th>\n",
       "      <th>Tweet_ID</th>\n",
       "      <th>Sentiment</th>\n",
       "      <th>Tweet_Content</th>\n",
       "      <th>Entity_Amazon</th>\n",
       "      <th>Entity_ApexLegends</th>\n",
       "      <th>Entity_AssassinsCreed</th>\n",
       "      <th>Entity_Battlefield</th>\n",
       "      <th>Entity_Borderlands</th>\n",
       "      <th>Entity_CS-GO</th>\n",
       "      <th>Entity_CallOfDuty</th>\n",
       "      <th>...</th>\n",
       "      <th>Entity_PlayerUnknownsBattlegrounds(PUBG)</th>\n",
       "      <th>Entity_RedDeadRedemption(RDR)</th>\n",
       "      <th>Entity_TomClancysGhostRecon</th>\n",
       "      <th>Entity_TomClancysRainbowSix</th>\n",
       "      <th>Entity_Verizon</th>\n",
       "      <th>Entity_WorldOfCraft</th>\n",
       "      <th>Entity_Xbox(Xseries)</th>\n",
       "      <th>Entity_johnson&amp;johnson</th>\n",
       "      <th>Polarity</th>\n",
       "      <th>Subjectivity</th>\n",
       "    </tr>\n",
       "  </thead>\n",
       "  <tbody>\n",
       "    <tr>\n",
       "      <th>0</th>\n",
       "      <td>2535</td>\n",
       "      <td>2</td>\n",
       "      <td>@ Borderlands. Can we get a big fix please? I'...</td>\n",
       "      <td>0</td>\n",
       "      <td>0</td>\n",
       "      <td>0</td>\n",
       "      <td>0</td>\n",
       "      <td>1</td>\n",
       "      <td>0</td>\n",
       "      <td>0</td>\n",
       "      <td>...</td>\n",
       "      <td>0</td>\n",
       "      <td>0</td>\n",
       "      <td>0</td>\n",
       "      <td>0</td>\n",
       "      <td>0</td>\n",
       "      <td>0</td>\n",
       "      <td>0</td>\n",
       "      <td>0</td>\n",
       "      <td>0.0000</td>\n",
       "      <td>0.3625</td>\n",
       "    </tr>\n",
       "    <tr>\n",
       "      <th>1</th>\n",
       "      <td>11073</td>\n",
       "      <td>2</td>\n",
       "      <td>@GhostRecon You call 1.1.0 an update. You're h...</td>\n",
       "      <td>0</td>\n",
       "      <td>0</td>\n",
       "      <td>0</td>\n",
       "      <td>0</td>\n",
       "      <td>0</td>\n",
       "      <td>0</td>\n",
       "      <td>0</td>\n",
       "      <td>...</td>\n",
       "      <td>0</td>\n",
       "      <td>0</td>\n",
       "      <td>1</td>\n",
       "      <td>0</td>\n",
       "      <td>0</td>\n",
       "      <td>0</td>\n",
       "      <td>0</td>\n",
       "      <td>0</td>\n",
       "      <td>0.5375</td>\n",
       "      <td>0.4750</td>\n",
       "    </tr>\n",
       "    <tr>\n",
       "      <th>2</th>\n",
       "      <td>3024</td>\n",
       "      <td>0</td>\n",
       "      <td>I'm excited to watch the EU's closed qualifyin...</td>\n",
       "      <td>0</td>\n",
       "      <td>0</td>\n",
       "      <td>0</td>\n",
       "      <td>0</td>\n",
       "      <td>0</td>\n",
       "      <td>0</td>\n",
       "      <td>0</td>\n",
       "      <td>...</td>\n",
       "      <td>0</td>\n",
       "      <td>0</td>\n",
       "      <td>0</td>\n",
       "      <td>0</td>\n",
       "      <td>0</td>\n",
       "      <td>0</td>\n",
       "      <td>0</td>\n",
       "      <td>0</td>\n",
       "      <td>0.1375</td>\n",
       "      <td>0.4250</td>\n",
       "    </tr>\n",
       "    <tr>\n",
       "      <th>3</th>\n",
       "      <td>6719</td>\n",
       "      <td>2</td>\n",
       "      <td>anyways but my fortnite here,, im annoyed.</td>\n",
       "      <td>0</td>\n",
       "      <td>0</td>\n",
       "      <td>0</td>\n",
       "      <td>0</td>\n",
       "      <td>0</td>\n",
       "      <td>0</td>\n",
       "      <td>0</td>\n",
       "      <td>...</td>\n",
       "      <td>0</td>\n",
       "      <td>0</td>\n",
       "      <td>0</td>\n",
       "      <td>0</td>\n",
       "      <td>0</td>\n",
       "      <td>0</td>\n",
       "      <td>0</td>\n",
       "      <td>0</td>\n",
       "      <td>-0.4000</td>\n",
       "      <td>0.8000</td>\n",
       "    </tr>\n",
       "    <tr>\n",
       "      <th>4</th>\n",
       "      <td>1533</td>\n",
       "      <td>2</td>\n",
       "      <td>Collateral with the revolver is so satisfying....</td>\n",
       "      <td>0</td>\n",
       "      <td>0</td>\n",
       "      <td>0</td>\n",
       "      <td>1</td>\n",
       "      <td>0</td>\n",
       "      <td>0</td>\n",
       "      <td>0</td>\n",
       "      <td>...</td>\n",
       "      <td>0</td>\n",
       "      <td>0</td>\n",
       "      <td>0</td>\n",
       "      <td>0</td>\n",
       "      <td>0</td>\n",
       "      <td>0</td>\n",
       "      <td>0</td>\n",
       "      <td>0</td>\n",
       "      <td>0.0000</td>\n",
       "      <td>0.0000</td>\n",
       "    </tr>\n",
       "  </tbody>\n",
       "</table>\n",
       "<p>5 rows × 37 columns</p>\n",
       "</div>"
      ],
      "text/plain": [
       "   Tweet_ID  Sentiment                                      Tweet_Content  \\\n",
       "0      2535          2  @ Borderlands. Can we get a big fix please? I'...   \n",
       "1     11073          2  @GhostRecon You call 1.1.0 an update. You're h...   \n",
       "2      3024          0  I'm excited to watch the EU's closed qualifyin...   \n",
       "3      6719          2         anyways but my fortnite here,, im annoyed.   \n",
       "4      1533          2  Collateral with the revolver is so satisfying....   \n",
       "\n",
       "   Entity_Amazon  Entity_ApexLegends  Entity_AssassinsCreed  \\\n",
       "0              0                   0                      0   \n",
       "1              0                   0                      0   \n",
       "2              0                   0                      0   \n",
       "3              0                   0                      0   \n",
       "4              0                   0                      0   \n",
       "\n",
       "   Entity_Battlefield  Entity_Borderlands  Entity_CS-GO  Entity_CallOfDuty  \\\n",
       "0                   0                   1             0                  0   \n",
       "1                   0                   0             0                  0   \n",
       "2                   0                   0             0                  0   \n",
       "3                   0                   0             0                  0   \n",
       "4                   1                   0             0                  0   \n",
       "\n",
       "   ...  Entity_PlayerUnknownsBattlegrounds(PUBG)  \\\n",
       "0  ...                                         0   \n",
       "1  ...                                         0   \n",
       "2  ...                                         0   \n",
       "3  ...                                         0   \n",
       "4  ...                                         0   \n",
       "\n",
       "   Entity_RedDeadRedemption(RDR)  Entity_TomClancysGhostRecon  \\\n",
       "0                              0                            0   \n",
       "1                              0                            1   \n",
       "2                              0                            0   \n",
       "3                              0                            0   \n",
       "4                              0                            0   \n",
       "\n",
       "   Entity_TomClancysRainbowSix  Entity_Verizon  Entity_WorldOfCraft  \\\n",
       "0                            0               0                    0   \n",
       "1                            0               0                    0   \n",
       "2                            0               0                    0   \n",
       "3                            0               0                    0   \n",
       "4                            0               0                    0   \n",
       "\n",
       "   Entity_Xbox(Xseries)  Entity_johnson&johnson  Polarity  Subjectivity  \n",
       "0                     0                       0    0.0000        0.3625  \n",
       "1                     0                       0    0.5375        0.4750  \n",
       "2                     0                       0    0.1375        0.4250  \n",
       "3                     0                       0   -0.4000        0.8000  \n",
       "4                     0                       0    0.0000        0.0000  \n",
       "\n",
       "[5 rows x 37 columns]"
      ]
     },
     "execution_count": 18,
     "metadata": {},
     "output_type": "execute_result"
    }
   ],
   "source": [
    "df.head()"
   ]
  },
  {
   "cell_type": "markdown",
   "metadata": {},
   "source": [
    "## NLP Data Enrichment\n",
    "\n",
    "In this section, we work with the text in the \"Tweet_Content\" column, extracting all the insight from this that we can, and converting it into a useable format for the neural network that we will train later. This involves removing words that have little meaning (stop word removal), and grouping words with the same meaning regardless of details such as tense (lemmatisation). Then, we use tokenisation in order to codify the presence of words into a matrix, similar in fashion to one-hot encoding. This is known as a \"Bag of Words\" method.\n",
    "\n",
    "Sections under this header include:\n",
    "\n",
    "- Stop Word Removal and Lemmatisation with NLTK\n",
    "- Tokenisation\n",
    "- Adding the Tokenised Strings to the DataFrame"
   ]
  },
  {
   "cell_type": "markdown",
   "metadata": {},
   "source": [
    "### Stop Word Removal and Lemmatisation with NLTK\n",
    "\n",
    "Here, we first split each string into its individual words, before checking if these:\n",
    "1. Contain text\n",
    "2. Are in the list of stopwords\n",
    "\n",
    "If there is no text in the word, meaning there are only numbers or punctuation (or other characters), or the word is a stop word (words such as \"with\", \"a\", \"the\"), then the word is removed from the string.\n",
    "\n",
    "We also lemmatise in this step, in which we convert words into their root form, such that tense and other details can be ignored in our final model (a negative statement in the past tense is still negative)."
   ]
  },
  {
   "cell_type": "code",
   "execution_count": 19,
   "metadata": {},
   "outputs": [],
   "source": [
    "def remove_stopwords(ls):\n",
    "    #Lemmatises, then removes stop words\n",
    "    ls = [lemmatiser.lemmatize(word) for word in ls if word not in (stop_english) and (word.isalpha())]\n",
    "    \n",
    "    #Joins the words back into a single string\n",
    "    ls = \" \".join(ls)\n",
    "    return ls\n",
    "\n",
    "#Splits each string into a list of words\n",
    "df[\"Tweet_Content_Split\"] = df[\"Tweet_Content\"].apply(word_tokenize)\n",
    "\n",
    "#Applies the above function to each entry in the DataFrame\n",
    "lemmatiser = WordNetLemmatizer()\n",
    "stop_english = Counter(stopwords.words()) #Here we use a Counter dictionary on the cached\n",
    "                                          # list of stop words for a huge speed-up\n",
    "df[\"Tweet_Content_Split\"] = df[\"Tweet_Content_Split\"].apply(remove_stopwords)"
   ]
  },
  {
   "cell_type": "code",
   "execution_count": 20,
   "metadata": {
    "scrolled": true
   },
   "outputs": [
    {
     "data": {
      "text/html": [
       "<div>\n",
       "<style scoped>\n",
       "    .dataframe tbody tr th:only-of-type {\n",
       "        vertical-align: middle;\n",
       "    }\n",
       "\n",
       "    .dataframe tbody tr th {\n",
       "        vertical-align: top;\n",
       "    }\n",
       "\n",
       "    .dataframe thead th {\n",
       "        text-align: right;\n",
       "    }\n",
       "</style>\n",
       "<table border=\"1\" class=\"dataframe\">\n",
       "  <thead>\n",
       "    <tr style=\"text-align: right;\">\n",
       "      <th></th>\n",
       "      <th>Tweet_ID</th>\n",
       "      <th>Sentiment</th>\n",
       "      <th>Tweet_Content</th>\n",
       "      <th>Entity_Amazon</th>\n",
       "      <th>Entity_ApexLegends</th>\n",
       "      <th>Entity_AssassinsCreed</th>\n",
       "      <th>Entity_Battlefield</th>\n",
       "      <th>Entity_Borderlands</th>\n",
       "      <th>Entity_CS-GO</th>\n",
       "      <th>Entity_CallOfDuty</th>\n",
       "      <th>...</th>\n",
       "      <th>Entity_RedDeadRedemption(RDR)</th>\n",
       "      <th>Entity_TomClancysGhostRecon</th>\n",
       "      <th>Entity_TomClancysRainbowSix</th>\n",
       "      <th>Entity_Verizon</th>\n",
       "      <th>Entity_WorldOfCraft</th>\n",
       "      <th>Entity_Xbox(Xseries)</th>\n",
       "      <th>Entity_johnson&amp;johnson</th>\n",
       "      <th>Polarity</th>\n",
       "      <th>Subjectivity</th>\n",
       "      <th>Tweet_Content_Split</th>\n",
       "    </tr>\n",
       "  </thead>\n",
       "  <tbody>\n",
       "    <tr>\n",
       "      <th>0</th>\n",
       "      <td>2535</td>\n",
       "      <td>2</td>\n",
       "      <td>@ Borderlands. Can we get a big fix please? I'...</td>\n",
       "      <td>0</td>\n",
       "      <td>0</td>\n",
       "      <td>0</td>\n",
       "      <td>0</td>\n",
       "      <td>1</td>\n",
       "      <td>0</td>\n",
       "      <td>0</td>\n",
       "      <td>...</td>\n",
       "      <td>0</td>\n",
       "      <td>0</td>\n",
       "      <td>0</td>\n",
       "      <td>0</td>\n",
       "      <td>0</td>\n",
       "      <td>0</td>\n",
       "      <td>0</td>\n",
       "      <td>0.0000</td>\n",
       "      <td>0.3625</td>\n",
       "      <td>Borderlands Can get big fix please I reset ent...</td>\n",
       "    </tr>\n",
       "    <tr>\n",
       "      <th>1</th>\n",
       "      <td>11073</td>\n",
       "      <td>2</td>\n",
       "      <td>@GhostRecon You call 1.1.0 an update. You're h...</td>\n",
       "      <td>0</td>\n",
       "      <td>0</td>\n",
       "      <td>0</td>\n",
       "      <td>0</td>\n",
       "      <td>0</td>\n",
       "      <td>0</td>\n",
       "      <td>0</td>\n",
       "      <td>...</td>\n",
       "      <td>0</td>\n",
       "      <td>1</td>\n",
       "      <td>0</td>\n",
       "      <td>0</td>\n",
       "      <td>0</td>\n",
       "      <td>0</td>\n",
       "      <td>0</td>\n",
       "      <td>0.5375</td>\n",
       "      <td>0.4750</td>\n",
       "      <td>GhostRecon You call update You laugh stay conn...</td>\n",
       "    </tr>\n",
       "    <tr>\n",
       "      <th>2</th>\n",
       "      <td>3024</td>\n",
       "      <td>0</td>\n",
       "      <td>I'm excited to watch the EU's closed qualifyin...</td>\n",
       "      <td>0</td>\n",
       "      <td>0</td>\n",
       "      <td>0</td>\n",
       "      <td>0</td>\n",
       "      <td>0</td>\n",
       "      <td>0</td>\n",
       "      <td>0</td>\n",
       "      <td>...</td>\n",
       "      <td>0</td>\n",
       "      <td>0</td>\n",
       "      <td>0</td>\n",
       "      <td>0</td>\n",
       "      <td>0</td>\n",
       "      <td>0</td>\n",
       "      <td>0</td>\n",
       "      <td>0.1375</td>\n",
       "      <td>0.4250</td>\n",
       "      <td>I excited watch EU closed qualifying match EU ...</td>\n",
       "    </tr>\n",
       "    <tr>\n",
       "      <th>3</th>\n",
       "      <td>6719</td>\n",
       "      <td>2</td>\n",
       "      <td>anyways but my fortnite here,, im annoyed.</td>\n",
       "      <td>0</td>\n",
       "      <td>0</td>\n",
       "      <td>0</td>\n",
       "      <td>0</td>\n",
       "      <td>0</td>\n",
       "      <td>0</td>\n",
       "      <td>0</td>\n",
       "      <td>...</td>\n",
       "      <td>0</td>\n",
       "      <td>0</td>\n",
       "      <td>0</td>\n",
       "      <td>0</td>\n",
       "      <td>0</td>\n",
       "      <td>0</td>\n",
       "      <td>0</td>\n",
       "      <td>-0.4000</td>\n",
       "      <td>0.8000</td>\n",
       "      <td>anyways fortnite annoyed</td>\n",
       "    </tr>\n",
       "    <tr>\n",
       "      <th>4</th>\n",
       "      <td>1533</td>\n",
       "      <td>2</td>\n",
       "      <td>Collateral with the revolver is so satisfying....</td>\n",
       "      <td>0</td>\n",
       "      <td>0</td>\n",
       "      <td>0</td>\n",
       "      <td>1</td>\n",
       "      <td>0</td>\n",
       "      <td>0</td>\n",
       "      <td>0</td>\n",
       "      <td>...</td>\n",
       "      <td>0</td>\n",
       "      <td>0</td>\n",
       "      <td>0</td>\n",
       "      <td>0</td>\n",
       "      <td>0</td>\n",
       "      <td>0</td>\n",
       "      <td>0</td>\n",
       "      <td>0.0000</td>\n",
       "      <td>0.0000</td>\n",
       "      <td>Collateral revolver unk</td>\n",
       "    </tr>\n",
       "  </tbody>\n",
       "</table>\n",
       "<p>5 rows × 38 columns</p>\n",
       "</div>"
      ],
      "text/plain": [
       "   Tweet_ID  Sentiment                                      Tweet_Content  \\\n",
       "0      2535          2  @ Borderlands. Can we get a big fix please? I'...   \n",
       "1     11073          2  @GhostRecon You call 1.1.0 an update. You're h...   \n",
       "2      3024          0  I'm excited to watch the EU's closed qualifyin...   \n",
       "3      6719          2         anyways but my fortnite here,, im annoyed.   \n",
       "4      1533          2  Collateral with the revolver is so satisfying....   \n",
       "\n",
       "   Entity_Amazon  Entity_ApexLegends  Entity_AssassinsCreed  \\\n",
       "0              0                   0                      0   \n",
       "1              0                   0                      0   \n",
       "2              0                   0                      0   \n",
       "3              0                   0                      0   \n",
       "4              0                   0                      0   \n",
       "\n",
       "   Entity_Battlefield  Entity_Borderlands  Entity_CS-GO  Entity_CallOfDuty  \\\n",
       "0                   0                   1             0                  0   \n",
       "1                   0                   0             0                  0   \n",
       "2                   0                   0             0                  0   \n",
       "3                   0                   0             0                  0   \n",
       "4                   1                   0             0                  0   \n",
       "\n",
       "   ...  Entity_RedDeadRedemption(RDR)  Entity_TomClancysGhostRecon  \\\n",
       "0  ...                              0                            0   \n",
       "1  ...                              0                            1   \n",
       "2  ...                              0                            0   \n",
       "3  ...                              0                            0   \n",
       "4  ...                              0                            0   \n",
       "\n",
       "   Entity_TomClancysRainbowSix  Entity_Verizon  Entity_WorldOfCraft  \\\n",
       "0                            0               0                    0   \n",
       "1                            0               0                    0   \n",
       "2                            0               0                    0   \n",
       "3                            0               0                    0   \n",
       "4                            0               0                    0   \n",
       "\n",
       "   Entity_Xbox(Xseries)  Entity_johnson&johnson  Polarity  Subjectivity  \\\n",
       "0                     0                       0    0.0000        0.3625   \n",
       "1                     0                       0    0.5375        0.4750   \n",
       "2                     0                       0    0.1375        0.4250   \n",
       "3                     0                       0   -0.4000        0.8000   \n",
       "4                     0                       0    0.0000        0.0000   \n",
       "\n",
       "                                 Tweet_Content_Split  \n",
       "0  Borderlands Can get big fix please I reset ent...  \n",
       "1  GhostRecon You call update You laugh stay conn...  \n",
       "2  I excited watch EU closed qualifying match EU ...  \n",
       "3                           anyways fortnite annoyed  \n",
       "4                            Collateral revolver unk  \n",
       "\n",
       "[5 rows x 38 columns]"
      ]
     },
     "execution_count": 20,
     "metadata": {},
     "output_type": "execute_result"
    }
   ],
   "source": [
    "df.head()"
   ]
  },
  {
   "cell_type": "markdown",
   "metadata": {},
   "source": [
    "### Tokenisation\n",
    "\n",
    "We create tokens for the most common words in the dataset, so we can represent the presence of words in our created corpus (the n most common words) with a list of integers. "
   ]
  },
  {
   "cell_type": "code",
   "execution_count": 21,
   "metadata": {},
   "outputs": [],
   "source": [
    "#Define the Tokeniser\n",
    "tokeniser = Tokenizer(num_words=1000, lower=True)\n",
    "\n",
    "#Create the corpus by finding the most common \n",
    "tokeniser.fit_on_texts(df[\"Tweet_Content_Split\"])"
   ]
  },
  {
   "cell_type": "code",
   "execution_count": 22,
   "metadata": {},
   "outputs": [],
   "source": [
    "#Tokenise our column of edited Tweet content\n",
    "tweet_tokens = tokeniser.texts_to_matrix(list(df[\"Tweet_Content_Split\"]))"
   ]
  },
  {
   "cell_type": "code",
   "execution_count": 23,
   "metadata": {},
   "outputs": [
    {
     "data": {
      "text/plain": [
       "(7400, 1000)"
      ]
     },
     "execution_count": 23,
     "metadata": {},
     "output_type": "execute_result"
    }
   ],
   "source": [
    "tweet_tokens.shape"
   ]
  },
  {
   "cell_type": "markdown",
   "metadata": {},
   "source": [
    "### Adding the Tokenised Strings to the DataFrame\n",
    "\n",
    "Currently, the tokens are contained in a matrix titled \"tweet_tokens\". We then want to combine these back into the dataframe containing all of the current data. This is completed below, and then we test to make sure that this has occurred correctly by looking at the number of columns compared to that of the original matrices."
   ]
  },
  {
   "cell_type": "code",
   "execution_count": 24,
   "metadata": {},
   "outputs": [
    {
     "name": "stdout",
     "output_type": "stream",
     "text": [
      "(7400, 38)\n",
      "(7400, 1000)\n"
     ]
    }
   ],
   "source": [
    "print(df.shape)\n",
    "print(tweet_tokens.shape)"
   ]
  },
  {
   "cell_type": "code",
   "execution_count": 25,
   "metadata": {
    "scrolled": true
   },
   "outputs": [
    {
     "data": {
      "text/plain": [
       "(7400, 1038)"
      ]
     },
     "execution_count": 25,
     "metadata": {},
     "output_type": "execute_result"
    }
   ],
   "source": [
    "#Combining the dataframe with the tokens using pd.concat\n",
    "full_df = pd.concat([df, pd.DataFrame(tweet_tokens)], sort=False, axis=1)\n",
    "full_df.shape"
   ]
  },
  {
   "cell_type": "markdown",
   "metadata": {},
   "source": [
    "## Final Data Preparation\n",
    "\n",
    "The data is now almost ready for a model to be trained on it, but a few final preparations will need to occur. For example, we need to drop the columns that we don't plan to use, such as the \"Tweet_Content\" column, which has had its useful information extracted already.\n",
    "\n",
    "We also split the data into a training and test set, such that we can evaluate our model's performance without touching the held-out data. We do this because if we continually test against this held-out data, it loses its usefulness as unseen \"real-world\" data.\n",
    "\n",
    "Sections under this header include:\n",
    "- Dropping Unused Data\n",
    "- Test-Train Split"
   ]
  },
  {
   "cell_type": "markdown",
   "metadata": {},
   "source": [
    "### Dropping Unused Data\n",
    "\n",
    "We drop non-useful columns from the DataFrame here. These either have no use (Tweet ID), or have already had the useful information extracted (Tweet Content). We also remove the \"y\" or dependent variable here, so we don't accidentally train on it."
   ]
  },
  {
   "cell_type": "code",
   "execution_count": 26,
   "metadata": {},
   "outputs": [],
   "source": [
    "#Remove dependent variable\n",
    "y = full_df[\"Sentiment\"]\n",
    "\n",
    "#Drop all non-useful columns\n",
    "full_df = full_df.drop([\"Sentiment\", \"Tweet_ID\", \"Tweet_Content\", \"Tweet_Content_Split\"], axis=1)"
   ]
  },
  {
   "cell_type": "code",
   "execution_count": 27,
   "metadata": {},
   "outputs": [
    {
     "data": {
      "text/plain": [
       "(7400, 1034)"
      ]
     },
     "execution_count": 27,
     "metadata": {},
     "output_type": "execute_result"
    }
   ],
   "source": [
    "#Display final shape\n",
    "full_df.shape"
   ]
  },
  {
   "cell_type": "markdown",
   "metadata": {},
   "source": [
    "### Test-Train Split\n",
    "\n",
    "Here, we use SciKit-Learn's inbuilt function to split our data into a test set and a train set, with the appropriate labels. We use a constant random state to make this replicable."
   ]
  },
  {
   "cell_type": "code",
   "execution_count": 28,
   "metadata": {},
   "outputs": [],
   "source": [
    "X_train, X_test, y_train, y_test = train_test_split(full_df, y, test_size=0.2, random_state=1)"
   ]
  },
  {
   "cell_type": "markdown",
   "metadata": {},
   "source": [
    "## Model Construction and Training\n",
    "\n",
    "Finally, it is time to construct our model. In this case, we use a neural network constructed with Keras. We then train it with our data in the training dataset, and validate using the test datasets.\n",
    "\n",
    "Sections under this header include:\n",
    "- Model Construction\n",
    "- Training"
   ]
  },
  {
   "cell_type": "markdown",
   "metadata": {},
   "source": [
    "### Model Construction\n",
    "\n",
    "Here, we define the neural network that we will train to predict the output. This model is constructed with the following layers:\n",
    "1. Dense\n",
    "2. Dropout\n",
    "\n",
    "The Dense layers are fully-connected layers. This means that inbetween each layer, we can transfer data from any neuron to any one in the next layer (or indeed all others), scaled by the weight associated with that transfer. These weights are trained.\n",
    "\n",
    "The Dropout layers prevent our overall weights from getting too large, as can happen with larger neural networks. This helps to stop certain areas of the network from overloading the network as a whole.\n"
   ]
  },
  {
   "cell_type": "code",
   "execution_count": 29,
   "metadata": {},
   "outputs": [],
   "source": [
    "#Test model\n",
    "model = tf.keras.models.Sequential([\n",
    "    tf.keras.layers.Dense(12, input_dim=1034, activation='relu'),\n",
    "    tf.keras.layers.Dense(8, activation='relu'),\n",
    "    tf.keras.layers.Dense(50, activation='relu'),\n",
    "    tf.keras.layers.Dropout(0.1),\n",
    "    tf.keras.layers.Dense(12, activation='relu'),\n",
    "    tf.keras.layers.Dense(50, activation='relu'),\n",
    "    tf.keras.layers.Dense(4, activation='sigmoid')\n",
    "])\n",
    "model.compile(\n",
    "     loss='sparse_categorical_crossentropy',\n",
    "     optimizer='adam',\n",
    "     metrics=['accuracy']\n",
    ")"
   ]
  },
  {
   "cell_type": "markdown",
   "metadata": {},
   "source": [
    "### Training\n",
    "\n",
    "Next, we fit this model with our data, using backpropagation, for 30 epochs. We can view the increase in accuracy of the model through the different epochs, on both the training and test dataset."
   ]
  },
  {
   "cell_type": "code",
   "execution_count": 30,
   "metadata": {},
   "outputs": [
    {
     "name": "stdout",
     "output_type": "stream",
     "text": [
      "Epoch 1/30\n",
      "185/185 [==============================] - 1s 3ms/step - loss: 1.2969 - accuracy: 0.3829 - val_loss: 1.2252 - val_accuracy: 0.4426\n",
      "Epoch 2/30\n",
      "185/185 [==============================] - 0s 2ms/step - loss: 1.1477 - accuracy: 0.4833 - val_loss: 1.2102 - val_accuracy: 0.4547\n",
      "Epoch 3/30\n",
      "185/185 [==============================] - 0s 2ms/step - loss: 1.0464 - accuracy: 0.5486 - val_loss: 1.1872 - val_accuracy: 0.4973\n",
      "Epoch 4/30\n",
      "185/185 [==============================] - 1s 3ms/step - loss: 0.9398 - accuracy: 0.6025 - val_loss: 1.2262 - val_accuracy: 0.4953\n",
      "Epoch 5/30\n",
      "185/185 [==============================] - 0s 2ms/step - loss: 0.8484 - accuracy: 0.6463 - val_loss: 1.2368 - val_accuracy: 0.5014\n",
      "Epoch 6/30\n",
      "185/185 [==============================] - 0s 2ms/step - loss: 0.7745 - accuracy: 0.6765 - val_loss: 1.3381 - val_accuracy: 0.5095\n",
      "Epoch 7/30\n",
      "185/185 [==============================] - 0s 2ms/step - loss: 0.7077 - accuracy: 0.6993 - val_loss: 1.3791 - val_accuracy: 0.5122\n",
      "Epoch 8/30\n",
      "185/185 [==============================] - 0s 2ms/step - loss: 0.6451 - accuracy: 0.7356 - val_loss: 1.4865 - val_accuracy: 0.5074\n",
      "Epoch 9/30\n",
      "185/185 [==============================] - 0s 2ms/step - loss: 0.5994 - accuracy: 0.7576 - val_loss: 1.5533 - val_accuracy: 0.5122\n",
      "Epoch 10/30\n",
      "185/185 [==============================] - 0s 2ms/step - loss: 0.5564 - accuracy: 0.7769 - val_loss: 1.6634 - val_accuracy: 0.5122\n",
      "Epoch 11/30\n",
      "185/185 [==============================] - 0s 2ms/step - loss: 0.5291 - accuracy: 0.7958 - val_loss: 1.7195 - val_accuracy: 0.5122\n",
      "Epoch 12/30\n",
      "185/185 [==============================] - 0s 2ms/step - loss: 0.4940 - accuracy: 0.8091 - val_loss: 1.8339 - val_accuracy: 0.5061\n",
      "Epoch 13/30\n",
      "185/185 [==============================] - 0s 2ms/step - loss: 0.4557 - accuracy: 0.8307 - val_loss: 1.9835 - val_accuracy: 0.5162\n",
      "Epoch 14/30\n",
      "185/185 [==============================] - 0s 2ms/step - loss: 0.4318 - accuracy: 0.8407 - val_loss: 2.0405 - val_accuracy: 0.5155\n",
      "Epoch 15/30\n",
      "185/185 [==============================] - 0s 2ms/step - loss: 0.4159 - accuracy: 0.8492 - val_loss: 2.0547 - val_accuracy: 0.5034\n",
      "Epoch 16/30\n",
      "185/185 [==============================] - 0s 2ms/step - loss: 0.3882 - accuracy: 0.8603 - val_loss: 2.0702 - val_accuracy: 0.5135\n",
      "Epoch 17/30\n",
      "185/185 [==============================] - 0s 2ms/step - loss: 0.3580 - accuracy: 0.8735 - val_loss: 2.2168 - val_accuracy: 0.4993\n",
      "Epoch 18/30\n",
      "185/185 [==============================] - 0s 2ms/step - loss: 0.3297 - accuracy: 0.8834 - val_loss: 2.3550 - val_accuracy: 0.5115\n",
      "Epoch 19/30\n",
      "185/185 [==============================] - 0s 2ms/step - loss: 0.3108 - accuracy: 0.8927 - val_loss: 2.4574 - val_accuracy: 0.5108\n",
      "Epoch 20/30\n",
      "185/185 [==============================] - 0s 2ms/step - loss: 0.3035 - accuracy: 0.8951 - val_loss: 2.4753 - val_accuracy: 0.5122\n",
      "Epoch 21/30\n",
      "185/185 [==============================] - 0s 2ms/step - loss: 0.2989 - accuracy: 0.8970 - val_loss: 2.5407 - val_accuracy: 0.5122\n",
      "Epoch 22/30\n",
      "185/185 [==============================] - 0s 2ms/step - loss: 0.2940 - accuracy: 0.8986 - val_loss: 2.5888 - val_accuracy: 0.4993\n",
      "Epoch 23/30\n",
      "185/185 [==============================] - 0s 2ms/step - loss: 0.2790 - accuracy: 0.9037 - val_loss: 2.6415 - val_accuracy: 0.5169\n",
      "Epoch 24/30\n",
      "185/185 [==============================] - 0s 2ms/step - loss: 0.2549 - accuracy: 0.9128 - val_loss: 2.6475 - val_accuracy: 0.5128\n",
      "Epoch 25/30\n",
      "185/185 [==============================] - 0s 2ms/step - loss: 0.2478 - accuracy: 0.9171 - val_loss: 2.8116 - val_accuracy: 0.5189\n",
      "Epoch 26/30\n",
      "185/185 [==============================] - 0s 2ms/step - loss: 0.2327 - accuracy: 0.9220 - val_loss: 2.7892 - val_accuracy: 0.5047\n",
      "Epoch 27/30\n",
      "185/185 [==============================] - 0s 2ms/step - loss: 0.2192 - accuracy: 0.9272 - val_loss: 2.9644 - val_accuracy: 0.5209\n",
      "Epoch 28/30\n",
      "185/185 [==============================] - 0s 2ms/step - loss: 0.2171 - accuracy: 0.9269 - val_loss: 3.3027 - val_accuracy: 0.5182\n",
      "Epoch 29/30\n",
      "185/185 [==============================] - 0s 2ms/step - loss: 0.2146 - accuracy: 0.9272 - val_loss: 3.2145 - val_accuracy: 0.5128\n",
      "Epoch 30/30\n",
      "185/185 [==============================] - 0s 2ms/step - loss: 0.2087 - accuracy: 0.9302 - val_loss: 3.1181 - val_accuracy: 0.5081\n"
     ]
    }
   ],
   "source": [
    "h = model.fit(\n",
    "     X_train, y_train,\n",
    "     validation_data=(X_test, y_test),\n",
    "     epochs=30,\n",
    "     callbacks=[tf.keras.callbacks.EarlyStopping(monitor='accuracy', patience=5)]\n",
    ")"
   ]
  },
  {
   "cell_type": "markdown",
   "metadata": {},
   "source": [
    "## Model Evaluation\n",
    "\n",
    "Now that we've trained the model, we can view it's accuracy with a confusion matrix. This allows us to see the predictions for Tweets with various true values. From this, we might see that we are better at predicting certain classes than others, such as in this model, where we can predict Negative and Positive sentiment significantly better than Irrelevant or Neutral."
   ]
  },
  {
   "cell_type": "code",
   "execution_count": 31,
   "metadata": {},
   "outputs": [],
   "source": [
    "#Generate predictions\n",
    "y_pred = np.argmax(model.predict(X_test), axis=1)\n",
    "\n",
    "#Assign labels to predictions and test data\n",
    "y_pred_labels = ids_to_names(y_pred)\n",
    "y_test_labels = ids_to_names(y_test)"
   ]
  },
  {
   "cell_type": "code",
   "execution_count": 32,
   "metadata": {},
   "outputs": [
    {
     "data": {
      "text/plain": [
       "<sklearn.metrics._plot.confusion_matrix.ConfusionMatrixDisplay at 0x27665d3ad68>"
      ]
     },
     "execution_count": 32,
     "metadata": {},
     "output_type": "execute_result"
    },
    {
     "data": {
      "image/png": "[encoded data removed]",
      "text/plain": [
       "<Figure size 432x288 with 2 Axes>"
      ]
     },
     "metadata": {
      "needs_background": "light"
     },
     "output_type": "display_data"
    }
   ],
   "source": [
    "y_unique = list(set(y_test_labels))\n",
    "cm = confusion_matrix(y_test_labels, y_pred_labels, labels = y_unique, normalize='true')\n",
    "\n",
    "disp = ConfusionMatrixDisplay(confusion_matrix=cm, display_labels=y_unique)\n",
    "disp.plot()"
   ]
  },
  {
   "cell_type": "markdown",
   "metadata": {},
   "source": [
    "## Training with Full Dataset\n",
    "\n",
    "Now that we are happy with our model, we can train using the full dataset, and predict the held-out test data. This involves performing all of our transformation steps on both this training dataset and the held-out test data. Luckily, we can reuse the code from above to achieve this, so little further explanation is required."
   ]
  },
  {
   "cell_type": "code",
   "execution_count": 33,
   "metadata": {},
   "outputs": [],
   "source": [
    "#Use the full dataset!\n",
    "df = train_df\n",
    "\n",
    "# the test dataframe was loaded earlier and is named test_df"
   ]
  },
  {
   "cell_type": "markdown",
   "metadata": {},
   "source": [
    "### Basic Data Enrichment"
   ]
  },
  {
   "cell_type": "code",
   "execution_count": 34,
   "metadata": {},
   "outputs": [],
   "source": [
    "#One-hot encode using Pandas' get_dummies()\n",
    "\n",
    "##Train\n",
    "onehot = pd.get_dummies(df[\"Entity\"], prefix=\"Entity\")\n",
    "\n",
    "#Join these new columns back into the DataFrame\n",
    "df = df.join(onehot)\n",
    "\n",
    "\n",
    "##Test\n",
    "onehot = pd.get_dummies(test_df[\"Entity\"], prefix=\"Entity\")\n",
    "\n",
    "test_df = test_df.join(onehot)"
   ]
  },
  {
   "cell_type": "code",
   "execution_count": 35,
   "metadata": {},
   "outputs": [],
   "source": [
    "#Enrich using TextBlob's built in sentiment analysis\n",
    "\n",
    "##Train\n",
    "df[\"Polarity\"], df[\"Subjectivity\"] = tb_enrich(list(df[\"Tweet_Content\"]))\n",
    "\n",
    "\n",
    "##Test\n",
    "test_df[\"Polarity\"], test_df[\"Subjectivity\"] = tb_enrich(list(test_df[\"Tweet_Content\"]))"
   ]
  },
  {
   "cell_type": "code",
   "execution_count": 36,
   "metadata": {},
   "outputs": [],
   "source": [
    "#Convert the \"Sentiment\" column into indexes\n",
    "\n",
    "##Train\n",
    "df[\"Sentiment\"] = names_to_ids(df[\"Sentiment\"])\n",
    "y = df[\"Sentiment\"]\n",
    "\n",
    "##Test\n",
    "test_df[\"Sentiment\"] = names_to_ids(test_df[\"Sentiment\"])\n",
    "y_test = test_df[\"Sentiment\"]"
   ]
  },
  {
   "cell_type": "markdown",
   "metadata": {},
   "source": [
    "### NLP Data Enrichment"
   ]
  },
  {
   "cell_type": "code",
   "execution_count": 37,
   "metadata": {},
   "outputs": [],
   "source": [
    "#Removing stopwords and lemmatising\n",
    "\n",
    "##Train\n",
    "#Splits each string into a list of words\n",
    "df[\"Tweet_Content_Split\"] = df[\"Tweet_Content\"].apply(word_tokenize)\n",
    "\n",
    "#Applies the above function to each entry in the DataFrame\n",
    "lemmatiser = WordNetLemmatizer()\n",
    "stop_english = Counter(stopwords.words()) #Here we use a Counter dictionary on the cached\n",
    "                                          # list of stop words for a huge speed-up\n",
    "df[\"Tweet_Content_Split\"] = df[\"Tweet_Content_Split\"].apply(remove_stopwords)\n",
    "\n",
    "##Test\n",
    "test_df[\"Tweet_Content_Split\"] = test_df[\"Tweet_Content\"].apply(word_tokenize)\n",
    "\n",
    "test_df[\"Tweet_Content_Split\"] = test_df[\"Tweet_Content_Split\"].apply(remove_stopwords)"
   ]
  },
  {
   "cell_type": "code",
   "execution_count": 38,
   "metadata": {},
   "outputs": [],
   "source": [
    "#Tokenisation\n",
    "\n",
    "#Define the Tokeniser\n",
    "tokeniser = Tokenizer(num_words=1000, lower=True)\n",
    "\n",
    "#Create the corpus by finding the most common \n",
    "tokeniser.fit_on_texts(df[\"Tweet_Content_Split\"])\n",
    "\n",
    "##Train\n",
    "#Tokenise our column of edited Tweet content\n",
    "tweet_tokens = tokeniser.texts_to_matrix(list(df[\"Tweet_Content_Split\"]))\n",
    "\n",
    "##Test\n",
    "#Tokenise our column of edited Tweet content\n",
    "tweet_tokens_test = tokeniser.texts_to_matrix(list(test_df[\"Tweet_Content_Split\"]))"
   ]
  },
  {
   "cell_type": "code",
   "execution_count": 39,
   "metadata": {},
   "outputs": [],
   "source": [
    "#Combining the dataframe with the tokens using pd.concat\n",
    "\n",
    "#Reset axes to avoid overlapping\n",
    "df.reset_index(drop=True, inplace=True)\n",
    "test_df.reset_index(drop=True, inplace=True)\n",
    "\n",
    "##Train\n",
    "full_df = pd.concat([df, pd.DataFrame(tweet_tokens)], sort=False, axis=1)\n",
    "\n",
    "##Test\n",
    "full_test_df = pd.concat([test_df, pd.DataFrame(tweet_tokens_test)], sort=False, axis=1)"
   ]
  },
  {
   "cell_type": "code",
   "execution_count": 40,
   "metadata": {},
   "outputs": [],
   "source": [
    "#Final prep\n",
    "\n",
    "##Train\n",
    "#Drop all non-useful columns\n",
    "full_df = full_df.drop([\"Sentiment\", \"Tweet_ID\", \"Tweet_Content\", \"Tweet_Content_Split\", \"Entity\"], axis=1)\n",
    "\n",
    "\n",
    "##Test\n",
    "full_test_df = full_test_df.drop([\"Sentiment\", \"Tweet_ID\", \"Tweet_Content\", \"Tweet_Content_Split\", \"Entity\"], axis=1)"
   ]
  },
  {
   "cell_type": "markdown",
   "metadata": {},
   "source": [
    "### Model Definition and Training\n",
    "\n",
    "This time, we train with all of the available training data"
   ]
  },
  {
   "cell_type": "code",
   "execution_count": 41,
   "metadata": {},
   "outputs": [],
   "source": [
    "model = tf.keras.models.Sequential([\n",
    "    tf.keras.layers.Dense(12, input_dim=1034, activation='relu'),\n",
    "    tf.keras.layers.Dense(8, activation='relu'),\n",
    "    tf.keras.layers.Dense(50, activation='relu'),\n",
    "    tf.keras.layers.Dropout(0.1),\n",
    "    tf.keras.layers.Dense(12, activation='relu'),\n",
    "    tf.keras.layers.Dense(50, activation='relu'),\n",
    "    tf.keras.layers.Dense(4, activation='sigmoid')\n",
    "])\n",
    "model.compile(\n",
    "     loss='sparse_categorical_crossentropy',\n",
    "     optimizer='adam',\n",
    "     metrics=['accuracy']\n",
    ")"
   ]
  },
  {
   "cell_type": "code",
   "execution_count": 42,
   "metadata": {},
   "outputs": [
    {
     "name": "stdout",
     "output_type": "stream",
     "text": [
      "Epoch 1/30\n",
      "2313/2313 [==============================] - 5s 2ms/step - loss: 1.0559 - accuracy: 0.5511\n",
      "Epoch 2/30\n",
      "2313/2313 [==============================] - 4s 2ms/step - loss: 0.8679 - accuracy: 0.6511\n",
      "Epoch 3/30\n",
      "2313/2313 [==============================] - 4s 2ms/step - loss: 0.7964 - accuracy: 0.6840\n",
      "Epoch 4/30\n",
      "2313/2313 [==============================] - 4s 2ms/step - loss: 0.7550 - accuracy: 0.7030\n",
      "Epoch 5/30\n",
      "2313/2313 [==============================] - 4s 2ms/step - loss: 0.7264 - accuracy: 0.7181\n",
      "Epoch 6/30\n",
      "2313/2313 [==============================] - 4s 2ms/step - loss: 0.7048 - accuracy: 0.7290\n",
      "Epoch 7/30\n",
      "2313/2313 [==============================] - 4s 2ms/step - loss: 0.6898 - accuracy: 0.7346\n",
      "Epoch 8/30\n",
      "2313/2313 [==============================] - 5s 2ms/step - loss: 0.6762 - accuracy: 0.7407\n",
      "Epoch 9/30\n",
      "2313/2313 [==============================] - 4s 2ms/step - loss: 0.6634 - accuracy: 0.7477\n",
      "Epoch 10/30\n",
      "2313/2313 [==============================] - 4s 2ms/step - loss: 0.6546 - accuracy: 0.7526\n",
      "Epoch 11/30\n",
      "2313/2313 [==============================] - 4s 2ms/step - loss: 0.6468 - accuracy: 0.7564\n",
      "Epoch 12/30\n",
      "2313/2313 [==============================] - ETA: 0s - loss: 0.6379 - accuracy: 0.76 - 4s 2ms/step - loss: 0.6380 - accuracy: 0.7609\n",
      "Epoch 13/30\n",
      "2313/2313 [==============================] - 4s 2ms/step - loss: 0.6308 - accuracy: 0.7637\n",
      "Epoch 14/30\n",
      "2313/2313 [==============================] - 5s 2ms/step - loss: 0.6234 - accuracy: 0.7655\n",
      "Epoch 15/30\n",
      "2313/2313 [==============================] - 4s 2ms/step - loss: 0.6174 - accuracy: 0.7696\n",
      "Epoch 16/30\n",
      "2313/2313 [==============================] - 4s 2ms/step - loss: 0.6128 - accuracy: 0.7717\n",
      "Epoch 17/30\n",
      "2313/2313 [==============================] - 4s 2ms/step - loss: 0.6061 - accuracy: 0.7743\n",
      "Epoch 18/30\n",
      "2313/2313 [==============================] - 4s 2ms/step - loss: 0.6011 - accuracy: 0.7773\n",
      "Epoch 19/30\n",
      "2313/2313 [==============================] - 4s 2ms/step - loss: 0.5973 - accuracy: 0.7783\n",
      "Epoch 20/30\n",
      "2313/2313 [==============================] - 4s 2ms/step - loss: 0.5929 - accuracy: 0.7820\n",
      "Epoch 21/30\n",
      "2313/2313 [==============================] - 4s 2ms/step - loss: 0.5908 - accuracy: 0.7838\n",
      "Epoch 22/30\n",
      "2313/2313 [==============================] - 4s 2ms/step - loss: 0.5858 - accuracy: 0.7851\n",
      "Epoch 23/30\n",
      "2313/2313 [==============================] - 4s 2ms/step - loss: 0.5836 - accuracy: 0.7867\n",
      "Epoch 24/30\n",
      "2313/2313 [==============================] - 4s 2ms/step - loss: 0.5800 - accuracy: 0.7878\n",
      "Epoch 25/30\n",
      "2313/2313 [==============================] - 4s 2ms/step - loss: 0.5767 - accuracy: 0.7888\n",
      "Epoch 26/30\n",
      "2313/2313 [==============================] - 4s 2ms/step - loss: 0.5734 - accuracy: 0.7900\n",
      "Epoch 27/30\n",
      "2313/2313 [==============================] - 4s 2ms/step - loss: 0.5708 - accuracy: 0.7929\n",
      "Epoch 28/30\n",
      "2313/2313 [==============================] - 4s 2ms/step - loss: 0.5677 - accuracy: 0.7929\n",
      "Epoch 29/30\n",
      "2313/2313 [==============================] - 4s 2ms/step - loss: 0.5647 - accuracy: 0.7940\n",
      "Epoch 30/30\n",
      "2313/2313 [==============================] - 4s 2ms/step - loss: 0.5628 - accuracy: 0.7953\n"
     ]
    }
   ],
   "source": [
    "h = model.fit(\n",
    "     full_df, y,\n",
    "     epochs=30,\n",
    "     callbacks=[tf.keras.callbacks.EarlyStopping(monitor='accuracy', patience=5)]\n",
    ")"
   ]
  },
  {
   "cell_type": "markdown",
   "metadata": {},
   "source": [
    "## Final Model Evaluation"
   ]
  },
  {
   "cell_type": "code",
   "execution_count": 43,
   "metadata": {},
   "outputs": [],
   "source": [
    "#Generate predictions\n",
    "y_pred = np.argmax(model.predict(full_test_df), axis=1)\n",
    "\n",
    "#Assign labels to predictions and test data\n",
    "y_pred_labels = ids_to_names(y_pred)\n",
    "y_test_labels = ids_to_names(y_test)"
   ]
  },
  {
   "cell_type": "code",
   "execution_count": 44,
   "metadata": {},
   "outputs": [
    {
     "data": {
      "text/plain": [
       "<sklearn.metrics._plot.confusion_matrix.ConfusionMatrixDisplay at 0x27603003128>"
      ]
     },
     "execution_count": 44,
     "metadata": {},
     "output_type": "execute_result"
    },
    {
     "data": {
      "image/png": "[encoded data removed]",
      "text/plain": [
       "<Figure size 432x288 with 2 Axes>"
      ]
     },
     "metadata": {
      "needs_background": "light"
     },
     "output_type": "display_data"
    }
   ],
   "source": [
    "y_unique = list(set(y_test_labels))\n",
    "cm = confusion_matrix(y_test_labels, y_pred_labels, labels = y_unique, normalize='true')\n",
    "\n",
    "disp = ConfusionMatrixDisplay(confusion_matrix=cm, display_labels=y_unique)\n",
    "disp.plot()"
   ]
  },
  {
   "cell_type": "code",
   "execution_count": 45,
   "metadata": {},
   "outputs": [
    {
     "data": {
      "text/plain": [
       "0.841"
      ]
     },
     "execution_count": 45,
     "metadata": {},
     "output_type": "execute_result"
    }
   ],
   "source": [
    "#To see the final accuracy\n",
    "accuracy_score(y_test, y_pred)"
   ]
  }
 ],
 "metadata": {
  "kernelspec": {
   "display_name": "Python 3",
   "language": "python",
   "name": "python3"
  },
  "language_info": {
   "codemirror_mode": {
    "name": "ipython",
    "version": 3
   },
   "file_extension": ".py",
   "mimetype": "text/x-python",
   "name": "python",
   "nbconvert_exporter": "python",
   "pygments_lexer": "ipython3",
   "version": "3.6.12"
  }
 },
 "nbformat": 4,
 "nbformat_minor": 4
}
