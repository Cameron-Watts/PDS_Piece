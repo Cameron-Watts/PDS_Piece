{
 "cells": [
  {
   "cell_type": "markdown",
   "metadata": {},
   "source": [
    "## Preparation\n",
    "\n",
    "This section is where we prepare for the project, through a variety of initial steps. The steps in this section are as follows:\n",
    "\n",
    "- Importing Packages\n",
    "- Importing Data\n",
    "- Dropping NA Values\n",
    "- Subsetting Data"
   ]
  },
  {
   "cell_type": "markdown",
   "metadata": {},
   "source": [
    "### Importing Packages"
   ]
  },
  {
   "cell_type": "code",
   "execution_count": 1,
   "metadata": {},
   "outputs": [],
   "source": [
    "#Data management\n",
    "import pandas as pd\n",
    "import numpy as np\n",
    "np.random.seed(0)\n",
    "#from pandas_profiling import ProfileReport\n",
    "\n",
    "#TextBlob Features\n",
    "from textblob import TextBlob\n",
    "\n",
    "#Plotting\n",
    "import matplotlib.pyplot as plt\n",
    "\n",
    "#SciKit-Learn\n",
    "from sklearn.model_selection import train_test_split\n",
    "from sklearn.metrics import accuracy_score\n",
    "from sklearn.metrics import confusion_matrix, ConfusionMatrixDisplay\n",
    "\n",
    "#nltk\n",
    "import nltk\n",
    "from nltk.corpus import stopwords\n",
    "#nltk.download('stopwords')\n",
    "from nltk.tokenize import word_tokenize\n",
    "from nltk.stem import WordNetLemmatizer\n",
    "#nltk.download('wordnet')\n",
    "\n",
    "#Tensorflow / Keras\n",
    "import tensorflow as tf\n",
    "from tensorflow.keras.preprocessing.text import Tokenizer\n",
    "from tensorflow.keras.preprocessing.sequence import pad_sequences\n",
    "\n",
    "#Test\n",
    "from collections import Counter"
   ]
  },
  {
   "cell_type": "markdown",
   "metadata": {},
   "source": [
    "### Importing Data"
   ]
  },
  {
   "cell_type": "code",
   "execution_count": 2,
   "metadata": {},
   "outputs": [],
   "source": [
    "#Training Data\n",
    "path = \"../data/raw/twitter_training.csv\"\n",
    "train_df = pd.read_csv(path, names=[\"Tweet_ID\", \"Entity\", \"Sentiment\", \"Tweet_Content\"])\n",
    "\n",
    "#Test Data (Not to be used until the full model has been trained)\n",
    "test_path = \"../data/raw/twitter_validation.csv\"\n",
    "test_df = pd.read_csv(test_path, names=[\"Tweet_ID\", \"Entity\", \"Sentiment\", \"Tweet_Content\"])"
   ]
  },
  {
   "cell_type": "markdown",
   "metadata": {},
   "source": [
    "### Dropping NA Values\n",
    "\n",
    "Here, we drop any rows with null values, as these miss out on key information."
   ]
  },
  {
   "cell_type": "code",
   "execution_count": 3,
   "metadata": {},
   "outputs": [],
   "source": [
    "train_df = train_df.dropna()\n",
    "test_df = test_df.dropna()"
   ]
  },
  {
   "cell_type": "code",
   "execution_count": 4,
   "metadata": {},
   "outputs": [
    {
     "data": {
      "text/plain": [
       "(73996, 4)"
      ]
     },
     "execution_count": 4,
     "metadata": {},
     "output_type": "execute_result"
    }
   ],
   "source": [
    "train_df.shape"
   ]
  },
  {
   "cell_type": "markdown",
   "metadata": {},
   "source": [
    "### Subsetting Data\n",
    "\n",
    "As this dataset is quite large, during the exploration process we begin by subsetting the data during the training process, to speed up any testing steps. We also reset the index of the dataframe, to make adding columns easier later on in the process."
   ]
  },
  {
   "cell_type": "code",
   "execution_count": 5,
   "metadata": {},
   "outputs": [],
   "source": [
    "df = train_df.sample(frac=0.1)\n",
    "df.reset_index(drop=True, inplace=True)"
   ]
  },
  {
   "cell_type": "markdown",
   "metadata": {},
   "source": [
    "## Data Exploration\n",
    "\n",
    "Here, we explore the data, testing if it is balanced, and checking for patterns in missing rows. This can generally be done in an automated fashion with pandas-profiling. The sections under this header include:\n",
    "\n",
    "- Basic visualisation\n",
    "- Automated Data Exploration with pandas-profiling\n",
    "- Checking for balance in output categories"
   ]
  },
  {
   "cell_type": "markdown",
   "metadata": {},
   "source": [
    "### Basic Visualisation\n",
    "\n",
    "We can display basic statistics about the data using pandas, and also view a few entries of the dataset, to see example points with which we'll work."
   ]
  },
  {
   "cell_type": "code",
   "execution_count": 6,
   "metadata": {},
   "outputs": [
    {
     "name": "stdout",
     "output_type": "stream",
     "text": [
      "<class 'pandas.core.frame.DataFrame'>\n",
      "RangeIndex: 7400 entries, 0 to 7399\n",
      "Data columns (total 4 columns):\n",
      " #   Column         Non-Null Count  Dtype \n",
      "---  ------         --------------  ----- \n",
      " 0   Tweet_ID       7400 non-null   int64 \n",
      " 1   Entity         7400 non-null   object\n",
      " 2   Sentiment      7400 non-null   object\n",
      " 3   Tweet_Content  7400 non-null   object\n",
      "dtypes: int64(1), object(3)\n",
      "memory usage: 231.4+ KB\n"
     ]
    }
   ],
   "source": [
    "#See overall information about the data frame\n",
    "df.info()"
   ]
  },
  {
   "cell_type": "code",
   "execution_count": 7,
   "metadata": {},
   "outputs": [
    {
     "data": {
      "text/html": [
       "<div>\n",
       "<style scoped>\n",
       "    .dataframe tbody tr th:only-of-type {\n",
       "        vertical-align: middle;\n",
       "    }\n",
       "\n",
       "    .dataframe tbody tr th {\n",
       "        vertical-align: top;\n",
       "    }\n",
       "\n",
       "    .dataframe thead th {\n",
       "        text-align: right;\n",
       "    }\n",
       "</style>\n",
       "<table border=\"1\" class=\"dataframe\">\n",
       "  <thead>\n",
       "    <tr style=\"text-align: right;\">\n",
       "      <th></th>\n",
       "      <th>Tweet_ID</th>\n",
       "      <th>Entity</th>\n",
       "      <th>Sentiment</th>\n",
       "      <th>Tweet_Content</th>\n",
       "    </tr>\n",
       "  </thead>\n",
       "  <tbody>\n",
       "    <tr>\n",
       "      <th>0</th>\n",
       "      <td>2535</td>\n",
       "      <td>Borderlands</td>\n",
       "      <td>Negative</td>\n",
       "      <td>@ Borderlands. Can we get a big fix please? I'...</td>\n",
       "    </tr>\n",
       "    <tr>\n",
       "      <th>1</th>\n",
       "      <td>11073</td>\n",
       "      <td>TomClancysGhostRecon</td>\n",
       "      <td>Negative</td>\n",
       "      <td>@GhostRecon You call 1.1.0 an update. You're h...</td>\n",
       "    </tr>\n",
       "    <tr>\n",
       "      <th>2</th>\n",
       "      <td>3024</td>\n",
       "      <td>Dota2</td>\n",
       "      <td>Neutral</td>\n",
       "      <td>I'm excited to watch the EU's closed qualifyin...</td>\n",
       "    </tr>\n",
       "    <tr>\n",
       "      <th>3</th>\n",
       "      <td>6719</td>\n",
       "      <td>Fortnite</td>\n",
       "      <td>Negative</td>\n",
       "      <td>anyways but my fortnite here,, im annoyed.</td>\n",
       "    </tr>\n",
       "    <tr>\n",
       "      <th>4</th>\n",
       "      <td>1533</td>\n",
       "      <td>Battlefield</td>\n",
       "      <td>Negative</td>\n",
       "      <td>Collateral with the revolver is so satisfying....</td>\n",
       "    </tr>\n",
       "  </tbody>\n",
       "</table>\n",
       "</div>"
      ],
      "text/plain": [
       "   Tweet_ID                Entity Sentiment  \\\n",
       "0      2535           Borderlands  Negative   \n",
       "1     11073  TomClancysGhostRecon  Negative   \n",
       "2      3024                 Dota2   Neutral   \n",
       "3      6719              Fortnite  Negative   \n",
       "4      1533           Battlefield  Negative   \n",
       "\n",
       "                                       Tweet_Content  \n",
       "0  @ Borderlands. Can we get a big fix please? I'...  \n",
       "1  @GhostRecon You call 1.1.0 an update. You're h...  \n",
       "2  I'm excited to watch the EU's closed qualifyin...  \n",
       "3         anyways but my fortnite here,, im annoyed.  \n",
       "4  Collateral with the revolver is so satisfying....  "
      ]
     },
     "execution_count": 7,
     "metadata": {},
     "output_type": "execute_result"
    }
   ],
   "source": [
    "#Display a few entries\n",
    "df.head()"
   ]
  },
  {
   "cell_type": "markdown",
   "metadata": {},
   "source": [
    "### Automated Data Exploration with Pandas-Profiling\n",
    "\n",
    "Pandas-profiling is a library used to automatically explore data. This gives us a good overview of the dataset, which we can use to inform our later work."
   ]
  },
  {
   "cell_type": "code",
   "execution_count": 8,
   "metadata": {},
   "outputs": [],
   "source": [
    "#profile = ProfileReport(df, title=\"Pandas Profiling Report\", explorative=True)\n",
    "#profile"
   ]
  },
  {
   "cell_type": "markdown",
   "metadata": {},
   "source": [
    "### Checking Balance of the Data in Output Categories\n",
    "\n",
    "We want to check the balance of the output column (Sentiment), such that we don't train a model that always predicts one output. This model might have a high accuracy, but we wouldn't have learned anything about trends in the data, other than the count in the most common sentiment. It might be tempting to think about balancing the test data too, but remember that data in the real world will be unlikely to come nicely balanced, and test data is analagous to real world data\n",
    "\n",
    "\n",
    "The proportion of sentiments ranges from about 0.15 to 0.3, which is generally good balance, such that we are unlikely to see a scenario in which only one class is predicted. We will however be looking out for if our training accuracy forms a plateau at about 0.3, which could be indicative of this problem."
   ]
  },
  {
   "cell_type": "code",
   "execution_count": 9,
   "metadata": {},
   "outputs": [
    {
     "data": {
      "text/plain": [
       "<BarContainer object of 4 artists>"
      ]
     },
     "execution_count": 9,
     "metadata": {},
     "output_type": "execute_result"
    },
    {
     "data": {
      "image/png": "[encoded data removed]",
      "text/plain": [
       "<Figure size 432x288 with 1 Axes>"
      ]
     },
     "metadata": {
      "needs_background": "light"
     },
     "output_type": "display_data"
    }
   ],
   "source": [
    "#Checking balance of target classes\n",
    "sentiments = list(df[\"Sentiment\"].unique())\n",
    "\n",
    "sentiment_nums = [len(df[df[\"Sentiment\"] == sentiment]) / len(df) for sentiment in sentiments]\n",
    "\n",
    "plt.bar(sentiments, sentiment_nums)"
   ]
  },
  {
   "cell_type": "markdown",
   "metadata": {},
   "source": [
    "## Labels to Indexes (and Back Again)\n",
    "\n",
    "We can create an indexer to convert sentiments from labels to indexes, and back again. This is useful in understanding our predictions later on.\n",
    "\n",
    "We then convert the \"Sentiment\" column in the training data to the labels, which is what we will learn to predict"
   ]
  },
  {
   "cell_type": "code",
   "execution_count": 10,
   "metadata": {},
   "outputs": [],
   "source": [
    "#Define the indexing for each possible label in a dictionary\n",
    "class_to_index = {\"Neutral\":0, \"Irrelevant\":1, \"Negative\":2, \"Positive\": 3}\n",
    "\n",
    "#Creates a reverse dictionary\n",
    "index_to_class = dict((v,k) for k, v in class_to_index.items())\n",
    "\n",
    "#Creates lambda functions, applying the appropriate dictionary\n",
    "names_to_ids = lambda n: np.array([class_to_index.get(x) for x in n])\n",
    "ids_to_names = lambda n: np.array([index_to_class.get(x) for x in n])"
   ]
  },
  {
   "cell_type": "code",
   "execution_count": 11,
   "metadata": {},
   "outputs": [
    {
     "name": "stdout",
     "output_type": "stream",
     "text": [
      "[3 2 1 0]\n",
      "['Neutral' 'Irrelevant' 'Negative' 'Positive']\n"
     ]
    }
   ],
   "source": [
    "#Test each function\n",
    "print(names_to_ids([\"Positive\", \"Negative\", \"Irrelevant\", \"Neutral\"]))\n",
    "print(ids_to_names([0,1,2,3]))"
   ]
  },
  {
   "cell_type": "code",
   "execution_count": 12,
   "metadata": {},
   "outputs": [],
   "source": [
    "#Convert the \"Sentiment\" column into indexes\n",
    "df[\"Sentiment\"] = names_to_ids(df[\"Sentiment\"])"
   ]
  },
  {
   "cell_type": "code",
   "execution_count": 13,
   "metadata": {},
   "outputs": [
    {
     "data": {
      "text/html": [
       "<div>\n",
       "<style scoped>\n",
       "    .dataframe tbody tr th:only-of-type {\n",
       "        vertical-align: middle;\n",
       "    }\n",
       "\n",
       "    .dataframe tbody tr th {\n",
       "        vertical-align: top;\n",
       "    }\n",
       "\n",
       "    .dataframe thead th {\n",
       "        text-align: right;\n",
       "    }\n",
       "</style>\n",
       "<table border=\"1\" class=\"dataframe\">\n",
       "  <thead>\n",
       "    <tr style=\"text-align: right;\">\n",
       "      <th></th>\n",
       "      <th>Tweet_ID</th>\n",
       "      <th>Entity</th>\n",
       "      <th>Sentiment</th>\n",
       "      <th>Tweet_Content</th>\n",
       "    </tr>\n",
       "  </thead>\n",
       "  <tbody>\n",
       "    <tr>\n",
       "      <th>0</th>\n",
       "      <td>2535</td>\n",
       "      <td>Borderlands</td>\n",
       "      <td>2</td>\n",
       "      <td>@ Borderlands. Can we get a big fix please? I'...</td>\n",
       "    </tr>\n",
       "    <tr>\n",
       "      <th>1</th>\n",
       "      <td>11073</td>\n",
       "      <td>TomClancysGhostRecon</td>\n",
       "      <td>2</td>\n",
       "      <td>@GhostRecon You call 1.1.0 an update. You're h...</td>\n",
       "    </tr>\n",
       "    <tr>\n",
       "      <th>2</th>\n",
       "      <td>3024</td>\n",
       "      <td>Dota2</td>\n",
       "      <td>0</td>\n",
       "      <td>I'm excited to watch the EU's closed qualifyin...</td>\n",
       "    </tr>\n",
       "    <tr>\n",
       "      <th>3</th>\n",
       "      <td>6719</td>\n",
       "      <td>Fortnite</td>\n",
       "      <td>2</td>\n",
       "      <td>anyways but my fortnite here,, im annoyed.</td>\n",
       "    </tr>\n",
       "    <tr>\n",
       "      <th>4</th>\n",
       "      <td>1533</td>\n",
       "      <td>Battlefield</td>\n",
       "      <td>2</td>\n",
       "      <td>Collateral with the revolver is so satisfying....</td>\n",
       "    </tr>\n",
       "  </tbody>\n",
       "</table>\n",
       "</div>"
      ],
      "text/plain": [
       "   Tweet_ID                Entity  Sentiment  \\\n",
       "0      2535           Borderlands          2   \n",
       "1     11073  TomClancysGhostRecon          2   \n",
       "2      3024                 Dota2          0   \n",
       "3      6719              Fortnite          2   \n",
       "4      1533           Battlefield          2   \n",
       "\n",
       "                                       Tweet_Content  \n",
       "0  @ Borderlands. Can we get a big fix please? I'...  \n",
       "1  @GhostRecon You call 1.1.0 an update. You're h...  \n",
       "2  I'm excited to watch the EU's closed qualifyin...  \n",
       "3         anyways but my fortnite here,, im annoyed.  \n",
       "4  Collateral with the revolver is so satisfying....  "
      ]
     },
     "execution_count": 13,
     "metadata": {},
     "output_type": "execute_result"
    }
   ],
   "source": [
    "df.head()"
   ]
  },
  {
   "cell_type": "markdown",
   "metadata": {},
   "source": [
    "## NLP Data Enrichment\n",
    "\n",
    "In this section, we work with the text in the \"Tweet_Content\" column, extracting all the insight from this that we can, and converting it into a useable format for the neural network that we will train later. This involves removing words that have little meaning (stop word removal), and grouping words with the same meaning regardless of details such as tense (lemmatisation). Then, we use tokenisation in order to codify the presence of words into a matrix, similar in fashion to one-hot encoding. This is known as a \"Bag of Words\" method.\n",
    "\n",
    "Sections under this header include:\n",
    "\n",
    "- Stop Word Removal and Lemmatisation with NLTK\n",
    "- Tokenisation\n",
    "- Adding the Tokenised Strings to the DataFrame"
   ]
  },
  {
   "cell_type": "markdown",
   "metadata": {},
   "source": [
    "### Stop Word Removal and Lemmatisation with NLTK\n",
    "\n",
    "Here, we first split each string into its individual words, before checking if these:\n",
    "1. Contain text\n",
    "2. Are in the list of stopwords\n",
    "\n",
    "If there is no text in the word, meaning there are only numbers or punctuation (or other characters), or the word is a stop word (words such as \"with\", \"a\", \"the\"), then the word is removed from the string.\n",
    "\n",
    "We also lemmatise in this step, in which we convert words into their root form, such that tense and other details can be ignored in our final model (a negative statement in the past tense is still negative)."
   ]
  },
  {
   "cell_type": "code",
   "execution_count": 14,
   "metadata": {},
   "outputs": [],
   "source": [
    "def remove_stopwords(ls):\n",
    "    #Lemmatises, then removes stop words\n",
    "    ls = [lemmatiser.lemmatize(word) for word in ls if word not in (stop_english) and (word.isalpha())]\n",
    "    \n",
    "    #Joins the words back into a single string\n",
    "    ls = \" \".join(ls)\n",
    "    return ls\n",
    "\n",
    "#Splits each string into a list of words\n",
    "df[\"Tweet_Content_Split\"] = df[\"Tweet_Content\"].apply(word_tokenize)\n",
    "\n",
    "#Applies the above function to each entry in the DataFrame\n",
    "lemmatiser = WordNetLemmatizer()\n",
    "stop_english = Counter(stopwords.words()) #Here we use a Counter dictionary on the cached\n",
    "                                          # list of stop words for a huge speed-up\n",
    "df[\"Tweet_Content_Split\"] = df[\"Tweet_Content_Split\"].apply(remove_stopwords)"
   ]
  },
  {
   "cell_type": "code",
   "execution_count": 15,
   "metadata": {
    "scrolled": true
   },
   "outputs": [
    {
     "data": {
      "text/html": [
       "<div>\n",
       "<style scoped>\n",
       "    .dataframe tbody tr th:only-of-type {\n",
       "        vertical-align: middle;\n",
       "    }\n",
       "\n",
       "    .dataframe tbody tr th {\n",
       "        vertical-align: top;\n",
       "    }\n",
       "\n",
       "    .dataframe thead th {\n",
       "        text-align: right;\n",
       "    }\n",
       "</style>\n",
       "<table border=\"1\" class=\"dataframe\">\n",
       "  <thead>\n",
       "    <tr style=\"text-align: right;\">\n",
       "      <th></th>\n",
       "      <th>Tweet_ID</th>\n",
       "      <th>Entity</th>\n",
       "      <th>Sentiment</th>\n",
       "      <th>Tweet_Content</th>\n",
       "      <th>Tweet_Content_Split</th>\n",
       "    </tr>\n",
       "  </thead>\n",
       "  <tbody>\n",
       "    <tr>\n",
       "      <th>0</th>\n",
       "      <td>2535</td>\n",
       "      <td>Borderlands</td>\n",
       "      <td>2</td>\n",
       "      <td>@ Borderlands. Can we get a big fix please? I'...</td>\n",
       "      <td>Borderlands Can get big fix please I reset ent...</td>\n",
       "    </tr>\n",
       "    <tr>\n",
       "      <th>1</th>\n",
       "      <td>11073</td>\n",
       "      <td>TomClancysGhostRecon</td>\n",
       "      <td>2</td>\n",
       "      <td>@GhostRecon You call 1.1.0 an update. You're h...</td>\n",
       "      <td>GhostRecon You call update You laugh stay conn...</td>\n",
       "    </tr>\n",
       "    <tr>\n",
       "      <th>2</th>\n",
       "      <td>3024</td>\n",
       "      <td>Dota2</td>\n",
       "      <td>0</td>\n",
       "      <td>I'm excited to watch the EU's closed qualifyin...</td>\n",
       "      <td>I excited watch EU closed qualifying match EU ...</td>\n",
       "    </tr>\n",
       "    <tr>\n",
       "      <th>3</th>\n",
       "      <td>6719</td>\n",
       "      <td>Fortnite</td>\n",
       "      <td>2</td>\n",
       "      <td>anyways but my fortnite here,, im annoyed.</td>\n",
       "      <td>anyways fortnite annoyed</td>\n",
       "    </tr>\n",
       "    <tr>\n",
       "      <th>4</th>\n",
       "      <td>1533</td>\n",
       "      <td>Battlefield</td>\n",
       "      <td>2</td>\n",
       "      <td>Collateral with the revolver is so satisfying....</td>\n",
       "      <td>Collateral revolver unk</td>\n",
       "    </tr>\n",
       "  </tbody>\n",
       "</table>\n",
       "</div>"
      ],
      "text/plain": [
       "   Tweet_ID                Entity  Sentiment  \\\n",
       "0      2535           Borderlands          2   \n",
       "1     11073  TomClancysGhostRecon          2   \n",
       "2      3024                 Dota2          0   \n",
       "3      6719              Fortnite          2   \n",
       "4      1533           Battlefield          2   \n",
       "\n",
       "                                       Tweet_Content  \\\n",
       "0  @ Borderlands. Can we get a big fix please? I'...   \n",
       "1  @GhostRecon You call 1.1.0 an update. You're h...   \n",
       "2  I'm excited to watch the EU's closed qualifyin...   \n",
       "3         anyways but my fortnite here,, im annoyed.   \n",
       "4  Collateral with the revolver is so satisfying....   \n",
       "\n",
       "                                 Tweet_Content_Split  \n",
       "0  Borderlands Can get big fix please I reset ent...  \n",
       "1  GhostRecon You call update You laugh stay conn...  \n",
       "2  I excited watch EU closed qualifying match EU ...  \n",
       "3                           anyways fortnite annoyed  \n",
       "4                            Collateral revolver unk  "
      ]
     },
     "execution_count": 15,
     "metadata": {},
     "output_type": "execute_result"
    }
   ],
   "source": [
    "df.head()"
   ]
  },
  {
   "cell_type": "markdown",
   "metadata": {},
   "source": [
    "### Tokenisation\n",
    "\n",
    "We create tokens for the most common words in the dataset, so we can represent the presence of words in our created corpus (the n most common words) with a list of integers. "
   ]
  },
  {
   "cell_type": "code",
   "execution_count": 16,
   "metadata": {},
   "outputs": [],
   "source": [
    "#Define the Tokeniser\n",
    "tokeniser = Tokenizer(num_words=10000, lower=True)\n",
    "\n",
    "#Create the corpus by finding the most common \n",
    "tokeniser.fit_on_texts(df[\"Tweet_Content_Split\"])"
   ]
  },
  {
   "cell_type": "code",
   "execution_count": 17,
   "metadata": {},
   "outputs": [],
   "source": [
    "#Tokenise our column of edited Tweet content\n",
    "tweet_tokens = tokeniser.texts_to_sequences(list(df[\"Tweet_Content_Split\"]))"
   ]
  },
  {
   "cell_type": "code",
   "execution_count": 18,
   "metadata": {},
   "outputs": [],
   "source": [
    "#Pad these sequences to make them the same length\n",
    "tweet_tokens = pad_sequences(tweet_tokens, truncating = 'post', padding='post', maxlen=50)"
   ]
  },
  {
   "cell_type": "code",
   "execution_count": 19,
   "metadata": {},
   "outputs": [
    {
     "data": {
      "text/plain": [
       "(7400, 50)"
      ]
     },
     "execution_count": 19,
     "metadata": {},
     "output_type": "execute_result"
    }
   ],
   "source": [
    "tweet_tokens.shape"
   ]
  },
  {
   "cell_type": "markdown",
   "metadata": {},
   "source": [
    "## Final Data Preparation\n",
    "\n",
    "The data is now almost ready for a model to be trained on it, but a few final preparations will need to occur. For example, we need to drop the columns that we don't plan to use, such as the \"Tweet_Content\" column, which has had its useful information extracted already.\n",
    "\n",
    "We also split the data into a training and test set, such that we can evaluate our model's performance without touching the held-out data. We do this because if we continually test against this held-out data, it loses its usefulness as unseen \"real-world\" data.\n",
    "\n",
    "Sections under this header include:\n",
    "- Dropping Unused Data\n",
    "- Test-Train Split"
   ]
  },
  {
   "cell_type": "markdown",
   "metadata": {},
   "source": [
    "### Dropping Unused Data\n",
    "\n",
    "We drop non-useful columns from the DataFrame here. These either have no use (Tweet ID), or have already had the useful information extracted (Tweet Content). We also remove the \"y\" or dependent variable here, so we don't accidentally train on it."
   ]
  },
  {
   "cell_type": "code",
   "execution_count": 20,
   "metadata": {},
   "outputs": [],
   "source": [
    "#Remove dependent variable\n",
    "y = df[\"Sentiment\"]\n",
    "\n",
    "#Drop all non-useful columns\n",
    "df = pd.DataFrame(tweet_tokens)"
   ]
  },
  {
   "cell_type": "code",
   "execution_count": 21,
   "metadata": {},
   "outputs": [
    {
     "data": {
      "text/plain": [
       "(7400, 50)"
      ]
     },
     "execution_count": 21,
     "metadata": {},
     "output_type": "execute_result"
    }
   ],
   "source": [
    "#Display final shape\n",
    "df.shape"
   ]
  },
  {
   "cell_type": "markdown",
   "metadata": {},
   "source": [
    "### Test-Train Split\n",
    "\n",
    "Here, we use SciKit-Learn's inbuilt function to split our data into a test set and a train set, with the appropriate labels. We use a constant random state to make this replicable."
   ]
  },
  {
   "cell_type": "code",
   "execution_count": 22,
   "metadata": {},
   "outputs": [],
   "source": [
    "X_train, X_test, y_train, y_test = train_test_split(df, y, test_size=0.2, random_state=1)"
   ]
  },
  {
   "cell_type": "markdown",
   "metadata": {},
   "source": [
    "## Model Construction and Training\n",
    "\n",
    "Finally, it is time to construct our model. In this case, we use a neural network constructed with Keras. We then train it with our data in the training dataset, and validate using the test datasets.\n",
    "\n",
    "Sections under this header include:\n",
    "- Model Construction\n",
    "- Training"
   ]
  },
  {
   "cell_type": "markdown",
   "metadata": {},
   "source": [
    "### Model Construction\n",
    "\n",
    "Here, we define the neural network that we will train to predict the output. This model is constructed with the following layers:\n",
    "- Embedding\n",
    "- Bidirectional\n",
    "- Dense\n",
    "\n",
    "#### Embedding\n",
    "The embedding layer is a very important part of this process, as it allows us to learn the meanings of words, based on the context of other words around them. Practically, this layer places each word into a vector space, of which we will learn the positioning and the words that are likely to be used around it.\n",
    "\n",
    "Learn more about embedding layers [here](https://machinelearningmastery.com/use-word-embedding-layers-deep-learning-keras/)\n",
    "\n",
    "#### Bidirectional\n",
    "Bidirectional layers are improvements on recurrent neural networks (RNNs), in which data passes through in a given order, such that we can learn from the order of texts. In bidirectional layers, this happens in both directions, so we can attempt to learn the meaning of the word in both the forward and backwards context. We use LSTMs (Long-Short Term Memory nodes) in this network, such that our network can \"remember\" previous context. LSTMs work better than RNN networks for applications like text processing, as they work to solve the vanishing gradient problem, by allowing gradients to pass unchanged.\n",
    "\n",
    "#### Dense\n",
    "The final layer in the network is a dense layer. This just means that all nodes in this layer are connected to all in the previous layer, such that input from any LSTM unit can be included. We use the softmax output function and 4 nodes here to generate probabilities for each of the potential outputs (each possible sentiment)."
   ]
  },
  {
   "cell_type": "code",
   "execution_count": 23,
   "metadata": {},
   "outputs": [],
   "source": [
    "model = tf.keras.models.Sequential([\n",
    "tf.keras.layers.Embedding(10000,16,input_length=50),\n",
    "tf.keras.layers.Bidirectional(tf.keras.layers.LSTM(20, return_sequences=True)),\n",
    "tf.keras.layers.Bidirectional(tf.keras.layers.LSTM(20)),\n",
    "tf.keras.layers.Dense(4, activation='softmax')\n",
    "])\n",
    "model.compile(\n",
    "     loss='sparse_categorical_crossentropy',\n",
    "     optimizer='adam',\n",
    "     metrics=['accuracy']\n",
    ")"
   ]
  },
  {
   "cell_type": "markdown",
   "metadata": {},
   "source": [
    "### Training\n",
    "\n",
    "Next, we fit this model with our data, using backpropagation, for 15 epochs. We can view the increase in accuracy of the model through the different epochs, on both the training and test dataset."
   ]
  },
  {
   "cell_type": "code",
   "execution_count": 24,
   "metadata": {},
   "outputs": [
    {
     "name": "stdout",
     "output_type": "stream",
     "text": [
      "Epoch 1/15\n",
      "185/185 [==============================] - 12s 41ms/step - loss: 1.3371 - accuracy: 0.3407 - val_loss: 1.2373 - val_accuracy: 0.4412\n",
      "Epoch 2/15\n",
      "185/185 [==============================] - 7s 38ms/step - loss: 1.0643 - accuracy: 0.5356 - val_loss: 1.1678 - val_accuracy: 0.4878\n",
      "Epoch 3/15\n",
      "185/185 [==============================] - 6s 30ms/step - loss: 0.7179 - accuracy: 0.7297 - val_loss: 1.1568 - val_accuracy: 0.5601\n",
      "Epoch 4/15\n",
      "185/185 [==============================] - 5s 29ms/step - loss: 0.4712 - accuracy: 0.8353 - val_loss: 1.3073 - val_accuracy: 0.5527\n",
      "Epoch 5/15\n",
      "185/185 [==============================] - 5s 29ms/step - loss: 0.3339 - accuracy: 0.8889 - val_loss: 1.3923 - val_accuracy: 0.5709\n",
      "Epoch 6/15\n",
      "185/185 [==============================] - 5s 29ms/step - loss: 0.2536 - accuracy: 0.9155 - val_loss: 1.5091 - val_accuracy: 0.5784\n",
      "Epoch 7/15\n",
      "185/185 [==============================] - 6s 30ms/step - loss: 0.2085 - accuracy: 0.9274 - val_loss: 1.5832 - val_accuracy: 0.5797\n",
      "Epoch 8/15\n",
      "185/185 [==============================] - 6s 31ms/step - loss: 0.1778 - accuracy: 0.9409 - val_loss: 1.7005 - val_accuracy: 0.5723\n",
      "Epoch 9/15\n",
      "185/185 [==============================] - 6s 30ms/step - loss: 0.1547 - accuracy: 0.9461 - val_loss: 1.8294 - val_accuracy: 0.5703\n",
      "Epoch 10/15\n",
      "185/185 [==============================] - 6s 31ms/step - loss: 0.1328 - accuracy: 0.9541 - val_loss: 1.8513 - val_accuracy: 0.5750\n",
      "Epoch 11/15\n",
      "185/185 [==============================] - 6s 30ms/step - loss: 0.1313 - accuracy: 0.9542 - val_loss: 2.0402 - val_accuracy: 0.5588\n",
      "Epoch 12/15\n",
      "185/185 [==============================] - 6s 30ms/step - loss: 0.1256 - accuracy: 0.9556 - val_loss: 2.0973 - val_accuracy: 0.5770\n",
      "Epoch 13/15\n",
      "185/185 [==============================] - 6s 30ms/step - loss: 0.0999 - accuracy: 0.9637 - val_loss: 2.0682 - val_accuracy: 0.5709\n",
      "Epoch 14/15\n",
      "185/185 [==============================] - 6s 30ms/step - loss: 0.1035 - accuracy: 0.9622 - val_loss: 2.3027 - val_accuracy: 0.5601\n",
      "Epoch 15/15\n",
      "185/185 [==============================] - 6s 30ms/step - loss: 0.0993 - accuracy: 0.9615 - val_loss: 2.1604 - val_accuracy: 0.5669\n"
     ]
    }
   ],
   "source": [
    "h = model.fit(\n",
    "     X_train, y_train,\n",
    "     validation_data=(X_test, y_test),\n",
    "     epochs=15,\n",
    "     callbacks=[tf.keras.callbacks.EarlyStopping(monitor='accuracy', patience=5)]\n",
    ")"
   ]
  },
  {
   "cell_type": "markdown",
   "metadata": {},
   "source": [
    "## Model Evaluation\n",
    "\n",
    "Now that we've trained the model, we can view it's accuracy with a confusion matrix. This allows us to see the predictions for Tweets with various true values. From this, we might see that we are better at predicting certain classes than others."
   ]
  },
  {
   "cell_type": "code",
   "execution_count": 25,
   "metadata": {},
   "outputs": [],
   "source": [
    "#Generate predictions\n",
    "y_pred = np.argmax(model.predict(X_test), axis=1)\n",
    "\n",
    "#Assign labels to predictions and test data\n",
    "y_pred_labels = ids_to_names(y_pred)\n",
    "y_test_labels = ids_to_names(y_test)"
   ]
  },
  {
   "cell_type": "code",
   "execution_count": 26,
   "metadata": {},
   "outputs": [
    {
     "data": {
      "text/plain": [
       "<sklearn.metrics._plot.confusion_matrix.ConfusionMatrixDisplay at 0x1ae47e3aef0>"
      ]
     },
     "execution_count": 26,
     "metadata": {},
     "output_type": "execute_result"
    },
    {
     "data": {
      "image/png": "[encoded data removed]",
      "text/plain": [
       "<Figure size 432x288 with 2 Axes>"
      ]
     },
     "metadata": {
      "needs_background": "light"
     },
     "output_type": "display_data"
    }
   ],
   "source": [
    "y_unique = list(set(y_test_labels))\n",
    "cm = confusion_matrix(y_test_labels, y_pred_labels, labels = y_unique, normalize='true')\n",
    "\n",
    "disp = ConfusionMatrixDisplay(confusion_matrix=cm, display_labels=y_unique)\n",
    "disp.plot()"
   ]
  },
  {
   "cell_type": "markdown",
   "metadata": {},
   "source": [
    "## Training with Full Dataset\n",
    "\n",
    "Now that we are happy with our model, we can train using the full dataset, and predict the held-out test data. This involves performing all of our transformation steps on both this training dataset and the held-out test data. Luckily, we can reuse the code from above to achieve this, so little further explanation is required."
   ]
  },
  {
   "cell_type": "code",
   "execution_count": 27,
   "metadata": {},
   "outputs": [],
   "source": [
    "#Use the full dataset!\n",
    "df = train_df\n",
    "\n",
    "# the test dataframe was loaded earlier and is named test_df"
   ]
  },
  {
   "cell_type": "markdown",
   "metadata": {},
   "source": [
    "### Basic Data Enrichment"
   ]
  },
  {
   "cell_type": "code",
   "execution_count": 28,
   "metadata": {},
   "outputs": [],
   "source": [
    "#Convert the \"Sentiment\" column into indexes\n",
    "\n",
    "##Train\n",
    "df[\"Sentiment\"] = names_to_ids(df[\"Sentiment\"])\n",
    "y = df[\"Sentiment\"]\n",
    "\n",
    "##Test\n",
    "test_df[\"Sentiment\"] = names_to_ids(test_df[\"Sentiment\"])\n",
    "y_test = test_df[\"Sentiment\"]"
   ]
  },
  {
   "cell_type": "markdown",
   "metadata": {},
   "source": [
    "### NLP Data Enrichment"
   ]
  },
  {
   "cell_type": "code",
   "execution_count": 29,
   "metadata": {},
   "outputs": [],
   "source": [
    "#Removing stopwords and lemmatising\n",
    "\n",
    "##Train\n",
    "#Splits each string into a list of words\n",
    "df[\"Tweet_Content_Split\"] = df[\"Tweet_Content\"].apply(word_tokenize)\n",
    "\n",
    "#Applies the above function to each entry in the DataFrame\n",
    "lemmatiser = WordNetLemmatizer()\n",
    "stop_english = Counter(stopwords.words()) #Here we use a Counter dictionary on the cached\n",
    "                                          # list of stop words for a huge speed-up\n",
    "df[\"Tweet_Content_Split\"] = df[\"Tweet_Content_Split\"].apply(remove_stopwords)\n",
    "\n",
    "##Test\n",
    "test_df[\"Tweet_Content_Split\"] = test_df[\"Tweet_Content\"].apply(word_tokenize)\n",
    "\n",
    "test_df[\"Tweet_Content_Split\"] = test_df[\"Tweet_Content_Split\"].apply(remove_stopwords)"
   ]
  },
  {
   "cell_type": "code",
   "execution_count": 30,
   "metadata": {},
   "outputs": [],
   "source": [
    "#Tokenisation\n",
    "\n",
    "#Define the Tokeniser\n",
    "tokeniser = Tokenizer(num_words=10000, lower=True)\n",
    "\n",
    "#Create the corpus by finding the most common \n",
    "tokeniser.fit_on_texts(df[\"Tweet_Content_Split\"])\n",
    "\n",
    "##Train\n",
    "#Tokenise our column of edited Tweet content\n",
    "tweet_tokens = tokeniser.texts_to_sequences(list(df[\"Tweet_Content_Split\"]))\n",
    "tweet_tokens = pad_sequences(tweet_tokens, truncating = 'post', padding='post', maxlen=50)\n",
    "\n",
    "##Test\n",
    "#Tokenise our column of edited Tweet content\n",
    "tweet_tokens_test = tokeniser.texts_to_matrix(list(test_df[\"Tweet_Content_Split\"]))\n",
    "tweet_tokens_test = pad_sequences(tweet_tokens_test, truncating = 'post', padding='post', maxlen=50)"
   ]
  },
  {
   "cell_type": "code",
   "execution_count": 31,
   "metadata": {},
   "outputs": [],
   "source": [
    "#Final prep\n",
    "\n",
    "##Train\n",
    "#Drop all non-useful columns\n",
    "full_df = pd.DataFrame(tweet_tokens)\n",
    "\n",
    "##Test\n",
    "full_test_df = pd.DataFrame(tweet_tokens_test)"
   ]
  },
  {
   "cell_type": "markdown",
   "metadata": {},
   "source": [
    "### Model Definition and Training\n",
    "\n",
    "This time, we train with all of the available training data"
   ]
  },
  {
   "cell_type": "code",
   "execution_count": 33,
   "metadata": {},
   "outputs": [],
   "source": [
    "#Original\n",
    "model = tf.keras.models.Sequential([\n",
    "tf.keras.layers.Embedding(10000,16,input_length=50),\n",
    "tf.keras.layers.Bidirectional(tf.keras.layers.LSTM(20, return_sequences=True)),\n",
    "tf.keras.layers.Bidirectional(tf.keras.layers.LSTM(20)),\n",
    "tf.keras.layers.Dense(4, activation='softmax')\n",
    "])\n",
    "\n",
    "model.compile(\n",
    "     loss='sparse_categorical_crossentropy',\n",
    "     optimizer='adam',\n",
    "     metrics=['accuracy']\n",
    ")"
   ]
  },
  {
   "cell_type": "code",
   "execution_count": 34,
   "metadata": {},
   "outputs": [
    {
     "name": "stdout",
     "output_type": "stream",
     "text": [
      "Epoch 1/30\n",
      "2313/2313 [==============================] - 94s 39ms/step - loss: 0.9090 - accuracy: 0.6317 - val_loss: 1.4061 - val_accuracy: 0.2770\n",
      "Epoch 2/30\n",
      "2313/2313 [==============================] - 89s 39ms/step - loss: 0.5419 - accuracy: 0.8005 - val_loss: 1.3826 - val_accuracy: 0.3070\n",
      "Epoch 3/30\n",
      "2313/2313 [==============================] - 90s 39ms/step - loss: 0.4128 - accuracy: 0.8469 - val_loss: 1.4028 - val_accuracy: 0.2760\n",
      "Epoch 4/30\n",
      "2313/2313 [==============================] - 90s 39ms/step - loss: 0.3442 - accuracy: 0.8715 - val_loss: 1.3834 - val_accuracy: 0.2560\n",
      "Epoch 5/30\n",
      "2313/2313 [==============================] - 94s 41ms/step - loss: 0.3009 - accuracy: 0.8869 - val_loss: 1.3944 - val_accuracy: 0.2520\n",
      "Epoch 6/30\n",
      "2313/2313 [==============================] - 95s 41ms/step - loss: 0.2696 - accuracy: 0.8978 - val_loss: 1.3963 - val_accuracy: 0.2590\n",
      "Epoch 7/30\n",
      "2313/2313 [==============================] - 86s 37ms/step - loss: 0.2462 - accuracy: 0.9067 - val_loss: 1.3953 - val_accuracy: 0.2720\n",
      "Epoch 8/30\n",
      "2313/2313 [==============================] - 85s 37ms/step - loss: 0.2264 - accuracy: 0.9127 - val_loss: 1.3865 - val_accuracy: 0.2800\n",
      "Epoch 9/30\n",
      "2313/2313 [==============================] - 89s 39ms/step - loss: 0.2113 - accuracy: 0.9181 - val_loss: 1.3937 - val_accuracy: 0.2780\n",
      "Epoch 10/30\n",
      "2313/2313 [==============================] - 94s 41ms/step - loss: 0.1970 - accuracy: 0.9238 - val_loss: 1.3735 - val_accuracy: 0.2990\n",
      "Epoch 11/30\n",
      "2313/2313 [==============================] - 102s 44ms/step - loss: 0.1855 - accuracy: 0.9267 - val_loss: 1.4114 - val_accuracy: 0.3040\n",
      "Epoch 12/30\n",
      "2313/2313 [==============================] - 97s 42ms/step - loss: 0.1754 - accuracy: 0.9308 - val_loss: 1.4214 - val_accuracy: 0.2640\n",
      "Epoch 13/30\n",
      "2313/2313 [==============================] - 86s 37ms/step - loss: 0.1661 - accuracy: 0.9345 - val_loss: 1.3861 - val_accuracy: 0.3240\n",
      "Epoch 14/30\n",
      "2313/2313 [==============================] - 87s 38ms/step - loss: 0.1571 - accuracy: 0.9375 - val_loss: 1.4852 - val_accuracy: 0.2480\n",
      "Epoch 15/30\n",
      "2313/2313 [==============================] - 92s 40ms/step - loss: 0.1508 - accuracy: 0.9397 - val_loss: 1.3986 - val_accuracy: 0.2900\n",
      "Epoch 16/30\n",
      "2313/2313 [==============================] - 98s 42ms/step - loss: 0.1435 - accuracy: 0.9422 - val_loss: 1.4293 - val_accuracy: 0.2380\n",
      "Epoch 17/30\n",
      "2313/2313 [==============================] - 105s 45ms/step - loss: 0.1391 - accuracy: 0.9442 - val_loss: 1.3969 - val_accuracy: 0.2910\n",
      "Epoch 18/30\n",
      "2313/2313 [==============================] - 93s 40ms/step - loss: 0.1319 - accuracy: 0.9462 - val_loss: 1.4229 - val_accuracy: 0.2840\n",
      "Epoch 19/30\n",
      "2313/2313 [==============================] - 85s 37ms/step - loss: 0.1277 - accuracy: 0.9473 - val_loss: 1.3891 - val_accuracy: 0.2800\n",
      "Epoch 20/30\n",
      "2313/2313 [==============================] - 87s 38ms/step - loss: 0.1241 - accuracy: 0.9489 - val_loss: 1.3959 - val_accuracy: 0.3140\n",
      "Epoch 21/30\n",
      "2313/2313 [==============================] - 93s 40ms/step - loss: 0.1197 - accuracy: 0.9518 - val_loss: 1.4222 - val_accuracy: 0.2630\n",
      "Epoch 22/30\n",
      "2313/2313 [==============================] - 96s 41ms/step - loss: 0.1174 - accuracy: 0.9515 - val_loss: 1.3944 - val_accuracy: 0.3140\n",
      "Epoch 23/30\n",
      "2313/2313 [==============================] - 85s 37ms/step - loss: 0.1121 - accuracy: 0.9535 - val_loss: 1.4116 - val_accuracy: 0.3110\n",
      "Epoch 24/30\n",
      "2313/2313 [==============================] - 81s 35ms/step - loss: 0.1119 - accuracy: 0.9543 - val_loss: 1.4463 - val_accuracy: 0.3110\n",
      "Epoch 25/30\n",
      "2313/2313 [==============================] - 84s 36ms/step - loss: 0.1073 - accuracy: 0.9557 - val_loss: 1.3975 - val_accuracy: 0.3250\n",
      "Epoch 26/30\n",
      "2313/2313 [==============================] - 88s 38ms/step - loss: 0.1051 - accuracy: 0.9567 - val_loss: 1.4332 - val_accuracy: 0.2790\n",
      "Epoch 27/30\n",
      "2313/2313 [==============================] - 94s 41ms/step - loss: 0.1017 - accuracy: 0.9569 - val_loss: 1.3993 - val_accuracy: 0.3170\n",
      "Epoch 28/30\n",
      "2313/2313 [==============================] - 98s 42ms/step - loss: 0.1002 - accuracy: 0.9574 - val_loss: 1.4055 - val_accuracy: 0.3320\n",
      "Epoch 29/30\n",
      "2313/2313 [==============================] - 89s 39ms/step - loss: 0.1002 - accuracy: 0.9576 - val_loss: 1.4250 - val_accuracy: 0.3070\n",
      "Epoch 30/30\n",
      "2313/2313 [==============================] - 82s 36ms/step - loss: 0.0957 - accuracy: 0.9593 - val_loss: 1.4032 - val_accuracy: 0.2760\n"
     ]
    }
   ],
   "source": [
    "h = model.fit(\n",
    "     full_df, y,\n",
    "     validation_data=(full_test_df, y_test),\n",
    "     epochs=30,\n",
    "     callbacks=[tf.keras.callbacks.EarlyStopping(monitor='accuracy', patience=5)]\n",
    ")"
   ]
  },
  {
   "cell_type": "markdown",
   "metadata": {},
   "source": [
    "## Final Model Evaluation"
   ]
  },
  {
   "cell_type": "code",
   "execution_count": 35,
   "metadata": {},
   "outputs": [],
   "source": [
    "#Generate predictions\n",
    "y_pred = np.argmax(model.predict(full_test_df), axis=1)\n",
    "\n",
    "#Assign labels to predictions and test data\n",
    "y_pred_labels = ids_to_names(y_pred)\n",
    "y_test_labels = ids_to_names(y_test)"
   ]
  },
  {
   "cell_type": "code",
   "execution_count": 36,
   "metadata": {},
   "outputs": [
    {
     "data": {
      "text/plain": [
       "<sklearn.metrics._plot.confusion_matrix.ConfusionMatrixDisplay at 0x1ae4bc6e470>"
      ]
     },
     "execution_count": 36,
     "metadata": {},
     "output_type": "execute_result"
    },
    {
     "data": {
      "image/png": "[encoded data removed]",
      "text/plain": [
       "<Figure size 432x288 with 2 Axes>"
      ]
     },
     "metadata": {
      "needs_background": "light"
     },
     "output_type": "display_data"
    }
   ],
   "source": [
    "y_unique = list(set(y_test_labels))\n",
    "cm = confusion_matrix(y_test_labels, y_pred_labels, labels = y_unique, normalize='true')\n",
    "\n",
    "disp = ConfusionMatrixDisplay(confusion_matrix=cm, display_labels=y_unique)\n",
    "disp.plot()"
   ]
  },
  {
   "cell_type": "code",
   "execution_count": 37,
   "metadata": {},
   "outputs": [
    {
     "data": {
      "text/plain": [
       "0.276"
      ]
     },
     "execution_count": 37,
     "metadata": {},
     "output_type": "execute_result"
    }
   ],
   "source": [
    "#To see the final accuracy\n",
    "accuracy_score(y_test, y_pred)"
   ]
  },
  {
   "cell_type": "code",
   "execution_count": null,
   "metadata": {},
   "outputs": [],
   "source": []
  }
 ],
 "metadata": {
  "kernelspec": {
   "display_name": "Python 3",
   "language": "python",
   "name": "python3"
  },
  "language_info": {
   "codemirror_mode": {
    "name": "ipython",
    "version": 3
   },
   "file_extension": ".py",
   "mimetype": "text/x-python",
   "name": "python",
   "nbconvert_exporter": "python",
   "pygments_lexer": "ipython3",
   "version": "3.6.12"
  }
 },
 "nbformat": 4,
 "nbformat_minor": 4
}
