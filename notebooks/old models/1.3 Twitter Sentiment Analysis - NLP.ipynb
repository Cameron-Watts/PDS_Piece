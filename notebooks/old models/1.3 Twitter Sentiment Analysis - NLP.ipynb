{
 "cells": [
  {
   "cell_type": "markdown",
   "metadata": {
    "cell_id": "00001-08da45e7-9138-416a-b1f7-746632dcf559",
    "deepnote_cell_type": "markdown"
   },
   "source": [
    "# Initial Preparation"
   ]
  },
  {
   "cell_type": "markdown",
   "metadata": {
    "cell_id": "00002-b8665dcb-9540-4587-8512-8e31e2a4503d",
    "deepnote_cell_type": "markdown"
   },
   "source": [
    "## Import Packages"
   ]
  },
  {
   "cell_type": "code",
   "execution_count": 1,
   "metadata": {
    "cell_id": "00003-5fead239-edcc-4456-acc5-f9c9d818c320",
    "deepnote_cell_type": "code",
    "deepnote_to_be_reexecuted": false,
    "execution_millis": 4146,
    "execution_start": 1633087299465,
    "source_hash": "c258cc36"
   },
   "outputs": [],
   "source": [
    "import pandas as pd\n",
    "from textblob import TextBlob\n",
    "import numpy as np\n",
    "import matplotlib.pyplot as plt\n",
    "from sklearn.model_selection import train_test_split\n",
    "#from pandas_profiling import ProfileReport"
   ]
  },
  {
   "cell_type": "markdown",
   "metadata": {
    "cell_id": "00004-bb2dc2e1-9296-4b4c-82a6-31d5c94d8a23",
    "deepnote_cell_type": "markdown"
   },
   "source": [
    "## Import Data"
   ]
  },
  {
   "cell_type": "code",
   "execution_count": 43,
   "metadata": {
    "cell_id": "00005-6068a179-69c8-42e5-9f10-f58e55ee5c7f",
    "deepnote_cell_type": "code",
    "deepnote_to_be_reexecuted": false,
    "execution_millis": 403,
    "execution_start": 1632760967712,
    "source_hash": "268fbbff"
   },
   "outputs": [],
   "source": [
    "url = \"../data/raw/twitter_training.csv\"\n",
    "\n",
    "df = pd.read_csv(url, names=[\"Tweet_ID\", \"Entity\", \"Sentiment\", \"Tweet_Content\"])"
   ]
  },
  {
   "cell_type": "code",
   "execution_count": 44,
   "metadata": {},
   "outputs": [
    {
     "data": {
      "text/plain": [
       "74682"
      ]
     },
     "execution_count": 44,
     "metadata": {},
     "output_type": "execute_result"
    }
   ],
   "source": [
    "len(df)"
   ]
  },
  {
   "cell_type": "markdown",
   "metadata": {},
   "source": [
    "## Subset Data"
   ]
  },
  {
   "cell_type": "code",
   "execution_count": 4,
   "metadata": {},
   "outputs": [],
   "source": [
    "df = df.sample(frac=0.01)"
   ]
  },
  {
   "cell_type": "markdown",
   "metadata": {
    "cell_id": "00006-5bb3676f-305f-4612-a78f-6af25a4a28b2",
    "deepnote_cell_type": "markdown"
   },
   "source": [
    "## Visualise and Explore Data"
   ]
  },
  {
   "cell_type": "code",
   "execution_count": 5,
   "metadata": {
    "cell_id": "00007-7408e4a5-ea21-48c6-9586-ec57003792b0",
    "deepnote_cell_type": "code",
    "deepnote_to_be_reexecuted": false,
    "execution_millis": 138,
    "execution_start": 1632760968128,
    "is_code_hidden": true,
    "is_output_hidden": true,
    "source_hash": "de1e323c"
   },
   "outputs": [
    {
     "name": "stdout",
     "output_type": "stream",
     "text": [
      "<class 'pandas.core.frame.DataFrame'>\n",
      "Int64Index: 747 entries, 50933 to 14448\n",
      "Data columns (total 4 columns):\n",
      " #   Column         Non-Null Count  Dtype \n",
      "---  ------         --------------  ----- \n",
      " 0   Tweet_ID       747 non-null    int64 \n",
      " 1   Entity         747 non-null    object\n",
      " 2   Sentiment      747 non-null    object\n",
      " 3   Tweet_Content  743 non-null    object\n",
      "dtypes: int64(1), object(3)\n",
      "memory usage: 29.2+ KB\n"
     ]
    }
   ],
   "source": [
    "df.info()"
   ]
  },
  {
   "cell_type": "code",
   "execution_count": 6,
   "metadata": {
    "cell_id": "00008-4a286ef6-f3d9-4cfa-b507-0f1c5ec27ff3",
    "deepnote_cell_type": "code",
    "deepnote_to_be_reexecuted": false,
    "execution_millis": 110,
    "execution_start": 1632760968156,
    "is_code_hidden": true,
    "is_output_hidden": true,
    "source_hash": "c085b6ba"
   },
   "outputs": [
    {
     "data": {
      "text/html": [
       "<div>\n",
       "<style scoped>\n",
       "    .dataframe tbody tr th:only-of-type {\n",
       "        vertical-align: middle;\n",
       "    }\n",
       "\n",
       "    .dataframe tbody tr th {\n",
       "        vertical-align: top;\n",
       "    }\n",
       "\n",
       "    .dataframe thead th {\n",
       "        text-align: right;\n",
       "    }\n",
       "</style>\n",
       "<table border=\"1\" class=\"dataframe\">\n",
       "  <thead>\n",
       "    <tr style=\"text-align: right;\">\n",
       "      <th></th>\n",
       "      <th>Tweet_ID</th>\n",
       "      <th>Entity</th>\n",
       "      <th>Sentiment</th>\n",
       "      <th>Tweet_Content</th>\n",
       "    </tr>\n",
       "  </thead>\n",
       "  <tbody>\n",
       "    <tr>\n",
       "      <th>50933</th>\n",
       "      <td>6341</td>\n",
       "      <td>FIFA</td>\n",
       "      <td>Irrelevant</td>\n",
       "      <td>If have have raged so much at a game, you are ...</td>\n",
       "    </tr>\n",
       "    <tr>\n",
       "      <th>62202</th>\n",
       "      <td>5063</td>\n",
       "      <td>GrandTheftAuto(GTA)</td>\n",
       "      <td>Negative</td>\n",
       "      <td>i ain’t playing GTA no more that shit done 4.</td>\n",
       "    </tr>\n",
       "    <tr>\n",
       "      <th>73229</th>\n",
       "      <td>8944</td>\n",
       "      <td>Nvidia</td>\n",
       "      <td>Negative</td>\n",
       "      <td>Nvidia. its Nvidia that constantly telling me ...</td>\n",
       "    </tr>\n",
       "    <tr>\n",
       "      <th>38928</th>\n",
       "      <td>5482</td>\n",
       "      <td>Hearthstone</td>\n",
       "      <td>Neutral</td>\n",
       "      <td>PACKS i hatever beats lunch and I NEED TO WIN ...</td>\n",
       "    </tr>\n",
       "    <tr>\n",
       "      <th>36164</th>\n",
       "      <td>8207</td>\n",
       "      <td>Microsoft</td>\n",
       "      <td>Negative</td>\n",
       "      <td>Thanks for mentioning! rafi: LucidPointeO365 I...</td>\n",
       "    </tr>\n",
       "  </tbody>\n",
       "</table>\n",
       "</div>"
      ],
      "text/plain": [
       "       Tweet_ID               Entity   Sentiment  \\\n",
       "50933      6341                 FIFA  Irrelevant   \n",
       "62202      5063  GrandTheftAuto(GTA)    Negative   \n",
       "73229      8944               Nvidia    Negative   \n",
       "38928      5482          Hearthstone     Neutral   \n",
       "36164      8207            Microsoft    Negative   \n",
       "\n",
       "                                           Tweet_Content  \n",
       "50933  If have have raged so much at a game, you are ...  \n",
       "62202      i ain’t playing GTA no more that shit done 4.  \n",
       "73229  Nvidia. its Nvidia that constantly telling me ...  \n",
       "38928  PACKS i hatever beats lunch and I NEED TO WIN ...  \n",
       "36164  Thanks for mentioning! rafi: LucidPointeO365 I...  "
      ]
     },
     "execution_count": 6,
     "metadata": {},
     "output_type": "execute_result"
    }
   ],
   "source": [
    "df.head()"
   ]
  },
  {
   "cell_type": "code",
   "execution_count": 7,
   "metadata": {
    "cell_id": "00009-4b741683-13cd-4356-af20-adc1d83a3209",
    "deepnote_cell_type": "code",
    "deepnote_to_be_reexecuted": false,
    "execution_millis": 10256,
    "execution_start": 1632760968173,
    "is_code_hidden": true,
    "is_output_hidden": true,
    "source_hash": "90069898",
    "tags": []
   },
   "outputs": [],
   "source": [
    "#profile = ProfileReport(df, title=\"Pandas Profiling Report\", explorative=True)\n",
    "#profile"
   ]
  },
  {
   "cell_type": "markdown",
   "metadata": {
    "cell_id": "00010-eec33dfe-1b3b-4afc-bcf4-9ca98a869024",
    "deepnote_cell_type": "markdown"
   },
   "source": [
    "## Clean Data"
   ]
  },
  {
   "cell_type": "code",
   "execution_count": 8,
   "metadata": {
    "cell_id": "00011-053ed740-c857-4135-8bfc-7879c7a2b2c4",
    "deepnote_cell_type": "code",
    "deepnote_to_be_reexecuted": false,
    "execution_millis": 196,
    "execution_start": 1632760978416,
    "is_code_hidden": true,
    "is_output_hidden": true,
    "source_hash": "a700bc3"
   },
   "outputs": [
    {
     "data": {
      "text/plain": [
       "<BarContainer object of 4 artists>"
      ]
     },
     "execution_count": 8,
     "metadata": {},
     "output_type": "execute_result"
    },
    {
     "data": {
      "image/png": "[encoded data removed]",
      "text/plain": [
       "<Figure size 432x288 with 1 Axes>"
      ]
     },
     "metadata": {
      "needs_background": "light"
     },
     "output_type": "display_data"
    }
   ],
   "source": [
    "# To see what's going on before dropping datapoints\n",
    "sentiments = list(df[\"Sentiment\"].unique())\n",
    "\n",
    "sentiment_nums = [len(df[df[\"Sentiment\"] == sentiment]) for sentiment in sentiments]\n",
    "\n",
    "labels = sentiments\n",
    "\n",
    "plt.bar(sentiments, sentiment_nums)"
   ]
  },
  {
   "cell_type": "code",
   "execution_count": 9,
   "metadata": {
    "cell_id": "00012-a848166e-ff28-4228-90ce-2e70bd93da61",
    "deepnote_cell_type": "code",
    "deepnote_to_be_reexecuted": false,
    "execution_millis": 0,
    "execution_start": 1632760978662,
    "is_code_hidden": true,
    "source_hash": "4314666a"
   },
   "outputs": [],
   "source": [
    "df = df.dropna()"
   ]
  },
  {
   "cell_type": "markdown",
   "metadata": {
    "cell_id": "00013-1c182413-1f88-4c60-815e-99b0fc474045",
    "deepnote_cell_type": "markdown"
   },
   "source": [
    "# Further Exploration"
   ]
  },
  {
   "cell_type": "code",
   "execution_count": 10,
   "metadata": {
    "cell_id": "00014-99ddfb74-9560-4022-ab9a-5440d59b0709",
    "deepnote_cell_type": "code",
    "deepnote_to_be_reexecuted": false,
    "execution_millis": 7,
    "execution_start": 1632760978663,
    "is_code_hidden": true,
    "is_output_hidden": true,
    "source_hash": "c8d2bb32"
   },
   "outputs": [
    {
     "data": {
      "text/plain": [
       "array(['Irrelevant', 'Negative', 'Neutral', 'Positive'], dtype=object)"
      ]
     },
     "execution_count": 10,
     "metadata": {},
     "output_type": "execute_result"
    }
   ],
   "source": [
    "df[\"Sentiment\"].unique()"
   ]
  },
  {
   "cell_type": "code",
   "execution_count": 11,
   "metadata": {
    "cell_id": "00015-56a94f9b-2a0a-40dd-9993-0502a5a6ceaa",
    "deepnote_cell_type": "code",
    "deepnote_to_be_reexecuted": false,
    "execution_millis": 74,
    "execution_start": 1632760978664,
    "is_code_hidden": true,
    "is_output_hidden": true,
    "source_hash": "574a9ca"
   },
   "outputs": [
    {
     "name": "stdout",
     "output_type": "stream",
     "text": [
      "['FIFA' 'GrandTheftAuto(GTA)' 'Nvidia' 'Hearthstone' 'Microsoft' 'Dota2'\n",
      " 'CS-GO' 'Facebook' 'Overwatch' 'PlayerUnknownsBattlegrounds(PUBG)'\n",
      " 'CallOfDuty' 'Fortnite' 'TomClancysGhostRecon' 'Cyberpunk2077' 'Verizon'\n",
      " 'TomClancysRainbowSix' 'johnson&johnson' 'AssassinsCreed' 'Google'\n",
      " 'CallOfDutyBlackopsColdWar' 'RedDeadRedemption(RDR)' 'MaddenNFL' 'NBA2K'\n",
      " 'ApexLegends' 'Battlefield' 'Borderlands' 'HomeDepot' 'WorldOfCraft'\n",
      " 'LeagueOfLegends' 'Amazon' 'Xbox(Xseries)' 'PlayStation5(PS5)']\n",
      "32\n"
     ]
    },
    {
     "data": {
      "text/html": [
       "<div>\n",
       "<style scoped>\n",
       "    .dataframe tbody tr th:only-of-type {\n",
       "        vertical-align: middle;\n",
       "    }\n",
       "\n",
       "    .dataframe tbody tr th {\n",
       "        vertical-align: top;\n",
       "    }\n",
       "\n",
       "    .dataframe thead th {\n",
       "        text-align: right;\n",
       "    }\n",
       "</style>\n",
       "<table border=\"1\" class=\"dataframe\">\n",
       "  <thead>\n",
       "    <tr style=\"text-align: right;\">\n",
       "      <th></th>\n",
       "      <th>Tweet_ID</th>\n",
       "      <th>Entity</th>\n",
       "      <th>Sentiment</th>\n",
       "      <th>Tweet_Content</th>\n",
       "      <th>Amazon</th>\n",
       "      <th>ApexLegends</th>\n",
       "      <th>AssassinsCreed</th>\n",
       "      <th>Battlefield</th>\n",
       "      <th>Borderlands</th>\n",
       "      <th>CS-GO</th>\n",
       "      <th>...</th>\n",
       "      <th>Overwatch</th>\n",
       "      <th>PlayStation5(PS5)</th>\n",
       "      <th>PlayerUnknownsBattlegrounds(PUBG)</th>\n",
       "      <th>RedDeadRedemption(RDR)</th>\n",
       "      <th>TomClancysGhostRecon</th>\n",
       "      <th>TomClancysRainbowSix</th>\n",
       "      <th>Verizon</th>\n",
       "      <th>WorldOfCraft</th>\n",
       "      <th>Xbox(Xseries)</th>\n",
       "      <th>johnson&amp;johnson</th>\n",
       "    </tr>\n",
       "  </thead>\n",
       "  <tbody>\n",
       "    <tr>\n",
       "      <th>50933</th>\n",
       "      <td>6341</td>\n",
       "      <td>FIFA</td>\n",
       "      <td>Irrelevant</td>\n",
       "      <td>If have have raged so much at a game, you are ...</td>\n",
       "      <td>0</td>\n",
       "      <td>0</td>\n",
       "      <td>0</td>\n",
       "      <td>0</td>\n",
       "      <td>0</td>\n",
       "      <td>0</td>\n",
       "      <td>...</td>\n",
       "      <td>0</td>\n",
       "      <td>0</td>\n",
       "      <td>0</td>\n",
       "      <td>0</td>\n",
       "      <td>0</td>\n",
       "      <td>0</td>\n",
       "      <td>0</td>\n",
       "      <td>0</td>\n",
       "      <td>0</td>\n",
       "      <td>0</td>\n",
       "    </tr>\n",
       "    <tr>\n",
       "      <th>62202</th>\n",
       "      <td>5063</td>\n",
       "      <td>GrandTheftAuto(GTA)</td>\n",
       "      <td>Negative</td>\n",
       "      <td>i ain’t playing GTA no more that shit done 4.</td>\n",
       "      <td>0</td>\n",
       "      <td>0</td>\n",
       "      <td>0</td>\n",
       "      <td>0</td>\n",
       "      <td>0</td>\n",
       "      <td>0</td>\n",
       "      <td>...</td>\n",
       "      <td>0</td>\n",
       "      <td>0</td>\n",
       "      <td>0</td>\n",
       "      <td>0</td>\n",
       "      <td>0</td>\n",
       "      <td>0</td>\n",
       "      <td>0</td>\n",
       "      <td>0</td>\n",
       "      <td>0</td>\n",
       "      <td>0</td>\n",
       "    </tr>\n",
       "    <tr>\n",
       "      <th>73229</th>\n",
       "      <td>8944</td>\n",
       "      <td>Nvidia</td>\n",
       "      <td>Negative</td>\n",
       "      <td>Nvidia. its Nvidia that constantly telling me ...</td>\n",
       "      <td>0</td>\n",
       "      <td>0</td>\n",
       "      <td>0</td>\n",
       "      <td>0</td>\n",
       "      <td>0</td>\n",
       "      <td>0</td>\n",
       "      <td>...</td>\n",
       "      <td>0</td>\n",
       "      <td>0</td>\n",
       "      <td>0</td>\n",
       "      <td>0</td>\n",
       "      <td>0</td>\n",
       "      <td>0</td>\n",
       "      <td>0</td>\n",
       "      <td>0</td>\n",
       "      <td>0</td>\n",
       "      <td>0</td>\n",
       "    </tr>\n",
       "    <tr>\n",
       "      <th>38928</th>\n",
       "      <td>5482</td>\n",
       "      <td>Hearthstone</td>\n",
       "      <td>Neutral</td>\n",
       "      <td>PACKS i hatever beats lunch and I NEED TO WIN ...</td>\n",
       "      <td>0</td>\n",
       "      <td>0</td>\n",
       "      <td>0</td>\n",
       "      <td>0</td>\n",
       "      <td>0</td>\n",
       "      <td>0</td>\n",
       "      <td>...</td>\n",
       "      <td>0</td>\n",
       "      <td>0</td>\n",
       "      <td>0</td>\n",
       "      <td>0</td>\n",
       "      <td>0</td>\n",
       "      <td>0</td>\n",
       "      <td>0</td>\n",
       "      <td>0</td>\n",
       "      <td>0</td>\n",
       "      <td>0</td>\n",
       "    </tr>\n",
       "    <tr>\n",
       "      <th>36164</th>\n",
       "      <td>8207</td>\n",
       "      <td>Microsoft</td>\n",
       "      <td>Negative</td>\n",
       "      <td>Thanks for mentioning! rafi: LucidPointeO365 I...</td>\n",
       "      <td>0</td>\n",
       "      <td>0</td>\n",
       "      <td>0</td>\n",
       "      <td>0</td>\n",
       "      <td>0</td>\n",
       "      <td>0</td>\n",
       "      <td>...</td>\n",
       "      <td>0</td>\n",
       "      <td>0</td>\n",
       "      <td>0</td>\n",
       "      <td>0</td>\n",
       "      <td>0</td>\n",
       "      <td>0</td>\n",
       "      <td>0</td>\n",
       "      <td>0</td>\n",
       "      <td>0</td>\n",
       "      <td>0</td>\n",
       "    </tr>\n",
       "  </tbody>\n",
       "</table>\n",
       "<p>5 rows × 36 columns</p>\n",
       "</div>"
      ],
      "text/plain": [
       "       Tweet_ID               Entity   Sentiment  \\\n",
       "50933      6341                 FIFA  Irrelevant   \n",
       "62202      5063  GrandTheftAuto(GTA)    Negative   \n",
       "73229      8944               Nvidia    Negative   \n",
       "38928      5482          Hearthstone     Neutral   \n",
       "36164      8207            Microsoft    Negative   \n",
       "\n",
       "                                           Tweet_Content  Amazon  ApexLegends  \\\n",
       "50933  If have have raged so much at a game, you are ...       0            0   \n",
       "62202      i ain’t playing GTA no more that shit done 4.       0            0   \n",
       "73229  Nvidia. its Nvidia that constantly telling me ...       0            0   \n",
       "38928  PACKS i hatever beats lunch and I NEED TO WIN ...       0            0   \n",
       "36164  Thanks for mentioning! rafi: LucidPointeO365 I...       0            0   \n",
       "\n",
       "       AssassinsCreed  Battlefield  Borderlands  CS-GO  ...  Overwatch  \\\n",
       "50933               0            0            0      0  ...          0   \n",
       "62202               0            0            0      0  ...          0   \n",
       "73229               0            0            0      0  ...          0   \n",
       "38928               0            0            0      0  ...          0   \n",
       "36164               0            0            0      0  ...          0   \n",
       "\n",
       "       PlayStation5(PS5)  PlayerUnknownsBattlegrounds(PUBG)  \\\n",
       "50933                  0                                  0   \n",
       "62202                  0                                  0   \n",
       "73229                  0                                  0   \n",
       "38928                  0                                  0   \n",
       "36164                  0                                  0   \n",
       "\n",
       "       RedDeadRedemption(RDR)  TomClancysGhostRecon  TomClancysRainbowSix  \\\n",
       "50933                       0                     0                     0   \n",
       "62202                       0                     0                     0   \n",
       "73229                       0                     0                     0   \n",
       "38928                       0                     0                     0   \n",
       "36164                       0                     0                     0   \n",
       "\n",
       "       Verizon  WorldOfCraft  Xbox(Xseries)  johnson&johnson  \n",
       "50933        0             0              0                0  \n",
       "62202        0             0              0                0  \n",
       "73229        0             0              0                0  \n",
       "38928        0             0              0                0  \n",
       "36164        0             0              0                0  \n",
       "\n",
       "[5 rows x 36 columns]"
      ]
     },
     "execution_count": 11,
     "metadata": {},
     "output_type": "execute_result"
    }
   ],
   "source": [
    "print(df[\"Entity\"].unique())\n",
    "print(len(df[\"Entity\"].unique()))\n",
    "\n",
    "onehot = pd.get_dummies(df[\"Entity\"])\n",
    "\n",
    "df = df.join(onehot)\n",
    "\n",
    "df.head()"
   ]
  },
  {
   "cell_type": "code",
   "execution_count": 12,
   "metadata": {
    "cell_id": "00016-2dcac9b5-c254-4650-b1a4-909d41f2d012",
    "deepnote_cell_type": "code",
    "deepnote_to_be_reexecuted": false,
    "execution_millis": 200,
    "execution_start": 1632760978735,
    "is_code_hidden": true,
    "is_output_hidden": true,
    "source_hash": "745764d7"
   },
   "outputs": [
    {
     "data": {
      "text/plain": [
       "<BarContainer object of 4 artists>"
      ]
     },
     "execution_count": 12,
     "metadata": {},
     "output_type": "execute_result"
    },
    {
     "data": {
      "image/png": "[encoded data removed]",
      "text/plain": [
       "<Figure size 432x288 with 1 Axes>"
      ]
     },
     "metadata": {
      "needs_background": "light"
     },
     "output_type": "display_data"
    }
   ],
   "source": [
    "sentiments = list(df[\"Sentiment\"].unique())\n",
    "\n",
    "sentiment_nums = [len(df[df[\"Sentiment\"] == sentiment]) for sentiment in sentiments]\n",
    "\n",
    "labels = sentiments\n",
    "\n",
    "plt.bar(sentiments, sentiment_nums)"
   ]
  },
  {
   "cell_type": "markdown",
   "metadata": {},
   "source": [
    "## Adding Features with TextBlob Pre-trained NLP"
   ]
  },
  {
   "cell_type": "code",
   "execution_count": null,
   "metadata": {},
   "outputs": [],
   "source": []
  },
  {
   "cell_type": "markdown",
   "metadata": {},
   "source": [
    "## Stop Word Removal and Lemmatization With NLTK"
   ]
  },
  {
   "cell_type": "code",
   "execution_count": 13,
   "metadata": {},
   "outputs": [
    {
     "name": "stderr",
     "output_type": "stream",
     "text": [
      "[nltk_data] Downloading package stopwords to\n",
      "[nltk_data]     C:\\Users\\Cameron\\AppData\\Roaming\\nltk_data...\n",
      "[nltk_data]   Package stopwords is already up-to-date!\n",
      "[nltk_data] Downloading package wordnet to\n",
      "[nltk_data]     C:\\Users\\Cameron\\AppData\\Roaming\\nltk_data...\n",
      "[nltk_data]   Package wordnet is already up-to-date!\n"
     ]
    }
   ],
   "source": [
    "import nltk\n",
    "from nltk.corpus import stopwords\n",
    "nltk.download('stopwords')\n",
    "from nltk.tokenize import word_tokenize\n",
    "from nltk.stem import WordNetLemmatizer\n",
    "nltk.download('wordnet')\n",
    "\n",
    "\n",
    "def remove_stopwords(ls):\n",
    "    #Removes stop words and lemmatises\n",
    "    ls = [lemmatiser.lemmatize(word) for word in ls if word not in (stopwords.words()) and (word.isalpha())]\n",
    "    \n",
    "    ls = \" \".join(ls)\n",
    "    return ls\n",
    "\n",
    "df[\"Tweet_Content_Split\"] = df[\"Tweet_Content\"].apply(word_tokenize)\n",
    "\n",
    "lemmatiser = WordNetLemmatizer()\n",
    "\n",
    "df[\"Tweet_Content_Split\"] = df[\"Tweet_Content_Split\"].apply(remove_stopwords)"
   ]
  },
  {
   "cell_type": "code",
   "execution_count": 14,
   "metadata": {},
   "outputs": [
    {
     "data": {
      "text/plain": [
       "'If raged much game literal child'"
      ]
     },
     "execution_count": 14,
     "metadata": {},
     "output_type": "execute_result"
    }
   ],
   "source": [
    "list(df[\"Tweet_Content_Split\"])[0]"
   ]
  },
  {
   "cell_type": "markdown",
   "metadata": {
    "cell_id": "00016-a0d6c464-8ed2-4c4e-b3ae-388bbe59d967",
    "deepnote_cell_type": "markdown",
    "tags": []
   },
   "source": [
    "## Tokenisation"
   ]
  },
  {
   "cell_type": "code",
   "execution_count": 15,
   "metadata": {
    "cell_id": "00017-8936f1e7-cceb-4f0b-917d-2e74445aa574",
    "deepnote_cell_type": "code",
    "deepnote_to_be_reexecuted": false,
    "execution_millis": 86,
    "execution_start": 1633646033787,
    "source_hash": "4461b539",
    "tags": []
   },
   "outputs": [],
   "source": [
    "from tensorflow.keras.preprocessing.text import Tokenizer"
   ]
  },
  {
   "cell_type": "code",
   "execution_count": 16,
   "metadata": {},
   "outputs": [],
   "source": [
    "tokeniser = Tokenizer(num_words=500, lower=True)\n",
    "\n",
    "tokeniser.fit_on_texts(df[\"Tweet_Content_Split\"])"
   ]
  },
  {
   "cell_type": "code",
   "execution_count": 17,
   "metadata": {},
   "outputs": [],
   "source": [
    "tweet_tokens = tokeniser.texts_to_matrix(list(df[\"Tweet_Content_Split\"]))"
   ]
  },
  {
   "cell_type": "markdown",
   "metadata": {},
   "source": [
    "## Final Preparation of Data for Model"
   ]
  },
  {
   "cell_type": "code",
   "execution_count": 18,
   "metadata": {},
   "outputs": [],
   "source": [
    "y = df[\"Sentiment\"]\n",
    "\n",
    "labels = set(df[\"Sentiment\"])\n",
    "\n",
    "class_to_index = {\"Neutral\":0, \"Irrelevant\":0, \"Negative\":1, \"Positive\": 2}\n",
    "\n",
    "index_to_class = dict((v,k) for k, v in class_to_index.items())\n",
    "\n",
    "names_to_ids = lambda y: np.array([class_to_index.get(x) for x in df[\"Sentiment\"]])\n",
    "\n",
    "ids_to_names = lambda y: np.array([index_to_class.get(x) for x in y])\n",
    "\n",
    "train_labels = names_to_ids(y)"
   ]
  },
  {
   "cell_type": "code",
   "execution_count": 19,
   "metadata": {},
   "outputs": [],
   "source": [
    "df[\"Labels\"] = train_labels"
   ]
  },
  {
   "cell_type": "code",
   "execution_count": 20,
   "metadata": {},
   "outputs": [
    {
     "data": {
      "text/html": [
       "<div>\n",
       "<style scoped>\n",
       "    .dataframe tbody tr th:only-of-type {\n",
       "        vertical-align: middle;\n",
       "    }\n",
       "\n",
       "    .dataframe tbody tr th {\n",
       "        vertical-align: top;\n",
       "    }\n",
       "\n",
       "    .dataframe thead th {\n",
       "        text-align: right;\n",
       "    }\n",
       "</style>\n",
       "<table border=\"1\" class=\"dataframe\">\n",
       "  <thead>\n",
       "    <tr style=\"text-align: right;\">\n",
       "      <th></th>\n",
       "      <th>Tweet_ID</th>\n",
       "      <th>Entity</th>\n",
       "      <th>Sentiment</th>\n",
       "      <th>Tweet_Content</th>\n",
       "      <th>Amazon</th>\n",
       "      <th>ApexLegends</th>\n",
       "      <th>AssassinsCreed</th>\n",
       "      <th>Battlefield</th>\n",
       "      <th>Borderlands</th>\n",
       "      <th>CS-GO</th>\n",
       "      <th>...</th>\n",
       "      <th>PlayerUnknownsBattlegrounds(PUBG)</th>\n",
       "      <th>RedDeadRedemption(RDR)</th>\n",
       "      <th>TomClancysGhostRecon</th>\n",
       "      <th>TomClancysRainbowSix</th>\n",
       "      <th>Verizon</th>\n",
       "      <th>WorldOfCraft</th>\n",
       "      <th>Xbox(Xseries)</th>\n",
       "      <th>johnson&amp;johnson</th>\n",
       "      <th>Tweet_Content_Split</th>\n",
       "      <th>Labels</th>\n",
       "    </tr>\n",
       "  </thead>\n",
       "  <tbody>\n",
       "    <tr>\n",
       "      <th>50933</th>\n",
       "      <td>6341</td>\n",
       "      <td>FIFA</td>\n",
       "      <td>Irrelevant</td>\n",
       "      <td>If have have raged so much at a game, you are ...</td>\n",
       "      <td>0</td>\n",
       "      <td>0</td>\n",
       "      <td>0</td>\n",
       "      <td>0</td>\n",
       "      <td>0</td>\n",
       "      <td>0</td>\n",
       "      <td>...</td>\n",
       "      <td>0</td>\n",
       "      <td>0</td>\n",
       "      <td>0</td>\n",
       "      <td>0</td>\n",
       "      <td>0</td>\n",
       "      <td>0</td>\n",
       "      <td>0</td>\n",
       "      <td>0</td>\n",
       "      <td>If raged much game literal child</td>\n",
       "      <td>0</td>\n",
       "    </tr>\n",
       "    <tr>\n",
       "      <th>62202</th>\n",
       "      <td>5063</td>\n",
       "      <td>GrandTheftAuto(GTA)</td>\n",
       "      <td>Negative</td>\n",
       "      <td>i ain’t playing GTA no more that shit done 4.</td>\n",
       "      <td>0</td>\n",
       "      <td>0</td>\n",
       "      <td>0</td>\n",
       "      <td>0</td>\n",
       "      <td>0</td>\n",
       "      <td>0</td>\n",
       "      <td>...</td>\n",
       "      <td>0</td>\n",
       "      <td>0</td>\n",
       "      <td>0</td>\n",
       "      <td>0</td>\n",
       "      <td>0</td>\n",
       "      <td>0</td>\n",
       "      <td>0</td>\n",
       "      <td>0</td>\n",
       "      <td>playing GTA shit done</td>\n",
       "      <td>1</td>\n",
       "    </tr>\n",
       "    <tr>\n",
       "      <th>73229</th>\n",
       "      <td>8944</td>\n",
       "      <td>Nvidia</td>\n",
       "      <td>Negative</td>\n",
       "      <td>Nvidia. its Nvidia that constantly telling me ...</td>\n",
       "      <td>0</td>\n",
       "      <td>0</td>\n",
       "      <td>0</td>\n",
       "      <td>0</td>\n",
       "      <td>0</td>\n",
       "      <td>0</td>\n",
       "      <td>...</td>\n",
       "      <td>0</td>\n",
       "      <td>0</td>\n",
       "      <td>0</td>\n",
       "      <td>0</td>\n",
       "      <td>0</td>\n",
       "      <td>0</td>\n",
       "      <td>0</td>\n",
       "      <td>0</td>\n",
       "      <td>Nvidia Nvidia constantly telling strong</td>\n",
       "      <td>1</td>\n",
       "    </tr>\n",
       "    <tr>\n",
       "      <th>38928</th>\n",
       "      <td>5482</td>\n",
       "      <td>Hearthstone</td>\n",
       "      <td>Neutral</td>\n",
       "      <td>PACKS i hatever beats lunch and I NEED TO WIN ...</td>\n",
       "      <td>0</td>\n",
       "      <td>0</td>\n",
       "      <td>0</td>\n",
       "      <td>0</td>\n",
       "      <td>0</td>\n",
       "      <td>0</td>\n",
       "      <td>...</td>\n",
       "      <td>0</td>\n",
       "      <td>0</td>\n",
       "      <td>0</td>\n",
       "      <td>0</td>\n",
       "      <td>0</td>\n",
       "      <td>0</td>\n",
       "      <td>0</td>\n",
       "      <td>0</td>\n",
       "      <td>PACKS hatever beat lunch I NEED TO WIN HEARTHS...</td>\n",
       "      <td>0</td>\n",
       "    </tr>\n",
       "    <tr>\n",
       "      <th>36164</th>\n",
       "      <td>8207</td>\n",
       "      <td>Microsoft</td>\n",
       "      <td>Negative</td>\n",
       "      <td>Thanks for mentioning! rafi: LucidPointeO365 I...</td>\n",
       "      <td>0</td>\n",
       "      <td>0</td>\n",
       "      <td>0</td>\n",
       "      <td>0</td>\n",
       "      <td>0</td>\n",
       "      <td>0</td>\n",
       "      <td>...</td>\n",
       "      <td>0</td>\n",
       "      <td>0</td>\n",
       "      <td>0</td>\n",
       "      <td>0</td>\n",
       "      <td>0</td>\n",
       "      <td>0</td>\n",
       "      <td>0</td>\n",
       "      <td>0</td>\n",
       "      <td>Thanks mentioning rafi I stand new</td>\n",
       "      <td>1</td>\n",
       "    </tr>\n",
       "  </tbody>\n",
       "</table>\n",
       "<p>5 rows × 38 columns</p>\n",
       "</div>"
      ],
      "text/plain": [
       "       Tweet_ID               Entity   Sentiment  \\\n",
       "50933      6341                 FIFA  Irrelevant   \n",
       "62202      5063  GrandTheftAuto(GTA)    Negative   \n",
       "73229      8944               Nvidia    Negative   \n",
       "38928      5482          Hearthstone     Neutral   \n",
       "36164      8207            Microsoft    Negative   \n",
       "\n",
       "                                           Tweet_Content  Amazon  ApexLegends  \\\n",
       "50933  If have have raged so much at a game, you are ...       0            0   \n",
       "62202      i ain’t playing GTA no more that shit done 4.       0            0   \n",
       "73229  Nvidia. its Nvidia that constantly telling me ...       0            0   \n",
       "38928  PACKS i hatever beats lunch and I NEED TO WIN ...       0            0   \n",
       "36164  Thanks for mentioning! rafi: LucidPointeO365 I...       0            0   \n",
       "\n",
       "       AssassinsCreed  Battlefield  Borderlands  CS-GO  ...  \\\n",
       "50933               0            0            0      0  ...   \n",
       "62202               0            0            0      0  ...   \n",
       "73229               0            0            0      0  ...   \n",
       "38928               0            0            0      0  ...   \n",
       "36164               0            0            0      0  ...   \n",
       "\n",
       "       PlayerUnknownsBattlegrounds(PUBG)  RedDeadRedemption(RDR)  \\\n",
       "50933                                  0                       0   \n",
       "62202                                  0                       0   \n",
       "73229                                  0                       0   \n",
       "38928                                  0                       0   \n",
       "36164                                  0                       0   \n",
       "\n",
       "       TomClancysGhostRecon  TomClancysRainbowSix  Verizon  WorldOfCraft  \\\n",
       "50933                     0                     0        0             0   \n",
       "62202                     0                     0        0             0   \n",
       "73229                     0                     0        0             0   \n",
       "38928                     0                     0        0             0   \n",
       "36164                     0                     0        0             0   \n",
       "\n",
       "       Xbox(Xseries)  johnson&johnson  \\\n",
       "50933              0                0   \n",
       "62202              0                0   \n",
       "73229              0                0   \n",
       "38928              0                0   \n",
       "36164              0                0   \n",
       "\n",
       "                                     Tweet_Content_Split  Labels  \n",
       "50933                   If raged much game literal child       0  \n",
       "62202                              playing GTA shit done       1  \n",
       "73229            Nvidia Nvidia constantly telling strong       1  \n",
       "38928  PACKS hatever beat lunch I NEED TO WIN HEARTHS...       0  \n",
       "36164                 Thanks mentioning rafi I stand new       1  \n",
       "\n",
       "[5 rows x 38 columns]"
      ]
     },
     "execution_count": 20,
     "metadata": {},
     "output_type": "execute_result"
    }
   ],
   "source": [
    "df.head()"
   ]
  },
  {
   "cell_type": "markdown",
   "metadata": {
    "cell_id": "00020-d5eff45d-973e-4548-b521-a861707c4d15",
    "deepnote_cell_type": "markdown"
   },
   "source": [
    "## Test/Train Split of Data"
   ]
  },
  {
   "cell_type": "code",
   "execution_count": 21,
   "metadata": {
    "cell_id": "00021-40e3675f-100d-40ba-91fe-a51f0d7dd646",
    "deepnote_cell_type": "code",
    "deepnote_to_be_reexecuted": false,
    "execution_millis": 4,
    "execution_start": 1632761015028,
    "source_hash": "279ccad2"
   },
   "outputs": [],
   "source": [
    "y = df[\"Labels\"]\n",
    "\n",
    "df2 = df.drop([\"Sentiment\", \"Entity\", \"Tweet_ID\", \"Tweet_Content\", \"Tweet_Content_Split\", \"Labels\"], axis=1)"
   ]
  },
  {
   "cell_type": "code",
   "execution_count": 22,
   "metadata": {},
   "outputs": [],
   "source": [
    "array_3 = df2.to_numpy()\n",
    "\n",
    "full_array = np.concatenate([array_3, tweet_tokens], axis=1)"
   ]
  },
  {
   "cell_type": "code",
   "execution_count": 23,
   "metadata": {},
   "outputs": [
    {
     "data": {
      "text/plain": [
       "(743, 532)"
      ]
     },
     "execution_count": 23,
     "metadata": {},
     "output_type": "execute_result"
    }
   ],
   "source": [
    "full_df = pd.DataFrame(full_array)\n",
    "\n",
    "full_df.shape"
   ]
  },
  {
   "cell_type": "code",
   "execution_count": 24,
   "metadata": {
    "cell_id": "00022-a6959efd-f933-4d4d-8aec-664946d363a4",
    "deepnote_cell_type": "code",
    "deepnote_to_be_reexecuted": false,
    "execution_millis": 0,
    "execution_start": 1632761015078,
    "source_hash": "f517c631"
   },
   "outputs": [],
   "source": [
    "X_train, X_test, y_train, y_test = train_test_split(full_df, y, test_size=0.2, random_state=1)"
   ]
  },
  {
   "cell_type": "markdown",
   "metadata": {},
   "source": [
    "## Build Neural Network with Keras"
   ]
  },
  {
   "cell_type": "code",
   "execution_count": 25,
   "metadata": {},
   "outputs": [],
   "source": [
    "#Test initial network\n",
    "import tensorflow as tf\n",
    "\n",
    "model = tf.keras.models.Sequential([\n",
    "tf.keras.layers.Embedding(1000,16,input_length=532),\n",
    "tf.keras.layers.Bidirectional(tf.keras.layers.LSTM(20, return_sequences=True)),\n",
    "tf.keras.layers.Bidirectional(tf.keras.layers.LSTM(20)),\n",
    "tf.keras.layers.Dense(4, activation='relu')\n",
    "])\n",
    "model.compile(\n",
    "     loss='sparse_categorical_crossentropy',\n",
    "     optimizer='adam',\n",
    "     metrics=['accuracy']\n",
    ")"
   ]
  },
  {
   "cell_type": "markdown",
   "metadata": {
    "cell_id": "00023-3b9585bc-7078-4a0d-bc95-75751373e1b0",
    "deepnote_cell_type": "markdown"
   },
   "source": [
    "## Testing Methods"
   ]
  },
  {
   "cell_type": "markdown",
   "metadata": {},
   "source": [
    "### Neural Network with Keras"
   ]
  },
  {
   "cell_type": "code",
   "execution_count": 26,
   "metadata": {},
   "outputs": [
    {
     "name": "stdout",
     "output_type": "stream",
     "text": [
      "Epoch 1/30\n",
      "19/19 [==============================] - 15s 528ms/step - loss: 6.5245 - accuracy: 0.3081 - val_loss: 5.7341 - val_accuracy: 0.3423\n",
      "Epoch 2/30\n",
      "19/19 [==============================] - 9s 494ms/step - loss: 6.6998 - accuracy: 0.3098 - val_loss: 5.7111 - val_accuracy: 0.3423\n",
      "Epoch 3/30\n",
      "19/19 [==============================] - 9s 491ms/step - loss: 6.6191 - accuracy: 0.3098 - val_loss: 5.6087 - val_accuracy: 0.3423\n",
      "Epoch 4/30\n",
      "19/19 [==============================] - 9s 456ms/step - loss: 6.4467 - accuracy: 0.3098 - val_loss: 5.3934 - val_accuracy: 0.3423\n",
      "Epoch 5/30\n",
      "19/19 [==============================] - 10s 543ms/step - loss: 4.1322 - accuracy: 0.3636 - val_loss: 1.7061 - val_accuracy: 0.3691\n",
      "Epoch 6/30\n",
      "19/19 [==============================] - 8s 434ms/step - loss: 1.4007 - accuracy: 0.4411 - val_loss: 1.3863 - val_accuracy: 0.3691\n",
      "Epoch 7/30\n",
      "19/19 [==============================] - 8s 419ms/step - loss: 1.3863 - accuracy: 0.4411 - val_loss: 1.3863 - val_accuracy: 0.3691\n",
      "Epoch 8/30\n",
      "19/19 [==============================] - 8s 413ms/step - loss: 1.3863 - accuracy: 0.4411 - val_loss: 1.3863 - val_accuracy: 0.3691\n",
      "Epoch 9/30\n",
      "19/19 [==============================] - 8s 414ms/step - loss: 1.3863 - accuracy: 0.4411 - val_loss: 1.3863 - val_accuracy: 0.3691\n",
      "Epoch 10/30\n",
      "19/19 [==============================] - 8s 413ms/step - loss: 1.3863 - accuracy: 0.4411 - val_loss: 1.3863 - val_accuracy: 0.3691\n"
     ]
    }
   ],
   "source": [
    "h = model.fit(\n",
    "     X_train, y_train,\n",
    "     validation_data=(X_test, y_test),\n",
    "     epochs=30,\n",
    "     callbacks=[tf.keras.callbacks.EarlyStopping(monitor='accuracy', patience=4)]\n",
    ")"
   ]
  },
  {
   "cell_type": "code",
   "execution_count": 27,
   "metadata": {},
   "outputs": [],
   "source": [
    "y_pred = model.predict(X_train)\n",
    "preds = [round(sum(y_pred[i,:])) for i in range(len(y_pred))]\n",
    "\n",
    "y_pred_labels = ids_to_names(preds)"
   ]
  },
  {
   "cell_type": "code",
   "execution_count": 28,
   "metadata": {},
   "outputs": [
    {
     "data": {
      "text/plain": [
       "{'Irrelevant'}"
      ]
     },
     "execution_count": 28,
     "metadata": {},
     "output_type": "execute_result"
    }
   ],
   "source": [
    "set(y_pred_labels)"
   ]
  },
  {
   "cell_type": "markdown",
   "metadata": {
    "cell_id": "00036-f08f355a-bef6-4f9d-b8bc-007be0e27801",
    "deepnote_cell_type": "markdown"
   },
   "source": [
    "# Final"
   ]
  },
  {
   "cell_type": "markdown",
   "metadata": {
    "cell_id": "00037-c78154da-6343-41cf-a1ff-3c19f4ac5014",
    "deepnote_cell_type": "markdown"
   },
   "source": [
    "## Training With Full Dataset"
   ]
  },
  {
   "cell_type": "code",
   "execution_count": 29,
   "metadata": {
    "cell_id": "00038-0d0df9fc-289a-4e9a-91ba-76ab51f1749a",
    "deepnote_cell_type": "code",
    "deepnote_to_be_reexecuted": false,
    "execution_millis": 453840,
    "execution_start": 1632761451449,
    "source_hash": "28f6125f"
   },
   "outputs": [],
   "source": [
    "model = tf.keras.models.Sequential([\n",
    "tf.keras.layers.Embedding(1000,16,input_length=532),\n",
    "tf.keras.layers.Bidirectional(tf.keras.layers.LSTM(20, return_sequences=True)),\n",
    "tf.keras.layers.Bidirectional(tf.keras.layers.LSTM(20)),\n",
    "tf.keras.layers.Dense(4, activation='softmax')\n",
    "])\n",
    "model.compile(\n",
    "     loss='sparse_categorical_crossentropy',\n",
    "     optimizer='adam',\n",
    "     metrics=['accuracy']\n",
    ")"
   ]
  },
  {
   "cell_type": "code",
   "execution_count": 30,
   "metadata": {},
   "outputs": [
    {
     "name": "stdout",
     "output_type": "stream",
     "text": [
      "Epoch 1/20\n",
      "24/24 [==============================] - 15s 428ms/step - loss: 1.2767 - accuracy: 0.3526\n",
      "Epoch 2/20\n",
      "24/24 [==============================] - 12s 512ms/step - loss: 1.0981 - accuracy: 0.4266\n",
      "Epoch 3/20\n",
      "24/24 [==============================] - 11s 451ms/step - loss: 1.0950 - accuracy: 0.4266\n",
      "Epoch 4/20\n",
      "24/24 [==============================] - 11s 453ms/step - loss: 1.0830 - accuracy: 0.4266\n",
      "Epoch 5/20\n",
      "24/24 [==============================] - 10s 404ms/step - loss: 1.0810 - accuracy: 0.4266\n",
      "Epoch 6/20\n",
      "24/24 [==============================] - 11s 446ms/step - loss: 1.0807 - accuracy: 0.4266\n"
     ]
    }
   ],
   "source": [
    "h = model.fit(\n",
    "     full_df, y,\n",
    "     epochs=20,\n",
    "     callbacks=[tf.keras.callbacks.EarlyStopping(monitor='accuracy', patience=4)]\n",
    ")"
   ]
  },
  {
   "cell_type": "markdown",
   "metadata": {
    "cell_id": "00039-d8fe55b1-3cf1-4e82-83ef-32c512c67ad5",
    "deepnote_cell_type": "markdown"
   },
   "source": [
    "## Generating Predictions"
   ]
  },
  {
   "cell_type": "markdown",
   "metadata": {
    "cell_id": "00040-89e26bea-df93-45b8-afdb-d756d6ba4396",
    "deepnote_cell_type": "text-cell-h2",
    "is_collapsed": false,
    "tags": []
   },
   "source": [
    "## Download and Transform Test Data"
   ]
  },
  {
   "cell_type": "code",
   "execution_count": 31,
   "metadata": {
    "cell_id": "00041-d904a76d-d735-47a4-a4bc-438baddd33c2",
    "deepnote_cell_type": "code",
    "deepnote_to_be_reexecuted": false,
    "execution_millis": 96,
    "execution_start": 1632761905283,
    "source_hash": "f26a56b3"
   },
   "outputs": [],
   "source": [
    "path = \"../data/raw/twitter_validation.csv\"\n",
    "\n",
    "test_df = pd.read_csv(url, names=[\"Tweet_ID\", \"Entity\", \"Sentiment\", \"Tweet_Content\"])\n",
    "\n",
    "test_df = test_df.dropna()"
   ]
  },
  {
   "cell_type": "code",
   "execution_count": 32,
   "metadata": {},
   "outputs": [
    {
     "data": {
      "text/html": [
       "<div>\n",
       "<style scoped>\n",
       "    .dataframe tbody tr th:only-of-type {\n",
       "        vertical-align: middle;\n",
       "    }\n",
       "\n",
       "    .dataframe tbody tr th {\n",
       "        vertical-align: top;\n",
       "    }\n",
       "\n",
       "    .dataframe thead th {\n",
       "        text-align: right;\n",
       "    }\n",
       "</style>\n",
       "<table border=\"1\" class=\"dataframe\">\n",
       "  <thead>\n",
       "    <tr style=\"text-align: right;\">\n",
       "      <th></th>\n",
       "      <th>Tweet_ID</th>\n",
       "      <th>Entity</th>\n",
       "      <th>Sentiment</th>\n",
       "      <th>Tweet_Content</th>\n",
       "      <th>Amazon</th>\n",
       "      <th>ApexLegends</th>\n",
       "      <th>AssassinsCreed</th>\n",
       "      <th>Battlefield</th>\n",
       "      <th>Borderlands</th>\n",
       "      <th>CS-GO</th>\n",
       "      <th>...</th>\n",
       "      <th>Overwatch</th>\n",
       "      <th>PlayStation5(PS5)</th>\n",
       "      <th>PlayerUnknownsBattlegrounds(PUBG)</th>\n",
       "      <th>RedDeadRedemption(RDR)</th>\n",
       "      <th>TomClancysGhostRecon</th>\n",
       "      <th>TomClancysRainbowSix</th>\n",
       "      <th>Verizon</th>\n",
       "      <th>WorldOfCraft</th>\n",
       "      <th>Xbox(Xseries)</th>\n",
       "      <th>johnson&amp;johnson</th>\n",
       "    </tr>\n",
       "  </thead>\n",
       "  <tbody>\n",
       "    <tr>\n",
       "      <th>0</th>\n",
       "      <td>3364</td>\n",
       "      <td>Facebook</td>\n",
       "      <td>Irrelevant</td>\n",
       "      <td>I mentioned on Facebook that I was struggling ...</td>\n",
       "      <td>0</td>\n",
       "      <td>0</td>\n",
       "      <td>0</td>\n",
       "      <td>0</td>\n",
       "      <td>0</td>\n",
       "      <td>0</td>\n",
       "      <td>...</td>\n",
       "      <td>0</td>\n",
       "      <td>0</td>\n",
       "      <td>0</td>\n",
       "      <td>0</td>\n",
       "      <td>0</td>\n",
       "      <td>0</td>\n",
       "      <td>0</td>\n",
       "      <td>0</td>\n",
       "      <td>0</td>\n",
       "      <td>0</td>\n",
       "    </tr>\n",
       "    <tr>\n",
       "      <th>1</th>\n",
       "      <td>352</td>\n",
       "      <td>Amazon</td>\n",
       "      <td>Neutral</td>\n",
       "      <td>BBC News - Amazon boss Jeff Bezos rejects clai...</td>\n",
       "      <td>1</td>\n",
       "      <td>0</td>\n",
       "      <td>0</td>\n",
       "      <td>0</td>\n",
       "      <td>0</td>\n",
       "      <td>0</td>\n",
       "      <td>...</td>\n",
       "      <td>0</td>\n",
       "      <td>0</td>\n",
       "      <td>0</td>\n",
       "      <td>0</td>\n",
       "      <td>0</td>\n",
       "      <td>0</td>\n",
       "      <td>0</td>\n",
       "      <td>0</td>\n",
       "      <td>0</td>\n",
       "      <td>0</td>\n",
       "    </tr>\n",
       "    <tr>\n",
       "      <th>2</th>\n",
       "      <td>8312</td>\n",
       "      <td>Microsoft</td>\n",
       "      <td>Negative</td>\n",
       "      <td>@Microsoft Why do I pay for WORD when it funct...</td>\n",
       "      <td>0</td>\n",
       "      <td>0</td>\n",
       "      <td>0</td>\n",
       "      <td>0</td>\n",
       "      <td>0</td>\n",
       "      <td>0</td>\n",
       "      <td>...</td>\n",
       "      <td>0</td>\n",
       "      <td>0</td>\n",
       "      <td>0</td>\n",
       "      <td>0</td>\n",
       "      <td>0</td>\n",
       "      <td>0</td>\n",
       "      <td>0</td>\n",
       "      <td>0</td>\n",
       "      <td>0</td>\n",
       "      <td>0</td>\n",
       "    </tr>\n",
       "    <tr>\n",
       "      <th>3</th>\n",
       "      <td>4371</td>\n",
       "      <td>CS-GO</td>\n",
       "      <td>Negative</td>\n",
       "      <td>CSGO matchmaking is so full of closet hacking,...</td>\n",
       "      <td>0</td>\n",
       "      <td>0</td>\n",
       "      <td>0</td>\n",
       "      <td>0</td>\n",
       "      <td>0</td>\n",
       "      <td>1</td>\n",
       "      <td>...</td>\n",
       "      <td>0</td>\n",
       "      <td>0</td>\n",
       "      <td>0</td>\n",
       "      <td>0</td>\n",
       "      <td>0</td>\n",
       "      <td>0</td>\n",
       "      <td>0</td>\n",
       "      <td>0</td>\n",
       "      <td>0</td>\n",
       "      <td>0</td>\n",
       "    </tr>\n",
       "    <tr>\n",
       "      <th>4</th>\n",
       "      <td>4433</td>\n",
       "      <td>Google</td>\n",
       "      <td>Neutral</td>\n",
       "      <td>Now the President is slapping Americans in the...</td>\n",
       "      <td>0</td>\n",
       "      <td>0</td>\n",
       "      <td>0</td>\n",
       "      <td>0</td>\n",
       "      <td>0</td>\n",
       "      <td>0</td>\n",
       "      <td>...</td>\n",
       "      <td>0</td>\n",
       "      <td>0</td>\n",
       "      <td>0</td>\n",
       "      <td>0</td>\n",
       "      <td>0</td>\n",
       "      <td>0</td>\n",
       "      <td>0</td>\n",
       "      <td>0</td>\n",
       "      <td>0</td>\n",
       "      <td>0</td>\n",
       "    </tr>\n",
       "  </tbody>\n",
       "</table>\n",
       "<p>5 rows × 36 columns</p>\n",
       "</div>"
      ],
      "text/plain": [
       "   Tweet_ID     Entity   Sentiment  \\\n",
       "0      3364   Facebook  Irrelevant   \n",
       "1       352     Amazon     Neutral   \n",
       "2      8312  Microsoft    Negative   \n",
       "3      4371      CS-GO    Negative   \n",
       "4      4433     Google     Neutral   \n",
       "\n",
       "                                       Tweet_Content  Amazon  ApexLegends  \\\n",
       "0  I mentioned on Facebook that I was struggling ...       0            0   \n",
       "1  BBC News - Amazon boss Jeff Bezos rejects clai...       1            0   \n",
       "2  @Microsoft Why do I pay for WORD when it funct...       0            0   \n",
       "3  CSGO matchmaking is so full of closet hacking,...       0            0   \n",
       "4  Now the President is slapping Americans in the...       0            0   \n",
       "\n",
       "   AssassinsCreed  Battlefield  Borderlands  CS-GO  ...  Overwatch  \\\n",
       "0               0            0            0      0  ...          0   \n",
       "1               0            0            0      0  ...          0   \n",
       "2               0            0            0      0  ...          0   \n",
       "3               0            0            0      1  ...          0   \n",
       "4               0            0            0      0  ...          0   \n",
       "\n",
       "   PlayStation5(PS5)  PlayerUnknownsBattlegrounds(PUBG)  \\\n",
       "0                  0                                  0   \n",
       "1                  0                                  0   \n",
       "2                  0                                  0   \n",
       "3                  0                                  0   \n",
       "4                  0                                  0   \n",
       "\n",
       "   RedDeadRedemption(RDR)  TomClancysGhostRecon  TomClancysRainbowSix  \\\n",
       "0                       0                     0                     0   \n",
       "1                       0                     0                     0   \n",
       "2                       0                     0                     0   \n",
       "3                       0                     0                     0   \n",
       "4                       0                     0                     0   \n",
       "\n",
       "   Verizon  WorldOfCraft  Xbox(Xseries)  johnson&johnson  \n",
       "0        0             0              0                0  \n",
       "1        0             0              0                0  \n",
       "2        0             0              0                0  \n",
       "3        0             0              0                0  \n",
       "4        0             0              0                0  \n",
       "\n",
       "[5 rows x 36 columns]"
      ]
     },
     "execution_count": 32,
     "metadata": {},
     "output_type": "execute_result"
    }
   ],
   "source": [
    "onehot = pd.get_dummies(test_df[\"Entity\"])\n",
    "\n",
    "test_df = test_df.join(onehot)\n",
    "\n",
    "test_df.head()"
   ]
  },
  {
   "cell_type": "code",
   "execution_count": 33,
   "metadata": {},
   "outputs": [],
   "source": [
    "test_df[\"Tweet_Content_Split\"] = test_df[\"Tweet_Content\"].apply(word_tokenize)\n",
    "test_df[\"Tweet_Content_Split\"] = test_df[\"Tweet_Content_Split\"].apply(remove_stopwords)"
   ]
  },
  {
   "cell_type": "code",
   "execution_count": 34,
   "metadata": {},
   "outputs": [],
   "source": [
    "test_tweet_tokens = tokeniser.texts_to_matrix(list(test_df[\"Tweet_Content_Split\"]))"
   ]
  },
  {
   "cell_type": "code",
   "execution_count": 35,
   "metadata": {},
   "outputs": [],
   "source": [
    "y = test_df[\"Sentiment\"]\n",
    "\n",
    "names_to_ids = lambda y: np.array([class_to_index.get(x) for x in test_df[\"Sentiment\"]])\n",
    "\n",
    "test_labels = names_to_ids(y)"
   ]
  },
  {
   "cell_type": "code",
   "execution_count": 36,
   "metadata": {},
   "outputs": [
    {
     "data": {
      "text/html": [
       "<div>\n",
       "<style scoped>\n",
       "    .dataframe tbody tr th:only-of-type {\n",
       "        vertical-align: middle;\n",
       "    }\n",
       "\n",
       "    .dataframe tbody tr th {\n",
       "        vertical-align: top;\n",
       "    }\n",
       "\n",
       "    .dataframe thead th {\n",
       "        text-align: right;\n",
       "    }\n",
       "</style>\n",
       "<table border=\"1\" class=\"dataframe\">\n",
       "  <thead>\n",
       "    <tr style=\"text-align: right;\">\n",
       "      <th></th>\n",
       "      <th>Tweet_ID</th>\n",
       "      <th>Entity</th>\n",
       "      <th>Sentiment</th>\n",
       "      <th>Tweet_Content</th>\n",
       "      <th>Amazon</th>\n",
       "      <th>ApexLegends</th>\n",
       "      <th>AssassinsCreed</th>\n",
       "      <th>Battlefield</th>\n",
       "      <th>Borderlands</th>\n",
       "      <th>CS-GO</th>\n",
       "      <th>...</th>\n",
       "      <th>PlayStation5(PS5)</th>\n",
       "      <th>PlayerUnknownsBattlegrounds(PUBG)</th>\n",
       "      <th>RedDeadRedemption(RDR)</th>\n",
       "      <th>TomClancysGhostRecon</th>\n",
       "      <th>TomClancysRainbowSix</th>\n",
       "      <th>Verizon</th>\n",
       "      <th>WorldOfCraft</th>\n",
       "      <th>Xbox(Xseries)</th>\n",
       "      <th>johnson&amp;johnson</th>\n",
       "      <th>Tweet_Content_Split</th>\n",
       "    </tr>\n",
       "  </thead>\n",
       "  <tbody>\n",
       "    <tr>\n",
       "      <th>0</th>\n",
       "      <td>3364</td>\n",
       "      <td>Facebook</td>\n",
       "      <td>Irrelevant</td>\n",
       "      <td>I mentioned on Facebook that I was struggling ...</td>\n",
       "      <td>0</td>\n",
       "      <td>0</td>\n",
       "      <td>0</td>\n",
       "      <td>0</td>\n",
       "      <td>0</td>\n",
       "      <td>0</td>\n",
       "      <td>...</td>\n",
       "      <td>0</td>\n",
       "      <td>0</td>\n",
       "      <td>0</td>\n",
       "      <td>0</td>\n",
       "      <td>0</td>\n",
       "      <td>0</td>\n",
       "      <td>0</td>\n",
       "      <td>0</td>\n",
       "      <td>0</td>\n",
       "      <td>I mentioned Facebook I struggling motivation g...</td>\n",
       "    </tr>\n",
       "    <tr>\n",
       "      <th>1</th>\n",
       "      <td>352</td>\n",
       "      <td>Amazon</td>\n",
       "      <td>Neutral</td>\n",
       "      <td>BBC News - Amazon boss Jeff Bezos rejects clai...</td>\n",
       "      <td>1</td>\n",
       "      <td>0</td>\n",
       "      <td>0</td>\n",
       "      <td>0</td>\n",
       "      <td>0</td>\n",
       "      <td>0</td>\n",
       "      <td>...</td>\n",
       "      <td>0</td>\n",
       "      <td>0</td>\n",
       "      <td>0</td>\n",
       "      <td>0</td>\n",
       "      <td>0</td>\n",
       "      <td>0</td>\n",
       "      <td>0</td>\n",
       "      <td>0</td>\n",
       "      <td>0</td>\n",
       "      <td>BBC News Amazon bos Jeff Bezos reject claim co...</td>\n",
       "    </tr>\n",
       "    <tr>\n",
       "      <th>2</th>\n",
       "      <td>8312</td>\n",
       "      <td>Microsoft</td>\n",
       "      <td>Negative</td>\n",
       "      <td>@Microsoft Why do I pay for WORD when it funct...</td>\n",
       "      <td>0</td>\n",
       "      <td>0</td>\n",
       "      <td>0</td>\n",
       "      <td>0</td>\n",
       "      <td>0</td>\n",
       "      <td>0</td>\n",
       "      <td>...</td>\n",
       "      <td>0</td>\n",
       "      <td>0</td>\n",
       "      <td>0</td>\n",
       "      <td>0</td>\n",
       "      <td>0</td>\n",
       "      <td>0</td>\n",
       "      <td>0</td>\n",
       "      <td>0</td>\n",
       "      <td>0</td>\n",
       "      <td>Microsoft Why I pay WORD function poorly Samsu...</td>\n",
       "    </tr>\n",
       "    <tr>\n",
       "      <th>3</th>\n",
       "      <td>4371</td>\n",
       "      <td>CS-GO</td>\n",
       "      <td>Negative</td>\n",
       "      <td>CSGO matchmaking is so full of closet hacking,...</td>\n",
       "      <td>0</td>\n",
       "      <td>0</td>\n",
       "      <td>0</td>\n",
       "      <td>0</td>\n",
       "      <td>0</td>\n",
       "      <td>1</td>\n",
       "      <td>...</td>\n",
       "      <td>0</td>\n",
       "      <td>0</td>\n",
       "      <td>0</td>\n",
       "      <td>0</td>\n",
       "      <td>0</td>\n",
       "      <td>0</td>\n",
       "      <td>0</td>\n",
       "      <td>0</td>\n",
       "      <td>0</td>\n",
       "      <td>CSGO matchmaking full closet hacking truly awf...</td>\n",
       "    </tr>\n",
       "    <tr>\n",
       "      <th>4</th>\n",
       "      <td>4433</td>\n",
       "      <td>Google</td>\n",
       "      <td>Neutral</td>\n",
       "      <td>Now the President is slapping Americans in the...</td>\n",
       "      <td>0</td>\n",
       "      <td>0</td>\n",
       "      <td>0</td>\n",
       "      <td>0</td>\n",
       "      <td>0</td>\n",
       "      <td>0</td>\n",
       "      <td>...</td>\n",
       "      <td>0</td>\n",
       "      <td>0</td>\n",
       "      <td>0</td>\n",
       "      <td>0</td>\n",
       "      <td>0</td>\n",
       "      <td>0</td>\n",
       "      <td>0</td>\n",
       "      <td>0</td>\n",
       "      <td>0</td>\n",
       "      <td>Now President slapping Americans really commit...</td>\n",
       "    </tr>\n",
       "  </tbody>\n",
       "</table>\n",
       "<p>5 rows × 37 columns</p>\n",
       "</div>"
      ],
      "text/plain": [
       "   Tweet_ID     Entity   Sentiment  \\\n",
       "0      3364   Facebook  Irrelevant   \n",
       "1       352     Amazon     Neutral   \n",
       "2      8312  Microsoft    Negative   \n",
       "3      4371      CS-GO    Negative   \n",
       "4      4433     Google     Neutral   \n",
       "\n",
       "                                       Tweet_Content  Amazon  ApexLegends  \\\n",
       "0  I mentioned on Facebook that I was struggling ...       0            0   \n",
       "1  BBC News - Amazon boss Jeff Bezos rejects clai...       1            0   \n",
       "2  @Microsoft Why do I pay for WORD when it funct...       0            0   \n",
       "3  CSGO matchmaking is so full of closet hacking,...       0            0   \n",
       "4  Now the President is slapping Americans in the...       0            0   \n",
       "\n",
       "   AssassinsCreed  Battlefield  Borderlands  CS-GO  ...  PlayStation5(PS5)  \\\n",
       "0               0            0            0      0  ...                  0   \n",
       "1               0            0            0      0  ...                  0   \n",
       "2               0            0            0      0  ...                  0   \n",
       "3               0            0            0      1  ...                  0   \n",
       "4               0            0            0      0  ...                  0   \n",
       "\n",
       "   PlayerUnknownsBattlegrounds(PUBG)  RedDeadRedemption(RDR)  \\\n",
       "0                                  0                       0   \n",
       "1                                  0                       0   \n",
       "2                                  0                       0   \n",
       "3                                  0                       0   \n",
       "4                                  0                       0   \n",
       "\n",
       "   TomClancysGhostRecon  TomClancysRainbowSix  Verizon  WorldOfCraft  \\\n",
       "0                     0                     0        0             0   \n",
       "1                     0                     0        0             0   \n",
       "2                     0                     0        0             0   \n",
       "3                     0                     0        0             0   \n",
       "4                     0                     0        0             0   \n",
       "\n",
       "   Xbox(Xseries)  johnson&johnson  \\\n",
       "0              0                0   \n",
       "1              0                0   \n",
       "2              0                0   \n",
       "3              0                0   \n",
       "4              0                0   \n",
       "\n",
       "                                 Tweet_Content_Split  \n",
       "0  I mentioned Facebook I struggling motivation g...  \n",
       "1  BBC News Amazon bos Jeff Bezos reject claim co...  \n",
       "2  Microsoft Why I pay WORD function poorly Samsu...  \n",
       "3  CSGO matchmaking full closet hacking truly awf...  \n",
       "4  Now President slapping Americans really commit...  \n",
       "\n",
       "[5 rows x 37 columns]"
      ]
     },
     "execution_count": 36,
     "metadata": {},
     "output_type": "execute_result"
    }
   ],
   "source": [
    "test_df.head()"
   ]
  },
  {
   "cell_type": "code",
   "execution_count": 37,
   "metadata": {},
   "outputs": [],
   "source": [
    "y = test_labels\n",
    "\n",
    "test_df2 = test_df.drop([\"Sentiment\", \"Entity\", \"Tweet_ID\", \"Tweet_Content\", \"Tweet_Content_Split\"], axis=1)"
   ]
  },
  {
   "cell_type": "code",
   "execution_count": 38,
   "metadata": {},
   "outputs": [
    {
     "name": "stdout",
     "output_type": "stream",
     "text": [
      "WARNING:tensorflow:Model was constructed with shape (None, 532) for input KerasTensor(type_spec=TensorSpec(shape=(None, 532), dtype=tf.float32, name='embedding_1_input'), name='embedding_1_input', description=\"created by layer 'embedding_1_input'\"), but it was called on an input with incompatible shape (None, 32).\n",
      "32/32 [==============================] - 1s 8ms/step - loss: 1.0730 - accuracy: 0.4570\n"
     ]
    },
    {
     "data": {
      "text/plain": [
       "[1.0729602575302124, 0.4569999873638153]"
      ]
     },
     "execution_count": 38,
     "metadata": {},
     "output_type": "execute_result"
    }
   ],
   "source": [
    "model.evaluate(test_df2, y)"
   ]
  },
  {
   "cell_type": "markdown",
   "metadata": {
    "cell_id": "00045-1c9f580f-0913-4a52-ba76-597404000136",
    "deepnote_cell_type": "text-cell-h2",
    "is_collapsed": false,
    "tags": []
   },
   "source": [
    "## Generate Predictions"
   ]
  },
  {
   "cell_type": "code",
   "execution_count": 39,
   "metadata": {
    "cell_id": "00046-fd438663-20b6-41a4-97c6-88d3f9e77c18",
    "deepnote_cell_type": "code",
    "deepnote_to_be_reexecuted": false,
    "execution_millis": 4810,
    "execution_start": 1632761905994,
    "source_hash": "91739caa"
   },
   "outputs": [],
   "source": [
    "y_pred = model.predict(X_test)\n",
    "preds = [round(sum(y_pred[i,:])) for i in range(len(y_pred))]\n",
    "\n",
    "y_pred_labels = ids_to_names(preds)"
   ]
  },
  {
   "cell_type": "code",
   "execution_count": 42,
   "metadata": {
    "cell_id": "00047-bd881f2f-aec8-4e87-9d0b-268517be4e54",
    "deepnote_cell_type": "code",
    "deepnote_to_be_reexecuted": false,
    "execution_millis": 7,
    "execution_start": 1632761910810,
    "source_hash": "c0dbe3fe"
   },
   "outputs": [
    {
     "data": {
      "text/plain": [
       "{'Negative'}"
      ]
     },
     "execution_count": 42,
     "metadata": {},
     "output_type": "execute_result"
    }
   ],
   "source": [
    "set(y_pred_labels)"
   ]
  },
  {
   "cell_type": "code",
   "execution_count": null,
   "metadata": {},
   "outputs": [],
   "source": []
  }
 ],
 "metadata": {
  "deepnote": {},
  "deepnote_execution_queue": [],
  "deepnote_notebook_id": "adc1179c-97d7-4dc5-9848-2aa6e7a9f987",
  "kernelspec": {
   "display_name": "Python 3",
   "language": "python",
   "name": "python3"
  },
  "language_info": {
   "codemirror_mode": {
    "name": "ipython",
    "version": 3
   },
   "file_extension": ".py",
   "mimetype": "text/x-python",
   "name": "python",
   "nbconvert_exporter": "python",
   "pygments_lexer": "ipython3",
   "version": "3.6.12"
  }
 },
 "nbformat": 4,
 "nbformat_minor": 4
}
