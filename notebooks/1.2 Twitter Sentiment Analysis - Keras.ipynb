{
 "cells": [
  {
   "cell_type": "markdown",
   "metadata": {
    "cell_id": "00001-08da45e7-9138-416a-b1f7-746632dcf559",
    "deepnote_cell_type": "markdown",
    "papermill": {
     "duration": 0.054266,
     "end_time": "2021-10-29T22:03:13.403710",
     "exception": false,
     "start_time": "2021-10-29T22:03:13.349444",
     "status": "completed"
    },
    "tags": []
   },
   "source": [
    "# Initial Preparation"
   ]
  },
  {
   "cell_type": "markdown",
   "metadata": {
    "cell_id": "00002-b8665dcb-9540-4587-8512-8e31e2a4503d",
    "deepnote_cell_type": "markdown",
    "papermill": {
     "duration": 0.048582,
     "end_time": "2021-10-29T22:03:13.501894",
     "exception": false,
     "start_time": "2021-10-29T22:03:13.453312",
     "status": "completed"
    },
    "tags": []
   },
   "source": [
    "## Import Packages"
   ]
  },
  {
   "cell_type": "code",
   "execution_count": 1,
   "metadata": {
    "cell_id": "00003-5fead239-edcc-4456-acc5-f9c9d818c320",
    "deepnote_cell_type": "code",
    "deepnote_to_be_reexecuted": false,
    "execution": {
     "iopub.execute_input": "2021-10-29T22:03:13.606024Z",
     "iopub.status.busy": "2021-10-29T22:03:13.604538Z",
     "iopub.status.idle": "2021-10-29T22:03:15.015231Z",
     "shell.execute_reply": "2021-10-29T22:03:15.014630Z"
    },
    "execution_millis": 4146,
    "execution_start": 1633087299465,
    "papermill": {
     "duration": 1.46454,
     "end_time": "2021-10-29T22:03:15.015382",
     "exception": false,
     "start_time": "2021-10-29T22:03:13.550842",
     "status": "completed"
    },
    "source_hash": "c258cc36",
    "tags": []
   },
   "outputs": [],
   "source": [
    "import pandas as pd\n",
    "from textblob import TextBlob\n",
    "import numpy as np\n",
    "import matplotlib.pyplot as plt\n",
    "from sklearn.model_selection import train_test_split\n",
    "#from pandas_profiling import ProfileReport"
   ]
  },
  {
   "cell_type": "markdown",
   "metadata": {
    "cell_id": "00004-bb2dc2e1-9296-4b4c-82a6-31d5c94d8a23",
    "deepnote_cell_type": "markdown",
    "papermill": {
     "duration": 0.029713,
     "end_time": "2021-10-29T22:03:15.075769",
     "exception": false,
     "start_time": "2021-10-29T22:03:15.046056",
     "status": "completed"
    },
    "tags": []
   },
   "source": [
    "## Import Data"
   ]
  },
  {
   "cell_type": "code",
   "execution_count": 2,
   "metadata": {
    "cell_id": "00005-6068a179-69c8-42e5-9f10-f58e55ee5c7f",
    "deepnote_cell_type": "code",
    "deepnote_to_be_reexecuted": false,
    "execution": {
     "iopub.execute_input": "2021-10-29T22:03:15.148033Z",
     "iopub.status.busy": "2021-10-29T22:03:15.147407Z",
     "iopub.status.idle": "2021-10-29T22:03:15.954376Z",
     "shell.execute_reply": "2021-10-29T22:03:15.954885Z"
    },
    "execution_millis": 403,
    "execution_start": 1632760967712,
    "papermill": {
     "duration": 0.848637,
     "end_time": "2021-10-29T22:03:15.955071",
     "exception": false,
     "start_time": "2021-10-29T22:03:15.106434",
     "status": "completed"
    },
    "source_hash": "268fbbff",
    "tags": []
   },
   "outputs": [],
   "source": [
    "url = \"https://raw.githubusercontent.com/Cameron-Watts/PDS_Piece/main/data/raw/twitter_training.csv\"\n",
    "\n",
    "df = pd.read_csv(url, names=[\"Tweet_ID\", \"Entity\", \"Sentiment\", \"Tweet_Content\"])"
   ]
  },
  {
   "cell_type": "code",
   "execution_count": 3,
   "metadata": {
    "execution": {
     "iopub.execute_input": "2021-10-29T22:03:16.022350Z",
     "iopub.status.busy": "2021-10-29T22:03:16.021797Z",
     "iopub.status.idle": "2021-10-29T22:03:16.027113Z",
     "shell.execute_reply": "2021-10-29T22:03:16.027577Z"
    },
    "papermill": {
     "duration": 0.042165,
     "end_time": "2021-10-29T22:03:16.027718",
     "exception": false,
     "start_time": "2021-10-29T22:03:15.985553",
     "status": "completed"
    },
    "tags": []
   },
   "outputs": [
    {
     "data": {
      "text/plain": [
       "74682"
      ]
     },
     "execution_count": 3,
     "metadata": {},
     "output_type": "execute_result"
    }
   ],
   "source": [
    "len(df)"
   ]
  },
  {
   "cell_type": "markdown",
   "metadata": {
    "papermill": {
     "duration": 0.030612,
     "end_time": "2021-10-29T22:03:16.089303",
     "exception": false,
     "start_time": "2021-10-29T22:03:16.058691",
     "status": "completed"
    },
    "tags": []
   },
   "source": [
    "## Subset Data"
   ]
  },
  {
   "cell_type": "code",
   "execution_count": 4,
   "metadata": {
    "execution": {
     "iopub.execute_input": "2021-10-29T22:03:16.154393Z",
     "iopub.status.busy": "2021-10-29T22:03:16.153461Z",
     "iopub.status.idle": "2021-10-29T22:03:16.156062Z",
     "shell.execute_reply": "2021-10-29T22:03:16.155633Z"
    },
    "papermill": {
     "duration": 0.036095,
     "end_time": "2021-10-29T22:03:16.156175",
     "exception": false,
     "start_time": "2021-10-29T22:03:16.120080",
     "status": "completed"
    },
    "tags": []
   },
   "outputs": [],
   "source": [
    "#df = df.sample(frac=0.1)"
   ]
  },
  {
   "cell_type": "markdown",
   "metadata": {
    "cell_id": "00006-5bb3676f-305f-4612-a78f-6af25a4a28b2",
    "deepnote_cell_type": "markdown",
    "papermill": {
     "duration": 0.030033,
     "end_time": "2021-10-29T22:03:16.216392",
     "exception": false,
     "start_time": "2021-10-29T22:03:16.186359",
     "status": "completed"
    },
    "tags": []
   },
   "source": [
    "## Visualise and Explore Data"
   ]
  },
  {
   "cell_type": "code",
   "execution_count": 5,
   "metadata": {
    "cell_id": "00007-7408e4a5-ea21-48c6-9586-ec57003792b0",
    "deepnote_cell_type": "code",
    "deepnote_to_be_reexecuted": false,
    "execution": {
     "iopub.execute_input": "2021-10-29T22:03:16.311487Z",
     "iopub.status.busy": "2021-10-29T22:03:16.310328Z",
     "iopub.status.idle": "2021-10-29T22:03:16.324284Z",
     "shell.execute_reply": "2021-10-29T22:03:16.325266Z"
    },
    "execution_millis": 138,
    "execution_start": 1632760968128,
    "is_code_hidden": true,
    "is_output_hidden": true,
    "papermill": {
     "duration": 0.077926,
     "end_time": "2021-10-29T22:03:16.325539",
     "exception": false,
     "start_time": "2021-10-29T22:03:16.247613",
     "status": "completed"
    },
    "source_hash": "de1e323c",
    "tags": []
   },
   "outputs": [
    {
     "name": "stdout",
     "output_type": "stream",
     "text": [
      "<class 'pandas.core.frame.DataFrame'>\n",
      "RangeIndex: 74682 entries, 0 to 74681\n",
      "Data columns (total 4 columns):\n",
      " #   Column         Non-Null Count  Dtype \n",
      "---  ------         --------------  ----- \n",
      " 0   Tweet_ID       74682 non-null  int64 \n",
      " 1   Entity         74682 non-null  object\n",
      " 2   Sentiment      74682 non-null  object\n",
      " 3   Tweet_Content  73996 non-null  object\n",
      "dtypes: int64(1), object(3)\n",
      "memory usage: 2.3+ MB\n"
     ]
    }
   ],
   "source": [
    "df.info()"
   ]
  },
  {
   "cell_type": "code",
   "execution_count": 6,
   "metadata": {
    "cell_id": "00008-4a286ef6-f3d9-4cfa-b507-0f1c5ec27ff3",
    "deepnote_cell_type": "code",
    "deepnote_to_be_reexecuted": false,
    "execution": {
     "iopub.execute_input": "2021-10-29T22:03:16.461881Z",
     "iopub.status.busy": "2021-10-29T22:03:16.461051Z",
     "iopub.status.idle": "2021-10-29T22:03:16.480893Z",
     "shell.execute_reply": "2021-10-29T22:03:16.482002Z"
    },
    "execution_millis": 110,
    "execution_start": 1632760968156,
    "is_code_hidden": true,
    "is_output_hidden": true,
    "papermill": {
     "duration": 0.091807,
     "end_time": "2021-10-29T22:03:16.482261",
     "exception": false,
     "start_time": "2021-10-29T22:03:16.390454",
     "status": "completed"
    },
    "source_hash": "c085b6ba",
    "tags": []
   },
   "outputs": [
    {
     "data": {
      "text/html": [
       "<div>\n",
       "<style scoped>\n",
       "    .dataframe tbody tr th:only-of-type {\n",
       "        vertical-align: middle;\n",
       "    }\n",
       "\n",
       "    .dataframe tbody tr th {\n",
       "        vertical-align: top;\n",
       "    }\n",
       "\n",
       "    .dataframe thead th {\n",
       "        text-align: right;\n",
       "    }\n",
       "</style>\n",
       "<table border=\"1\" class=\"dataframe\">\n",
       "  <thead>\n",
       "    <tr style=\"text-align: right;\">\n",
       "      <th></th>\n",
       "      <th>Tweet_ID</th>\n",
       "      <th>Entity</th>\n",
       "      <th>Sentiment</th>\n",
       "      <th>Tweet_Content</th>\n",
       "    </tr>\n",
       "  </thead>\n",
       "  <tbody>\n",
       "    <tr>\n",
       "      <th>0</th>\n",
       "      <td>2401</td>\n",
       "      <td>Borderlands</td>\n",
       "      <td>Positive</td>\n",
       "      <td>im getting on borderlands and i will murder yo...</td>\n",
       "    </tr>\n",
       "    <tr>\n",
       "      <th>1</th>\n",
       "      <td>2401</td>\n",
       "      <td>Borderlands</td>\n",
       "      <td>Positive</td>\n",
       "      <td>I am coming to the borders and I will kill you...</td>\n",
       "    </tr>\n",
       "    <tr>\n",
       "      <th>2</th>\n",
       "      <td>2401</td>\n",
       "      <td>Borderlands</td>\n",
       "      <td>Positive</td>\n",
       "      <td>im getting on borderlands and i will kill you ...</td>\n",
       "    </tr>\n",
       "    <tr>\n",
       "      <th>3</th>\n",
       "      <td>2401</td>\n",
       "      <td>Borderlands</td>\n",
       "      <td>Positive</td>\n",
       "      <td>im coming on borderlands and i will murder you...</td>\n",
       "    </tr>\n",
       "    <tr>\n",
       "      <th>4</th>\n",
       "      <td>2401</td>\n",
       "      <td>Borderlands</td>\n",
       "      <td>Positive</td>\n",
       "      <td>im getting on borderlands 2 and i will murder ...</td>\n",
       "    </tr>\n",
       "  </tbody>\n",
       "</table>\n",
       "</div>"
      ],
      "text/plain": [
       "   Tweet_ID       Entity Sentiment  \\\n",
       "0      2401  Borderlands  Positive   \n",
       "1      2401  Borderlands  Positive   \n",
       "2      2401  Borderlands  Positive   \n",
       "3      2401  Borderlands  Positive   \n",
       "4      2401  Borderlands  Positive   \n",
       "\n",
       "                                       Tweet_Content  \n",
       "0  im getting on borderlands and i will murder yo...  \n",
       "1  I am coming to the borders and I will kill you...  \n",
       "2  im getting on borderlands and i will kill you ...  \n",
       "3  im coming on borderlands and i will murder you...  \n",
       "4  im getting on borderlands 2 and i will murder ...  "
      ]
     },
     "execution_count": 6,
     "metadata": {},
     "output_type": "execute_result"
    }
   ],
   "source": [
    "df.head()"
   ]
  },
  {
   "cell_type": "code",
   "execution_count": 7,
   "metadata": {
    "cell_id": "00009-4b741683-13cd-4356-af20-adc1d83a3209",
    "deepnote_cell_type": "code",
    "deepnote_to_be_reexecuted": false,
    "execution": {
     "iopub.execute_input": "2021-10-29T22:03:16.603581Z",
     "iopub.status.busy": "2021-10-29T22:03:16.602717Z",
     "iopub.status.idle": "2021-10-29T22:03:16.605554Z",
     "shell.execute_reply": "2021-10-29T22:03:16.604741Z"
    },
    "execution_millis": 10256,
    "execution_start": 1632760968173,
    "is_code_hidden": true,
    "is_output_hidden": true,
    "papermill": {
     "duration": 0.064364,
     "end_time": "2021-10-29T22:03:16.605713",
     "exception": false,
     "start_time": "2021-10-29T22:03:16.541349",
     "status": "completed"
    },
    "source_hash": "90069898",
    "tags": []
   },
   "outputs": [],
   "source": [
    "#profile = ProfileReport(df, title=\"Pandas Profiling Report\", explorative=True)\n",
    "#profile"
   ]
  },
  {
   "cell_type": "markdown",
   "metadata": {
    "cell_id": "00010-eec33dfe-1b3b-4afc-bcf4-9ca98a869024",
    "deepnote_cell_type": "markdown",
    "papermill": {
     "duration": 0.054491,
     "end_time": "2021-10-29T22:03:16.714746",
     "exception": false,
     "start_time": "2021-10-29T22:03:16.660255",
     "status": "completed"
    },
    "tags": []
   },
   "source": [
    "## Clean Data"
   ]
  },
  {
   "cell_type": "code",
   "execution_count": 8,
   "metadata": {
    "cell_id": "00011-053ed740-c857-4135-8bfc-7879c7a2b2c4",
    "deepnote_cell_type": "code",
    "deepnote_to_be_reexecuted": false,
    "execution": {
     "iopub.execute_input": "2021-10-29T22:03:16.835250Z",
     "iopub.status.busy": "2021-10-29T22:03:16.834493Z",
     "iopub.status.idle": "2021-10-29T22:03:17.174085Z",
     "shell.execute_reply": "2021-10-29T22:03:17.174483Z"
    },
    "execution_millis": 196,
    "execution_start": 1632760978416,
    "is_code_hidden": true,
    "is_output_hidden": true,
    "papermill": {
     "duration": 0.405583,
     "end_time": "2021-10-29T22:03:17.174631",
     "exception": false,
     "start_time": "2021-10-29T22:03:16.769048",
     "status": "completed"
    },
    "source_hash": "a700bc3",
    "tags": []
   },
   "outputs": [
    {
     "data": {
      "text/plain": [
       "<BarContainer object of 4 artists>"
      ]
     },
     "execution_count": 8,
     "metadata": {},
     "output_type": "execute_result"
    },
    {
     "data": {
      "image/png": "[encoded data removed]",
      "text/plain": [
       "<Figure size 432x288 with 1 Axes>"
      ]
     },
     "metadata": {
      "needs_background": "light"
     },
     "output_type": "display_data"
    }
   ],
   "source": [
    "# To see what's going on before dropping datapoints\n",
    "sentiments = list(df[\"Sentiment\"].unique())\n",
    "\n",
    "sentiment_nums = [len(df[df[\"Sentiment\"] == sentiment]) for sentiment in sentiments]\n",
    "\n",
    "labels = sentiments\n",
    "\n",
    "plt.bar(sentiments, sentiment_nums)"
   ]
  },
  {
   "cell_type": "code",
   "execution_count": 9,
   "metadata": {
    "cell_id": "00012-a848166e-ff28-4228-90ce-2e70bd93da61",
    "deepnote_cell_type": "code",
    "deepnote_to_be_reexecuted": false,
    "execution": {
     "iopub.execute_input": "2021-10-29T22:03:17.263723Z",
     "iopub.status.busy": "2021-10-29T22:03:17.262989Z",
     "iopub.status.idle": "2021-10-29T22:03:17.285731Z",
     "shell.execute_reply": "2021-10-29T22:03:17.285325Z"
    },
    "execution_millis": 0,
    "execution_start": 1632760978662,
    "is_code_hidden": true,
    "papermill": {
     "duration": 0.078948,
     "end_time": "2021-10-29T22:03:17.285839",
     "exception": false,
     "start_time": "2021-10-29T22:03:17.206891",
     "status": "completed"
    },
    "source_hash": "4314666a",
    "tags": []
   },
   "outputs": [],
   "source": [
    "df = df.dropna()"
   ]
  },
  {
   "cell_type": "markdown",
   "metadata": {
    "cell_id": "00013-1c182413-1f88-4c60-815e-99b0fc474045",
    "deepnote_cell_type": "markdown",
    "papermill": {
     "duration": 0.032173,
     "end_time": "2021-10-29T22:03:17.350441",
     "exception": false,
     "start_time": "2021-10-29T22:03:17.318268",
     "status": "completed"
    },
    "tags": []
   },
   "source": [
    "# Further Exploration"
   ]
  },
  {
   "cell_type": "code",
   "execution_count": 10,
   "metadata": {
    "cell_id": "00014-99ddfb74-9560-4022-ab9a-5440d59b0709",
    "deepnote_cell_type": "code",
    "deepnote_to_be_reexecuted": false,
    "execution": {
     "iopub.execute_input": "2021-10-29T22:03:17.422895Z",
     "iopub.status.busy": "2021-10-29T22:03:17.422219Z",
     "iopub.status.idle": "2021-10-29T22:03:17.427967Z",
     "shell.execute_reply": "2021-10-29T22:03:17.427582Z"
    },
    "execution_millis": 7,
    "execution_start": 1632760978663,
    "is_code_hidden": true,
    "is_output_hidden": true,
    "papermill": {
     "duration": 0.045047,
     "end_time": "2021-10-29T22:03:17.428081",
     "exception": false,
     "start_time": "2021-10-29T22:03:17.383034",
     "status": "completed"
    },
    "source_hash": "c8d2bb32",
    "tags": []
   },
   "outputs": [
    {
     "data": {
      "text/plain": [
       "array(['Positive', 'Neutral', 'Negative', 'Irrelevant'], dtype=object)"
      ]
     },
     "execution_count": 10,
     "metadata": {},
     "output_type": "execute_result"
    }
   ],
   "source": [
    "df[\"Sentiment\"].unique()"
   ]
  },
  {
   "cell_type": "code",
   "execution_count": 11,
   "metadata": {
    "cell_id": "00015-56a94f9b-2a0a-40dd-9993-0502a5a6ceaa",
    "deepnote_cell_type": "code",
    "deepnote_to_be_reexecuted": false,
    "execution": {
     "iopub.execute_input": "2021-10-29T22:03:17.501565Z",
     "iopub.status.busy": "2021-10-29T22:03:17.500862Z",
     "iopub.status.idle": "2021-10-29T22:03:17.547462Z",
     "shell.execute_reply": "2021-10-29T22:03:17.548025Z"
    },
    "execution_millis": 74,
    "execution_start": 1632760978664,
    "is_code_hidden": true,
    "is_output_hidden": true,
    "papermill": {
     "duration": 0.08735,
     "end_time": "2021-10-29T22:03:17.548201",
     "exception": false,
     "start_time": "2021-10-29T22:03:17.460851",
     "status": "completed"
    },
    "source_hash": "574a9ca",
    "tags": []
   },
   "outputs": [
    {
     "name": "stdout",
     "output_type": "stream",
     "text": [
      "['Borderlands' 'CallOfDutyBlackopsColdWar' 'Amazon' 'Overwatch'\n",
      " 'Xbox(Xseries)' 'NBA2K' 'Dota2' 'PlayStation5(PS5)' 'WorldOfCraft'\n",
      " 'CS-GO' 'Google' 'AssassinsCreed' 'ApexLegends' 'LeagueOfLegends'\n",
      " 'Fortnite' 'Microsoft' 'Hearthstone' 'Battlefield'\n",
      " 'PlayerUnknownsBattlegrounds(PUBG)' 'Verizon' 'HomeDepot' 'FIFA'\n",
      " 'RedDeadRedemption(RDR)' 'CallOfDuty' 'TomClancysRainbowSix' 'Facebook'\n",
      " 'GrandTheftAuto(GTA)' 'MaddenNFL' 'johnson&johnson' 'Cyberpunk2077'\n",
      " 'TomClancysGhostRecon' 'Nvidia']\n",
      "32\n"
     ]
    },
    {
     "data": {
      "text/html": [
       "<div>\n",
       "<style scoped>\n",
       "    .dataframe tbody tr th:only-of-type {\n",
       "        vertical-align: middle;\n",
       "    }\n",
       "\n",
       "    .dataframe tbody tr th {\n",
       "        vertical-align: top;\n",
       "    }\n",
       "\n",
       "    .dataframe thead th {\n",
       "        text-align: right;\n",
       "    }\n",
       "</style>\n",
       "<table border=\"1\" class=\"dataframe\">\n",
       "  <thead>\n",
       "    <tr style=\"text-align: right;\">\n",
       "      <th></th>\n",
       "      <th>Tweet_ID</th>\n",
       "      <th>Entity</th>\n",
       "      <th>Sentiment</th>\n",
       "      <th>Tweet_Content</th>\n",
       "      <th>Amazon</th>\n",
       "      <th>ApexLegends</th>\n",
       "      <th>AssassinsCreed</th>\n",
       "      <th>Battlefield</th>\n",
       "      <th>Borderlands</th>\n",
       "      <th>CS-GO</th>\n",
       "      <th>...</th>\n",
       "      <th>Overwatch</th>\n",
       "      <th>PlayStation5(PS5)</th>\n",
       "      <th>PlayerUnknownsBattlegrounds(PUBG)</th>\n",
       "      <th>RedDeadRedemption(RDR)</th>\n",
       "      <th>TomClancysGhostRecon</th>\n",
       "      <th>TomClancysRainbowSix</th>\n",
       "      <th>Verizon</th>\n",
       "      <th>WorldOfCraft</th>\n",
       "      <th>Xbox(Xseries)</th>\n",
       "      <th>johnson&amp;johnson</th>\n",
       "    </tr>\n",
       "  </thead>\n",
       "  <tbody>\n",
       "    <tr>\n",
       "      <th>0</th>\n",
       "      <td>2401</td>\n",
       "      <td>Borderlands</td>\n",
       "      <td>Positive</td>\n",
       "      <td>im getting on borderlands and i will murder yo...</td>\n",
       "      <td>0</td>\n",
       "      <td>0</td>\n",
       "      <td>0</td>\n",
       "      <td>0</td>\n",
       "      <td>1</td>\n",
       "      <td>0</td>\n",
       "      <td>...</td>\n",
       "      <td>0</td>\n",
       "      <td>0</td>\n",
       "      <td>0</td>\n",
       "      <td>0</td>\n",
       "      <td>0</td>\n",
       "      <td>0</td>\n",
       "      <td>0</td>\n",
       "      <td>0</td>\n",
       "      <td>0</td>\n",
       "      <td>0</td>\n",
       "    </tr>\n",
       "    <tr>\n",
       "      <th>1</th>\n",
       "      <td>2401</td>\n",
       "      <td>Borderlands</td>\n",
       "      <td>Positive</td>\n",
       "      <td>I am coming to the borders and I will kill you...</td>\n",
       "      <td>0</td>\n",
       "      <td>0</td>\n",
       "      <td>0</td>\n",
       "      <td>0</td>\n",
       "      <td>1</td>\n",
       "      <td>0</td>\n",
       "      <td>...</td>\n",
       "      <td>0</td>\n",
       "      <td>0</td>\n",
       "      <td>0</td>\n",
       "      <td>0</td>\n",
       "      <td>0</td>\n",
       "      <td>0</td>\n",
       "      <td>0</td>\n",
       "      <td>0</td>\n",
       "      <td>0</td>\n",
       "      <td>0</td>\n",
       "    </tr>\n",
       "    <tr>\n",
       "      <th>2</th>\n",
       "      <td>2401</td>\n",
       "      <td>Borderlands</td>\n",
       "      <td>Positive</td>\n",
       "      <td>im getting on borderlands and i will kill you ...</td>\n",
       "      <td>0</td>\n",
       "      <td>0</td>\n",
       "      <td>0</td>\n",
       "      <td>0</td>\n",
       "      <td>1</td>\n",
       "      <td>0</td>\n",
       "      <td>...</td>\n",
       "      <td>0</td>\n",
       "      <td>0</td>\n",
       "      <td>0</td>\n",
       "      <td>0</td>\n",
       "      <td>0</td>\n",
       "      <td>0</td>\n",
       "      <td>0</td>\n",
       "      <td>0</td>\n",
       "      <td>0</td>\n",
       "      <td>0</td>\n",
       "    </tr>\n",
       "    <tr>\n",
       "      <th>3</th>\n",
       "      <td>2401</td>\n",
       "      <td>Borderlands</td>\n",
       "      <td>Positive</td>\n",
       "      <td>im coming on borderlands and i will murder you...</td>\n",
       "      <td>0</td>\n",
       "      <td>0</td>\n",
       "      <td>0</td>\n",
       "      <td>0</td>\n",
       "      <td>1</td>\n",
       "      <td>0</td>\n",
       "      <td>...</td>\n",
       "      <td>0</td>\n",
       "      <td>0</td>\n",
       "      <td>0</td>\n",
       "      <td>0</td>\n",
       "      <td>0</td>\n",
       "      <td>0</td>\n",
       "      <td>0</td>\n",
       "      <td>0</td>\n",
       "      <td>0</td>\n",
       "      <td>0</td>\n",
       "    </tr>\n",
       "    <tr>\n",
       "      <th>4</th>\n",
       "      <td>2401</td>\n",
       "      <td>Borderlands</td>\n",
       "      <td>Positive</td>\n",
       "      <td>im getting on borderlands 2 and i will murder ...</td>\n",
       "      <td>0</td>\n",
       "      <td>0</td>\n",
       "      <td>0</td>\n",
       "      <td>0</td>\n",
       "      <td>1</td>\n",
       "      <td>0</td>\n",
       "      <td>...</td>\n",
       "      <td>0</td>\n",
       "      <td>0</td>\n",
       "      <td>0</td>\n",
       "      <td>0</td>\n",
       "      <td>0</td>\n",
       "      <td>0</td>\n",
       "      <td>0</td>\n",
       "      <td>0</td>\n",
       "      <td>0</td>\n",
       "      <td>0</td>\n",
       "    </tr>\n",
       "  </tbody>\n",
       "</table>\n",
       "<p>5 rows × 36 columns</p>\n",
       "</div>"
      ],
      "text/plain": [
       "   Tweet_ID       Entity Sentiment  \\\n",
       "0      2401  Borderlands  Positive   \n",
       "1      2401  Borderlands  Positive   \n",
       "2      2401  Borderlands  Positive   \n",
       "3      2401  Borderlands  Positive   \n",
       "4      2401  Borderlands  Positive   \n",
       "\n",
       "                                       Tweet_Content  Amazon  ApexLegends  \\\n",
       "0  im getting on borderlands and i will murder yo...       0            0   \n",
       "1  I am coming to the borders and I will kill you...       0            0   \n",
       "2  im getting on borderlands and i will kill you ...       0            0   \n",
       "3  im coming on borderlands and i will murder you...       0            0   \n",
       "4  im getting on borderlands 2 and i will murder ...       0            0   \n",
       "\n",
       "   AssassinsCreed  Battlefield  Borderlands  CS-GO  ...  Overwatch  \\\n",
       "0               0            0            1      0  ...          0   \n",
       "1               0            0            1      0  ...          0   \n",
       "2               0            0            1      0  ...          0   \n",
       "3               0            0            1      0  ...          0   \n",
       "4               0            0            1      0  ...          0   \n",
       "\n",
       "   PlayStation5(PS5)  PlayerUnknownsBattlegrounds(PUBG)  \\\n",
       "0                  0                                  0   \n",
       "1                  0                                  0   \n",
       "2                  0                                  0   \n",
       "3                  0                                  0   \n",
       "4                  0                                  0   \n",
       "\n",
       "   RedDeadRedemption(RDR)  TomClancysGhostRecon  TomClancysRainbowSix  \\\n",
       "0                       0                     0                     0   \n",
       "1                       0                     0                     0   \n",
       "2                       0                     0                     0   \n",
       "3                       0                     0                     0   \n",
       "4                       0                     0                     0   \n",
       "\n",
       "   Verizon  WorldOfCraft  Xbox(Xseries)  johnson&johnson  \n",
       "0        0             0              0                0  \n",
       "1        0             0              0                0  \n",
       "2        0             0              0                0  \n",
       "3        0             0              0                0  \n",
       "4        0             0              0                0  \n",
       "\n",
       "[5 rows x 36 columns]"
      ]
     },
     "execution_count": 11,
     "metadata": {},
     "output_type": "execute_result"
    }
   ],
   "source": [
    "print(df[\"Entity\"].unique())\n",
    "print(len(df[\"Entity\"].unique()))\n",
    "\n",
    "onehot = pd.get_dummies(df[\"Entity\"])\n",
    "\n",
    "df = df.join(onehot)\n",
    "\n",
    "df.head()"
   ]
  },
  {
   "cell_type": "code",
   "execution_count": 12,
   "metadata": {
    "cell_id": "00016-2dcac9b5-c254-4650-b1a4-909d41f2d012",
    "deepnote_cell_type": "code",
    "deepnote_to_be_reexecuted": false,
    "execution": {
     "iopub.execute_input": "2021-10-29T22:03:17.620034Z",
     "iopub.status.busy": "2021-10-29T22:03:17.619350Z",
     "iopub.status.idle": "2021-10-29T22:03:17.821008Z",
     "shell.execute_reply": "2021-10-29T22:03:17.821667Z"
    },
    "execution_millis": 200,
    "execution_start": 1632760978735,
    "is_code_hidden": true,
    "is_output_hidden": true,
    "papermill": {
     "duration": 0.239872,
     "end_time": "2021-10-29T22:03:17.821883",
     "exception": false,
     "start_time": "2021-10-29T22:03:17.582011",
     "status": "completed"
    },
    "source_hash": "745764d7",
    "tags": []
   },
   "outputs": [
    {
     "data": {
      "text/plain": [
       "<BarContainer object of 4 artists>"
      ]
     },
     "execution_count": 12,
     "metadata": {},
     "output_type": "execute_result"
    },
    {
     "data": {
      "image/png": "[encoded data removed]",
      "text/plain": [
       "<Figure size 432x288 with 1 Axes>"
      ]
     },
     "metadata": {
      "needs_background": "light"
     },
     "output_type": "display_data"
    }
   ],
   "source": [
    "sentiments = list(df[\"Sentiment\"].unique())\n",
    "\n",
    "sentiment_nums = [len(df[df[\"Sentiment\"] == sentiment]) for sentiment in sentiments]\n",
    "\n",
    "labels = sentiments\n",
    "\n",
    "plt.bar(sentiments, sentiment_nums)"
   ]
  },
  {
   "cell_type": "markdown",
   "metadata": {
    "papermill": {
     "duration": 0.034279,
     "end_time": "2021-10-29T22:03:17.898458",
     "exception": false,
     "start_time": "2021-10-29T22:03:17.864179",
     "status": "completed"
    },
    "tags": []
   },
   "source": [
    "## Stop Word Removal and Lemmatization With NLTK"
   ]
  },
  {
   "cell_type": "code",
   "execution_count": 13,
   "metadata": {
    "execution": {
     "iopub.execute_input": "2021-10-29T22:03:17.979485Z",
     "iopub.status.busy": "2021-10-29T22:03:17.978949Z",
     "iopub.status.idle": "2021-10-29T23:59:31.403203Z",
     "shell.execute_reply": "2021-10-29T23:59:31.402690Z"
    },
    "papermill": {
     "duration": 6973.470312,
     "end_time": "2021-10-29T23:59:31.403352",
     "exception": false,
     "start_time": "2021-10-29T22:03:17.933040",
     "status": "completed"
    },
    "tags": []
   },
   "outputs": [
    {
     "name": "stdout",
     "output_type": "stream",
     "text": [
      "[nltk_data] Downloading package stopwords to /usr/share/nltk_data...\n",
      "[nltk_data]   Unzipping corpora/stopwords.zip.\n",
      "[nltk_data] Downloading package wordnet to /usr/share/nltk_data...\n",
      "[nltk_data]   Package wordnet is already up-to-date!\n"
     ]
    }
   ],
   "source": [
    "import nltk\n",
    "from nltk.corpus import stopwords\n",
    "nltk.download('stopwords')\n",
    "from nltk.tokenize import word_tokenize\n",
    "from nltk.stem import WordNetLemmatizer\n",
    "nltk.download('wordnet')\n",
    "\n",
    "\n",
    "def remove_stopwords(ls):\n",
    "    #Removes stop words and lemmatises\n",
    "    ls = [lemmatiser.lemmatize(word) for word in ls if word not in (stopwords.words()) and (word.isalpha())]\n",
    "    \n",
    "    ls = \" \".join(ls)\n",
    "    return ls\n",
    "\n",
    "df[\"Tweet_Content_Split\"] = df[\"Tweet_Content\"].apply(word_tokenize)\n",
    "\n",
    "lemmatiser = WordNetLemmatizer()\n",
    "\n",
    "df[\"Tweet_Content_Split\"] = df[\"Tweet_Content_Split\"].apply(remove_stopwords)"
   ]
  },
  {
   "cell_type": "code",
   "execution_count": 14,
   "metadata": {
    "execution": {
     "iopub.execute_input": "2021-10-29T23:59:31.538485Z",
     "iopub.status.busy": "2021-10-29T23:59:31.537795Z",
     "iopub.status.idle": "2021-10-29T23:59:31.540370Z",
     "shell.execute_reply": "2021-10-29T23:59:31.540882Z"
    },
    "papermill": {
     "duration": 0.052331,
     "end_time": "2021-10-29T23:59:31.541006",
     "exception": false,
     "start_time": "2021-10-29T23:59:31.488675",
     "status": "completed"
    },
    "tags": []
   },
   "outputs": [
    {
     "data": {
      "text/plain": [
       "'getting borderland murder'"
      ]
     },
     "execution_count": 14,
     "metadata": {},
     "output_type": "execute_result"
    }
   ],
   "source": [
    "list(df[\"Tweet_Content_Split\"])[0]"
   ]
  },
  {
   "cell_type": "markdown",
   "metadata": {
    "cell_id": "00016-a0d6c464-8ed2-4c4e-b3ae-388bbe59d967",
    "deepnote_cell_type": "markdown",
    "papermill": {
     "duration": 0.035226,
     "end_time": "2021-10-29T23:59:31.611254",
     "exception": false,
     "start_time": "2021-10-29T23:59:31.576028",
     "status": "completed"
    },
    "tags": []
   },
   "source": [
    "## Tokenisation"
   ]
  },
  {
   "cell_type": "code",
   "execution_count": 15,
   "metadata": {
    "cell_id": "00017-8936f1e7-cceb-4f0b-917d-2e74445aa574",
    "deepnote_cell_type": "code",
    "deepnote_to_be_reexecuted": false,
    "execution": {
     "iopub.execute_input": "2021-10-29T23:59:31.685701Z",
     "iopub.status.busy": "2021-10-29T23:59:31.685030Z",
     "iopub.status.idle": "2021-10-29T23:59:35.571106Z",
     "shell.execute_reply": "2021-10-29T23:59:35.571812Z"
    },
    "execution_millis": 86,
    "execution_start": 1633646033787,
    "papermill": {
     "duration": 3.925532,
     "end_time": "2021-10-29T23:59:35.571991",
     "exception": false,
     "start_time": "2021-10-29T23:59:31.646459",
     "status": "completed"
    },
    "source_hash": "4461b539",
    "tags": []
   },
   "outputs": [
    {
     "name": "stderr",
     "output_type": "stream",
     "text": [
      "2021-10-29 23:59:32.187830: I tensorflow/stream_executor/platform/default/dso_loader.cc:49] Successfully opened dynamic library libcudart.so.11.0\n"
     ]
    }
   ],
   "source": [
    "from tensorflow.keras.preprocessing.text import Tokenizer"
   ]
  },
  {
   "cell_type": "code",
   "execution_count": 16,
   "metadata": {
    "execution": {
     "iopub.execute_input": "2021-10-29T23:59:35.721613Z",
     "iopub.status.busy": "2021-10-29T23:59:35.685697Z",
     "iopub.status.idle": "2021-10-29T23:59:36.946139Z",
     "shell.execute_reply": "2021-10-29T23:59:36.946780Z"
    },
    "papermill": {
     "duration": 1.334251,
     "end_time": "2021-10-29T23:59:36.947015",
     "exception": false,
     "start_time": "2021-10-29T23:59:35.612764",
     "status": "completed"
    },
    "tags": []
   },
   "outputs": [],
   "source": [
    "tokeniser = Tokenizer(num_words=500, lower=True)\n",
    "\n",
    "tokeniser.fit_on_texts(df[\"Tweet_Content_Split\"])"
   ]
  },
  {
   "cell_type": "code",
   "execution_count": 17,
   "metadata": {
    "execution": {
     "iopub.execute_input": "2021-10-29T23:59:37.091209Z",
     "iopub.status.busy": "2021-10-29T23:59:37.090381Z",
     "iopub.status.idle": "2021-10-29T23:59:38.974246Z",
     "shell.execute_reply": "2021-10-29T23:59:38.974669Z"
    },
    "papermill": {
     "duration": 1.966951,
     "end_time": "2021-10-29T23:59:38.974828",
     "exception": false,
     "start_time": "2021-10-29T23:59:37.007877",
     "status": "completed"
    },
    "tags": []
   },
   "outputs": [],
   "source": [
    "tweet_tokens = tokeniser.texts_to_matrix(list(df[\"Tweet_Content_Split\"]))"
   ]
  },
  {
   "cell_type": "markdown",
   "metadata": {
    "papermill": {
     "duration": 0.035929,
     "end_time": "2021-10-29T23:59:39.048861",
     "exception": false,
     "start_time": "2021-10-29T23:59:39.012932",
     "status": "completed"
    },
    "tags": []
   },
   "source": [
    "## Final Preparation of Data for Model"
   ]
  },
  {
   "cell_type": "code",
   "execution_count": 18,
   "metadata": {
    "execution": {
     "iopub.execute_input": "2021-10-29T23:59:39.163188Z",
     "iopub.status.busy": "2021-10-29T23:59:39.161582Z",
     "iopub.status.idle": "2021-10-29T23:59:39.163761Z",
     "shell.execute_reply": "2021-10-29T23:59:39.164146Z"
    },
    "papermill": {
     "duration": 0.079284,
     "end_time": "2021-10-29T23:59:39.164313",
     "exception": false,
     "start_time": "2021-10-29T23:59:39.085029",
     "status": "completed"
    },
    "tags": []
   },
   "outputs": [],
   "source": [
    "y = df[\"Sentiment\"]\n",
    "\n",
    "labels = set(df[\"Sentiment\"])\n",
    "\n",
    "class_to_index = {\"Neutral\":0, \"Irrelevant\":0, \"Negative\":1, \"Positive\": 2}\n",
    "\n",
    "index_to_class = dict((v,k) for k, v in class_to_index.items())\n",
    "\n",
    "names_to_ids = lambda y: np.array([class_to_index.get(x) for x in df[\"Sentiment\"]])\n",
    "\n",
    "ids_to_names = lambda y: np.array([index_to_class.get(x) for x in y])\n",
    "\n",
    "train_labels = names_to_ids(y)"
   ]
  },
  {
   "cell_type": "code",
   "execution_count": 19,
   "metadata": {
    "execution": {
     "iopub.execute_input": "2021-10-29T23:59:39.242274Z",
     "iopub.status.busy": "2021-10-29T23:59:39.241754Z",
     "iopub.status.idle": "2021-10-29T23:59:39.245214Z",
     "shell.execute_reply": "2021-10-29T23:59:39.244795Z"
    },
    "papermill": {
     "duration": 0.044447,
     "end_time": "2021-10-29T23:59:39.245327",
     "exception": false,
     "start_time": "2021-10-29T23:59:39.200880",
     "status": "completed"
    },
    "tags": []
   },
   "outputs": [],
   "source": [
    "df[\"Labels\"] = train_labels"
   ]
  },
  {
   "cell_type": "code",
   "execution_count": 20,
   "metadata": {
    "execution": {
     "iopub.execute_input": "2021-10-29T23:59:39.324734Z",
     "iopub.status.busy": "2021-10-29T23:59:39.323945Z",
     "iopub.status.idle": "2021-10-29T23:59:39.341592Z",
     "shell.execute_reply": "2021-10-29T23:59:39.341989Z"
    },
    "papermill": {
     "duration": 0.060015,
     "end_time": "2021-10-29T23:59:39.342109",
     "exception": false,
     "start_time": "2021-10-29T23:59:39.282094",
     "status": "completed"
    },
    "tags": []
   },
   "outputs": [
    {
     "data": {
      "text/html": [
       "<div>\n",
       "<style scoped>\n",
       "    .dataframe tbody tr th:only-of-type {\n",
       "        vertical-align: middle;\n",
       "    }\n",
       "\n",
       "    .dataframe tbody tr th {\n",
       "        vertical-align: top;\n",
       "    }\n",
       "\n",
       "    .dataframe thead th {\n",
       "        text-align: right;\n",
       "    }\n",
       "</style>\n",
       "<table border=\"1\" class=\"dataframe\">\n",
       "  <thead>\n",
       "    <tr style=\"text-align: right;\">\n",
       "      <th></th>\n",
       "      <th>Tweet_ID</th>\n",
       "      <th>Entity</th>\n",
       "      <th>Sentiment</th>\n",
       "      <th>Tweet_Content</th>\n",
       "      <th>Amazon</th>\n",
       "      <th>ApexLegends</th>\n",
       "      <th>AssassinsCreed</th>\n",
       "      <th>Battlefield</th>\n",
       "      <th>Borderlands</th>\n",
       "      <th>CS-GO</th>\n",
       "      <th>...</th>\n",
       "      <th>PlayerUnknownsBattlegrounds(PUBG)</th>\n",
       "      <th>RedDeadRedemption(RDR)</th>\n",
       "      <th>TomClancysGhostRecon</th>\n",
       "      <th>TomClancysRainbowSix</th>\n",
       "      <th>Verizon</th>\n",
       "      <th>WorldOfCraft</th>\n",
       "      <th>Xbox(Xseries)</th>\n",
       "      <th>johnson&amp;johnson</th>\n",
       "      <th>Tweet_Content_Split</th>\n",
       "      <th>Labels</th>\n",
       "    </tr>\n",
       "  </thead>\n",
       "  <tbody>\n",
       "    <tr>\n",
       "      <th>0</th>\n",
       "      <td>2401</td>\n",
       "      <td>Borderlands</td>\n",
       "      <td>Positive</td>\n",
       "      <td>im getting on borderlands and i will murder yo...</td>\n",
       "      <td>0</td>\n",
       "      <td>0</td>\n",
       "      <td>0</td>\n",
       "      <td>0</td>\n",
       "      <td>1</td>\n",
       "      <td>0</td>\n",
       "      <td>...</td>\n",
       "      <td>0</td>\n",
       "      <td>0</td>\n",
       "      <td>0</td>\n",
       "      <td>0</td>\n",
       "      <td>0</td>\n",
       "      <td>0</td>\n",
       "      <td>0</td>\n",
       "      <td>0</td>\n",
       "      <td>getting borderland murder</td>\n",
       "      <td>2</td>\n",
       "    </tr>\n",
       "    <tr>\n",
       "      <th>1</th>\n",
       "      <td>2401</td>\n",
       "      <td>Borderlands</td>\n",
       "      <td>Positive</td>\n",
       "      <td>I am coming to the borders and I will kill you...</td>\n",
       "      <td>0</td>\n",
       "      <td>0</td>\n",
       "      <td>0</td>\n",
       "      <td>0</td>\n",
       "      <td>1</td>\n",
       "      <td>0</td>\n",
       "      <td>...</td>\n",
       "      <td>0</td>\n",
       "      <td>0</td>\n",
       "      <td>0</td>\n",
       "      <td>0</td>\n",
       "      <td>0</td>\n",
       "      <td>0</td>\n",
       "      <td>0</td>\n",
       "      <td>0</td>\n",
       "      <td>I coming border I kill</td>\n",
       "      <td>2</td>\n",
       "    </tr>\n",
       "    <tr>\n",
       "      <th>2</th>\n",
       "      <td>2401</td>\n",
       "      <td>Borderlands</td>\n",
       "      <td>Positive</td>\n",
       "      <td>im getting on borderlands and i will kill you ...</td>\n",
       "      <td>0</td>\n",
       "      <td>0</td>\n",
       "      <td>0</td>\n",
       "      <td>0</td>\n",
       "      <td>1</td>\n",
       "      <td>0</td>\n",
       "      <td>...</td>\n",
       "      <td>0</td>\n",
       "      <td>0</td>\n",
       "      <td>0</td>\n",
       "      <td>0</td>\n",
       "      <td>0</td>\n",
       "      <td>0</td>\n",
       "      <td>0</td>\n",
       "      <td>0</td>\n",
       "      <td>getting borderland kill</td>\n",
       "      <td>2</td>\n",
       "    </tr>\n",
       "    <tr>\n",
       "      <th>3</th>\n",
       "      <td>2401</td>\n",
       "      <td>Borderlands</td>\n",
       "      <td>Positive</td>\n",
       "      <td>im coming on borderlands and i will murder you...</td>\n",
       "      <td>0</td>\n",
       "      <td>0</td>\n",
       "      <td>0</td>\n",
       "      <td>0</td>\n",
       "      <td>1</td>\n",
       "      <td>0</td>\n",
       "      <td>...</td>\n",
       "      <td>0</td>\n",
       "      <td>0</td>\n",
       "      <td>0</td>\n",
       "      <td>0</td>\n",
       "      <td>0</td>\n",
       "      <td>0</td>\n",
       "      <td>0</td>\n",
       "      <td>0</td>\n",
       "      <td>coming borderland murder</td>\n",
       "      <td>2</td>\n",
       "    </tr>\n",
       "    <tr>\n",
       "      <th>4</th>\n",
       "      <td>2401</td>\n",
       "      <td>Borderlands</td>\n",
       "      <td>Positive</td>\n",
       "      <td>im getting on borderlands 2 and i will murder ...</td>\n",
       "      <td>0</td>\n",
       "      <td>0</td>\n",
       "      <td>0</td>\n",
       "      <td>0</td>\n",
       "      <td>1</td>\n",
       "      <td>0</td>\n",
       "      <td>...</td>\n",
       "      <td>0</td>\n",
       "      <td>0</td>\n",
       "      <td>0</td>\n",
       "      <td>0</td>\n",
       "      <td>0</td>\n",
       "      <td>0</td>\n",
       "      <td>0</td>\n",
       "      <td>0</td>\n",
       "      <td>getting borderland murder</td>\n",
       "      <td>2</td>\n",
       "    </tr>\n",
       "  </tbody>\n",
       "</table>\n",
       "<p>5 rows × 38 columns</p>\n",
       "</div>"
      ],
      "text/plain": [
       "   Tweet_ID       Entity Sentiment  \\\n",
       "0      2401  Borderlands  Positive   \n",
       "1      2401  Borderlands  Positive   \n",
       "2      2401  Borderlands  Positive   \n",
       "3      2401  Borderlands  Positive   \n",
       "4      2401  Borderlands  Positive   \n",
       "\n",
       "                                       Tweet_Content  Amazon  ApexLegends  \\\n",
       "0  im getting on borderlands and i will murder yo...       0            0   \n",
       "1  I am coming to the borders and I will kill you...       0            0   \n",
       "2  im getting on borderlands and i will kill you ...       0            0   \n",
       "3  im coming on borderlands and i will murder you...       0            0   \n",
       "4  im getting on borderlands 2 and i will murder ...       0            0   \n",
       "\n",
       "   AssassinsCreed  Battlefield  Borderlands  CS-GO  ...  \\\n",
       "0               0            0            1      0  ...   \n",
       "1               0            0            1      0  ...   \n",
       "2               0            0            1      0  ...   \n",
       "3               0            0            1      0  ...   \n",
       "4               0            0            1      0  ...   \n",
       "\n",
       "   PlayerUnknownsBattlegrounds(PUBG)  RedDeadRedemption(RDR)  \\\n",
       "0                                  0                       0   \n",
       "1                                  0                       0   \n",
       "2                                  0                       0   \n",
       "3                                  0                       0   \n",
       "4                                  0                       0   \n",
       "\n",
       "   TomClancysGhostRecon  TomClancysRainbowSix  Verizon  WorldOfCraft  \\\n",
       "0                     0                     0        0             0   \n",
       "1                     0                     0        0             0   \n",
       "2                     0                     0        0             0   \n",
       "3                     0                     0        0             0   \n",
       "4                     0                     0        0             0   \n",
       "\n",
       "   Xbox(Xseries)  johnson&johnson        Tweet_Content_Split  Labels  \n",
       "0              0                0  getting borderland murder       2  \n",
       "1              0                0     I coming border I kill       2  \n",
       "2              0                0    getting borderland kill       2  \n",
       "3              0                0   coming borderland murder       2  \n",
       "4              0                0  getting borderland murder       2  \n",
       "\n",
       "[5 rows x 38 columns]"
      ]
     },
     "execution_count": 20,
     "metadata": {},
     "output_type": "execute_result"
    }
   ],
   "source": [
    "df.head()"
   ]
  },
  {
   "cell_type": "markdown",
   "metadata": {
    "cell_id": "00020-d5eff45d-973e-4548-b521-a861707c4d15",
    "deepnote_cell_type": "markdown",
    "papermill": {
     "duration": 0.037156,
     "end_time": "2021-10-29T23:59:39.416078",
     "exception": false,
     "start_time": "2021-10-29T23:59:39.378922",
     "status": "completed"
    },
    "tags": []
   },
   "source": [
    "## Subsetting Data"
   ]
  },
  {
   "cell_type": "code",
   "execution_count": 21,
   "metadata": {
    "cell_id": "00021-40e3675f-100d-40ba-91fe-a51f0d7dd646",
    "deepnote_cell_type": "code",
    "deepnote_to_be_reexecuted": false,
    "execution": {
     "iopub.execute_input": "2021-10-29T23:59:39.498312Z",
     "iopub.status.busy": "2021-10-29T23:59:39.497420Z",
     "iopub.status.idle": "2021-10-29T23:59:39.515258Z",
     "shell.execute_reply": "2021-10-29T23:59:39.514732Z"
    },
    "execution_millis": 4,
    "execution_start": 1632761015028,
    "papermill": {
     "duration": 0.061581,
     "end_time": "2021-10-29T23:59:39.515388",
     "exception": false,
     "start_time": "2021-10-29T23:59:39.453807",
     "status": "completed"
    },
    "source_hash": "279ccad2",
    "tags": []
   },
   "outputs": [],
   "source": [
    "y = df[\"Labels\"]\n",
    "\n",
    "df2 = df.drop([\"Sentiment\", \"Entity\", \"Tweet_ID\", \"Tweet_Content\", \"Tweet_Content_Split\", \"Labels\"], axis=1)"
   ]
  },
  {
   "cell_type": "code",
   "execution_count": 22,
   "metadata": {
    "execution": {
     "iopub.execute_input": "2021-10-29T23:59:39.596467Z",
     "iopub.status.busy": "2021-10-29T23:59:39.595393Z",
     "iopub.status.idle": "2021-10-29T23:59:39.717049Z",
     "shell.execute_reply": "2021-10-29T23:59:39.717528Z"
    },
    "papermill": {
     "duration": 0.164044,
     "end_time": "2021-10-29T23:59:39.717685",
     "exception": false,
     "start_time": "2021-10-29T23:59:39.553641",
     "status": "completed"
    },
    "tags": []
   },
   "outputs": [],
   "source": [
    "array_3 = df2.to_numpy()\n",
    "\n",
    "full_array = np.concatenate([array_3, tweet_tokens], axis=1)"
   ]
  },
  {
   "cell_type": "code",
   "execution_count": 23,
   "metadata": {
    "execution": {
     "iopub.execute_input": "2021-10-29T23:59:39.799321Z",
     "iopub.status.busy": "2021-10-29T23:59:39.798761Z",
     "iopub.status.idle": "2021-10-29T23:59:39.804102Z",
     "shell.execute_reply": "2021-10-29T23:59:39.803676Z"
    },
    "papermill": {
     "duration": 0.048271,
     "end_time": "2021-10-29T23:59:39.804237",
     "exception": false,
     "start_time": "2021-10-29T23:59:39.755966",
     "status": "completed"
    },
    "tags": []
   },
   "outputs": [
    {
     "data": {
      "text/plain": [
       "(73996, 532)"
      ]
     },
     "execution_count": 23,
     "metadata": {},
     "output_type": "execute_result"
    }
   ],
   "source": [
    "full_df = pd.DataFrame(full_array)\n",
    "\n",
    "full_df.shape"
   ]
  },
  {
   "cell_type": "code",
   "execution_count": 24,
   "metadata": {
    "cell_id": "00022-a6959efd-f933-4d4d-8aec-664946d363a4",
    "deepnote_cell_type": "code",
    "deepnote_to_be_reexecuted": false,
    "execution": {
     "iopub.execute_input": "2021-10-29T23:59:39.885797Z",
     "iopub.status.busy": "2021-10-29T23:59:39.885261Z",
     "iopub.status.idle": "2021-10-29T23:59:39.994406Z",
     "shell.execute_reply": "2021-10-29T23:59:39.993876Z"
    },
    "execution_millis": 0,
    "execution_start": 1632761015078,
    "papermill": {
     "duration": 0.152011,
     "end_time": "2021-10-29T23:59:39.994531",
     "exception": false,
     "start_time": "2021-10-29T23:59:39.842520",
     "status": "completed"
    },
    "source_hash": "f517c631",
    "tags": []
   },
   "outputs": [],
   "source": [
    "X_train, X_test, y_train, y_test = train_test_split(full_df, y, test_size=0.2, random_state=1)"
   ]
  },
  {
   "cell_type": "markdown",
   "metadata": {
    "papermill": {
     "duration": 0.039056,
     "end_time": "2021-10-29T23:59:40.073949",
     "exception": false,
     "start_time": "2021-10-29T23:59:40.034893",
     "status": "completed"
    },
    "tags": []
   },
   "source": [
    "## Build Neural Network with Keras"
   ]
  },
  {
   "cell_type": "code",
   "execution_count": 25,
   "metadata": {
    "execution": {
     "iopub.execute_input": "2021-10-29T23:59:40.156155Z",
     "iopub.status.busy": "2021-10-29T23:59:40.155633Z",
     "iopub.status.idle": "2021-10-29T23:59:43.089557Z",
     "shell.execute_reply": "2021-10-29T23:59:43.088952Z"
    },
    "papermill": {
     "duration": 2.977461,
     "end_time": "2021-10-29T23:59:43.089719",
     "exception": false,
     "start_time": "2021-10-29T23:59:40.112258",
     "status": "completed"
    },
    "tags": []
   },
   "outputs": [
    {
     "name": "stderr",
     "output_type": "stream",
     "text": [
      "2021-10-29 23:59:40.172615: I tensorflow/compiler/jit/xla_cpu_device.cc:41] Not creating XLA devices, tf_xla_enable_xla_devices not set\n",
      "2021-10-29 23:59:40.176012: I tensorflow/stream_executor/platform/default/dso_loader.cc:49] Successfully opened dynamic library libcuda.so.1\n",
      "2021-10-29 23:59:40.217583: I tensorflow/stream_executor/cuda/cuda_gpu_executor.cc:941] successful NUMA node read from SysFS had negative value (-1), but there must be at least one NUMA node, so returning NUMA node zero\n",
      "2021-10-29 23:59:40.218212: I tensorflow/core/common_runtime/gpu/gpu_device.cc:1720] Found device 0 with properties: \n",
      "pciBusID: 0000:00:04.0 name: Tesla P100-PCIE-16GB computeCapability: 6.0\n",
      "coreClock: 1.3285GHz coreCount: 56 deviceMemorySize: 15.90GiB deviceMemoryBandwidth: 681.88GiB/s\n",
      "2021-10-29 23:59:40.218268: I tensorflow/stream_executor/platform/default/dso_loader.cc:49] Successfully opened dynamic library libcudart.so.11.0\n",
      "2021-10-29 23:59:40.241763: I tensorflow/stream_executor/platform/default/dso_loader.cc:49] Successfully opened dynamic library libcublas.so.11\n",
      "2021-10-29 23:59:40.241838: I tensorflow/stream_executor/platform/default/dso_loader.cc:49] Successfully opened dynamic library libcublasLt.so.11\n",
      "2021-10-29 23:59:40.256105: I tensorflow/stream_executor/platform/default/dso_loader.cc:49] Successfully opened dynamic library libcufft.so.10\n",
      "2021-10-29 23:59:40.265624: I tensorflow/stream_executor/platform/default/dso_loader.cc:49] Successfully opened dynamic library libcurand.so.10\n",
      "2021-10-29 23:59:40.289885: I tensorflow/stream_executor/platform/default/dso_loader.cc:49] Successfully opened dynamic library libcusolver.so.10\n",
      "2021-10-29 23:59:40.296888: I tensorflow/stream_executor/platform/default/dso_loader.cc:49] Successfully opened dynamic library libcusparse.so.11\n",
      "2021-10-29 23:59:40.301041: I tensorflow/stream_executor/platform/default/dso_loader.cc:49] Successfully opened dynamic library libcudnn.so.8\n",
      "2021-10-29 23:59:40.301218: I tensorflow/stream_executor/cuda/cuda_gpu_executor.cc:941] successful NUMA node read from SysFS had negative value (-1), but there must be at least one NUMA node, so returning NUMA node zero\n",
      "2021-10-29 23:59:40.301871: I tensorflow/stream_executor/cuda/cuda_gpu_executor.cc:941] successful NUMA node read from SysFS had negative value (-1), but there must be at least one NUMA node, so returning NUMA node zero\n",
      "2021-10-29 23:59:40.303412: I tensorflow/core/common_runtime/gpu/gpu_device.cc:1862] Adding visible gpu devices: 0\n",
      "2021-10-29 23:59:40.304456: I tensorflow/core/platform/cpu_feature_guard.cc:142] This TensorFlow binary is optimized with oneAPI Deep Neural Network Library (oneDNN) to use the following CPU instructions in performance-critical operations:  AVX2 AVX512F FMA\n",
      "To enable them in other operations, rebuild TensorFlow with the appropriate compiler flags.\n",
      "2021-10-29 23:59:40.304699: I tensorflow/compiler/jit/xla_gpu_device.cc:99] Not creating XLA devices, tf_xla_enable_xla_devices not set\n",
      "2021-10-29 23:59:40.304888: I tensorflow/stream_executor/cuda/cuda_gpu_executor.cc:941] successful NUMA node read from SysFS had negative value (-1), but there must be at least one NUMA node, so returning NUMA node zero\n",
      "2021-10-29 23:59:40.305519: I tensorflow/core/common_runtime/gpu/gpu_device.cc:1720] Found device 0 with properties: \n",
      "pciBusID: 0000:00:04.0 name: Tesla P100-PCIE-16GB computeCapability: 6.0\n",
      "coreClock: 1.3285GHz coreCount: 56 deviceMemorySize: 15.90GiB deviceMemoryBandwidth: 681.88GiB/s\n",
      "2021-10-29 23:59:40.305574: I tensorflow/stream_executor/platform/default/dso_loader.cc:49] Successfully opened dynamic library libcudart.so.11.0\n",
      "2021-10-29 23:59:40.305602: I tensorflow/stream_executor/platform/default/dso_loader.cc:49] Successfully opened dynamic library libcublas.so.11\n",
      "2021-10-29 23:59:40.305623: I tensorflow/stream_executor/platform/default/dso_loader.cc:49] Successfully opened dynamic library libcublasLt.so.11\n",
      "2021-10-29 23:59:40.305643: I tensorflow/stream_executor/platform/default/dso_loader.cc:49] Successfully opened dynamic library libcufft.so.10\n",
      "2021-10-29 23:59:40.305663: I tensorflow/stream_executor/platform/default/dso_loader.cc:49] Successfully opened dynamic library libcurand.so.10\n",
      "2021-10-29 23:59:40.305687: I tensorflow/stream_executor/platform/default/dso_loader.cc:49] Successfully opened dynamic library libcusolver.so.10\n",
      "2021-10-29 23:59:40.305722: I tensorflow/stream_executor/platform/default/dso_loader.cc:49] Successfully opened dynamic library libcusparse.so.11\n",
      "2021-10-29 23:59:40.305746: I tensorflow/stream_executor/platform/default/dso_loader.cc:49] Successfully opened dynamic library libcudnn.so.8\n",
      "2021-10-29 23:59:40.305852: I tensorflow/stream_executor/cuda/cuda_gpu_executor.cc:941] successful NUMA node read from SysFS had negative value (-1), but there must be at least one NUMA node, so returning NUMA node zero\n",
      "2021-10-29 23:59:40.306515: I tensorflow/stream_executor/cuda/cuda_gpu_executor.cc:941] successful NUMA node read from SysFS had negative value (-1), but there must be at least one NUMA node, so returning NUMA node zero\n",
      "2021-10-29 23:59:40.307059: I tensorflow/core/common_runtime/gpu/gpu_device.cc:1862] Adding visible gpu devices: 0\n",
      "2021-10-29 23:59:40.308102: I tensorflow/stream_executor/platform/default/dso_loader.cc:49] Successfully opened dynamic library libcudart.so.11.0\n",
      "2021-10-29 23:59:41.866799: I tensorflow/core/common_runtime/gpu/gpu_device.cc:1261] Device interconnect StreamExecutor with strength 1 edge matrix:\n",
      "2021-10-29 23:59:41.866838: I tensorflow/core/common_runtime/gpu/gpu_device.cc:1267]      0 \n",
      "2021-10-29 23:59:41.866849: I tensorflow/core/common_runtime/gpu/gpu_device.cc:1280] 0:   N \n",
      "2021-10-29 23:59:41.869458: I tensorflow/stream_executor/cuda/cuda_gpu_executor.cc:941] successful NUMA node read from SysFS had negative value (-1), but there must be at least one NUMA node, so returning NUMA node zero\n",
      "2021-10-29 23:59:41.870228: I tensorflow/stream_executor/cuda/cuda_gpu_executor.cc:941] successful NUMA node read from SysFS had negative value (-1), but there must be at least one NUMA node, so returning NUMA node zero\n",
      "2021-10-29 23:59:41.871082: I tensorflow/stream_executor/cuda/cuda_gpu_executor.cc:941] successful NUMA node read from SysFS had negative value (-1), but there must be at least one NUMA node, so returning NUMA node zero\n",
      "2021-10-29 23:59:41.871863: I tensorflow/core/common_runtime/gpu/gpu_device.cc:1406] Created TensorFlow device (/job:localhost/replica:0/task:0/device:GPU:0 with 14957 MB memory) -> physical GPU (device: 0, name: Tesla P100-PCIE-16GB, pci bus id: 0000:00:04.0, compute capability: 6.0)\n"
     ]
    }
   ],
   "source": [
    "#Test initial network\n",
    "import tensorflow as tf\n",
    "\n",
    "model = tf.keras.models.Sequential([\n",
    "tf.keras.layers.Embedding(1000,16,input_length=532),\n",
    "tf.keras.layers.Bidirectional(tf.keras.layers.LSTM(20, return_sequences=True)),\n",
    "tf.keras.layers.Bidirectional(tf.keras.layers.LSTM(20)),\n",
    "tf.keras.layers.Dense(4, activation='softmax')\n",
    "])\n",
    "model.compile(\n",
    "     loss='sparse_categorical_crossentropy',\n",
    "     optimizer='adam',\n",
    "     metrics=['accuracy']\n",
    ")"
   ]
  },
  {
   "cell_type": "markdown",
   "metadata": {
    "cell_id": "00023-3b9585bc-7078-4a0d-bc95-75751373e1b0",
    "deepnote_cell_type": "markdown",
    "papermill": {
     "duration": 0.039152,
     "end_time": "2021-10-29T23:59:43.169117",
     "exception": false,
     "start_time": "2021-10-29T23:59:43.129965",
     "status": "completed"
    },
    "tags": []
   },
   "source": [
    "## Testing Methods"
   ]
  },
  {
   "cell_type": "markdown",
   "metadata": {
    "papermill": {
     "duration": 0.038289,
     "end_time": "2021-10-29T23:59:43.246110",
     "exception": false,
     "start_time": "2021-10-29T23:59:43.207821",
     "status": "completed"
    },
    "tags": []
   },
   "source": [
    "### Neural Network with Keras"
   ]
  },
  {
   "cell_type": "code",
   "execution_count": 26,
   "metadata": {
    "execution": {
     "iopub.execute_input": "2021-10-29T23:59:43.327414Z",
     "iopub.status.busy": "2021-10-29T23:59:43.326786Z",
     "iopub.status.idle": "2021-10-30T00:49:45.460263Z",
     "shell.execute_reply": "2021-10-30T00:49:45.461006Z"
    },
    "papermill": {
     "duration": 3002.176838,
     "end_time": "2021-10-30T00:49:45.461196",
     "exception": false,
     "start_time": "2021-10-29T23:59:43.284358",
     "status": "completed"
    },
    "tags": []
   },
   "outputs": [
    {
     "name": "stderr",
     "output_type": "stream",
     "text": [
      "2021-10-29 23:59:43.579273: I tensorflow/compiler/mlir/mlir_graph_optimization_pass.cc:116] None of the MLIR optimization passes are enabled (registered 2)\n",
      "2021-10-29 23:59:43.589442: I tensorflow/core/platform/profile_utils/cpu_utils.cc:112] CPU Frequency: 2000129999 Hz\n"
     ]
    },
    {
     "name": "stdout",
     "output_type": "stream",
     "text": [
      "Epoch 1/20\n"
     ]
    },
    {
     "name": "stderr",
     "output_type": "stream",
     "text": [
      "2021-10-29 23:59:47.905949: I tensorflow/stream_executor/platform/default/dso_loader.cc:49] Successfully opened dynamic library libcublas.so.11\n",
      "2021-10-29 23:59:48.636059: I tensorflow/stream_executor/platform/default/dso_loader.cc:49] Successfully opened dynamic library libcublasLt.so.11\n",
      "2021-10-29 23:59:48.686014: I tensorflow/stream_executor/platform/default/dso_loader.cc:49] Successfully opened dynamic library libcudnn.so.8\n"
     ]
    },
    {
     "name": "stdout",
     "output_type": "stream",
     "text": [
      "1850/1850 [==============================] - 159s 81ms/step - loss: 1.1004 - accuracy: 0.4183 - val_loss: 1.0649 - val_accuracy: 0.4300\n",
      "Epoch 2/20\n",
      "1850/1850 [==============================] - 146s 79ms/step - loss: 1.0626 - accuracy: 0.4416 - val_loss: 1.0602 - val_accuracy: 0.4383\n",
      "Epoch 3/20\n",
      "1850/1850 [==============================] - 148s 80ms/step - loss: 1.0524 - accuracy: 0.4547 - val_loss: 1.0474 - val_accuracy: 0.4599\n",
      "Epoch 4/20\n",
      "1850/1850 [==============================] - 148s 80ms/step - loss: 1.0441 - accuracy: 0.4613 - val_loss: 1.0431 - val_accuracy: 0.4688\n",
      "Epoch 5/20\n",
      "1850/1850 [==============================] - 150s 81ms/step - loss: 1.0401 - accuracy: 0.4660 - val_loss: 1.0390 - val_accuracy: 0.4659\n",
      "Epoch 6/20\n",
      "1850/1850 [==============================] - 149s 81ms/step - loss: 1.0345 - accuracy: 0.4744 - val_loss: 1.0338 - val_accuracy: 0.4612\n",
      "Epoch 7/20\n",
      "1850/1850 [==============================] - 150s 81ms/step - loss: 1.0261 - accuracy: 0.4794 - val_loss: 1.0284 - val_accuracy: 0.4724\n",
      "Epoch 8/20\n",
      "1850/1850 [==============================] - 149s 80ms/step - loss: 1.0220 - accuracy: 0.4809 - val_loss: 1.0234 - val_accuracy: 0.4817\n",
      "Epoch 9/20\n",
      "1850/1850 [==============================] - 150s 81ms/step - loss: 1.0202 - accuracy: 0.4798 - val_loss: 1.0188 - val_accuracy: 0.4780\n",
      "Epoch 10/20\n",
      "1850/1850 [==============================] - 147s 80ms/step - loss: 1.0173 - accuracy: 0.4826 - val_loss: 1.0162 - val_accuracy: 0.4863\n",
      "Epoch 11/20\n",
      "1850/1850 [==============================] - 149s 81ms/step - loss: 1.0105 - accuracy: 0.4880 - val_loss: 1.0092 - val_accuracy: 0.4903\n",
      "Epoch 12/20\n",
      "1850/1850 [==============================] - 151s 81ms/step - loss: 1.0093 - accuracy: 0.4882 - val_loss: 1.0089 - val_accuracy: 0.4847\n",
      "Epoch 13/20\n",
      "1850/1850 [==============================] - 149s 81ms/step - loss: 1.0065 - accuracy: 0.4919 - val_loss: 1.0060 - val_accuracy: 0.4895\n",
      "Epoch 14/20\n",
      "1850/1850 [==============================] - 150s 81ms/step - loss: 1.0027 - accuracy: 0.4971 - val_loss: 1.0042 - val_accuracy: 0.4921\n",
      "Epoch 15/20\n",
      "1850/1850 [==============================] - 151s 82ms/step - loss: 0.9998 - accuracy: 0.4991 - val_loss: 0.9997 - val_accuracy: 0.5036\n",
      "Epoch 16/20\n",
      "1850/1850 [==============================] - 151s 82ms/step - loss: 0.9962 - accuracy: 0.5064 - val_loss: 1.0008 - val_accuracy: 0.5000\n",
      "Epoch 17/20\n",
      "1850/1850 [==============================] - 150s 81ms/step - loss: 0.9945 - accuracy: 0.5070 - val_loss: 0.9971 - val_accuracy: 0.5046\n",
      "Epoch 18/20\n",
      "1850/1850 [==============================] - 154s 83ms/step - loss: 0.9925 - accuracy: 0.5076 - val_loss: 0.9977 - val_accuracy: 0.5063\n",
      "Epoch 19/20\n",
      "1850/1850 [==============================] - 149s 81ms/step - loss: 0.9908 - accuracy: 0.5071 - val_loss: 1.0012 - val_accuracy: 0.4922\n",
      "Epoch 20/20\n",
      "1850/1850 [==============================] - 150s 81ms/step - loss: 0.9906 - accuracy: 0.5077 - val_loss: 0.9947 - val_accuracy: 0.5045\n"
     ]
    }
   ],
   "source": [
    "h = model.fit(\n",
    "     X_train, y_train,\n",
    "     validation_data=(X_test, y_test),\n",
    "     epochs=20,\n",
    "     callbacks=[tf.keras.callbacks.EarlyStopping(monitor='accuracy', patience=4)]\n",
    ")"
   ]
  },
  {
   "cell_type": "code",
   "execution_count": 27,
   "metadata": {
    "execution": {
     "iopub.execute_input": "2021-10-30T00:50:05.383202Z",
     "iopub.status.busy": "2021-10-30T00:50:05.382313Z",
     "iopub.status.idle": "2021-10-30T00:50:20.849355Z",
     "shell.execute_reply": "2021-10-30T00:50:20.848870Z"
    },
    "papermill": {
     "duration": 25.112,
     "end_time": "2021-10-30T00:50:20.849500",
     "exception": false,
     "start_time": "2021-10-30T00:49:55.737500",
     "status": "completed"
    },
    "tags": []
   },
   "outputs": [],
   "source": [
    "y_pred = model.predict(X_test)\n",
    "preds = [round(sum(y_pred[i,:])) for i in range(len(y_pred))]\n",
    "\n",
    "y_pred_labels = ids_to_names(preds)"
   ]
  },
  {
   "cell_type": "code",
   "execution_count": 28,
   "metadata": {
    "execution": {
     "iopub.execute_input": "2021-10-30T00:50:40.878516Z",
     "iopub.status.busy": "2021-10-30T00:50:40.877828Z",
     "iopub.status.idle": "2021-10-30T00:50:40.880689Z",
     "shell.execute_reply": "2021-10-30T00:50:40.881107Z"
    },
    "papermill": {
     "duration": 9.777968,
     "end_time": "2021-10-30T00:50:40.881258",
     "exception": false,
     "start_time": "2021-10-30T00:50:31.103290",
     "status": "completed"
    },
    "tags": []
   },
   "outputs": [
    {
     "name": "stdout",
     "output_type": "stream",
     "text": [
      "['Negative' 'Negative' 'Negative' 'Negative' 'Negative']\n"
     ]
    }
   ],
   "source": [
    "print(y_pred_labels[0:5])"
   ]
  },
  {
   "cell_type": "markdown",
   "metadata": {
    "cell_id": "00036-f08f355a-bef6-4f9d-b8bc-007be0e27801",
    "deepnote_cell_type": "markdown",
    "papermill": {
     "duration": 10.240078,
     "end_time": "2021-10-30T00:51:00.762099",
     "exception": false,
     "start_time": "2021-10-30T00:50:50.522021",
     "status": "completed"
    },
    "tags": []
   },
   "source": [
    "# Final"
   ]
  },
  {
   "cell_type": "markdown",
   "metadata": {
    "cell_id": "00037-c78154da-6343-41cf-a1ff-3c19f4ac5014",
    "deepnote_cell_type": "markdown",
    "papermill": {
     "duration": 9.847651,
     "end_time": "2021-10-30T00:51:20.457231",
     "exception": false,
     "start_time": "2021-10-30T00:51:10.609580",
     "status": "completed"
    },
    "tags": []
   },
   "source": [
    "## Training With Full Dataset"
   ]
  },
  {
   "cell_type": "code",
   "execution_count": 29,
   "metadata": {
    "cell_id": "00038-0d0df9fc-289a-4e9a-91ba-76ab51f1749a",
    "deepnote_cell_type": "code",
    "deepnote_to_be_reexecuted": false,
    "execution": {
     "iopub.execute_input": "2021-10-30T00:51:40.592692Z",
     "iopub.status.busy": "2021-10-30T00:51:40.591822Z",
     "iopub.status.idle": "2021-10-30T00:51:41.351111Z",
     "shell.execute_reply": "2021-10-30T00:51:41.350601Z"
    },
    "execution_millis": 453840,
    "execution_start": 1632761451449,
    "papermill": {
     "duration": 11.069265,
     "end_time": "2021-10-30T00:51:41.351247",
     "exception": false,
     "start_time": "2021-10-30T00:51:30.281982",
     "status": "completed"
    },
    "source_hash": "28f6125f",
    "tags": []
   },
   "outputs": [],
   "source": [
    "model = tf.keras.models.Sequential([\n",
    "tf.keras.layers.Embedding(1000,16,input_length=532),\n",
    "tf.keras.layers.Bidirectional(tf.keras.layers.LSTM(20, return_sequences=True)),\n",
    "tf.keras.layers.Bidirectional(tf.keras.layers.LSTM(20)),\n",
    "tf.keras.layers.Dense(4, activation='softmax')\n",
    "])\n",
    "model.compile(\n",
    "     loss='sparse_categorical_crossentropy',\n",
    "     optimizer='adam',\n",
    "     metrics=['accuracy']\n",
    ")"
   ]
  },
  {
   "cell_type": "code",
   "execution_count": 30,
   "metadata": {
    "execution": {
     "iopub.execute_input": "2021-10-30T00:52:01.278159Z",
     "iopub.status.busy": "2021-10-30T00:52:01.277273Z",
     "iopub.status.idle": "2021-10-30T01:48:09.524236Z",
     "shell.execute_reply": "2021-10-30T01:48:09.523744Z"
    },
    "papermill": {
     "duration": 3378.134679,
     "end_time": "2021-10-30T01:48:09.524372",
     "exception": false,
     "start_time": "2021-10-30T00:51:51.389693",
     "status": "completed"
    },
    "tags": []
   },
   "outputs": [
    {
     "name": "stdout",
     "output_type": "stream",
     "text": [
      "Epoch 1/20\n",
      "2313/2313 [==============================] - 170s 72ms/step - loss: 1.0979 - accuracy: 0.4154\n",
      "Epoch 2/20\n",
      "2313/2313 [==============================] - 165s 71ms/step - loss: 1.0639 - accuracy: 0.4406\n",
      "Epoch 3/20\n",
      "2313/2313 [==============================] - 166s 72ms/step - loss: 1.0468 - accuracy: 0.4598\n",
      "Epoch 4/20\n",
      "2313/2313 [==============================] - 166s 72ms/step - loss: 1.0377 - accuracy: 0.4703\n",
      "Epoch 5/20\n",
      "2313/2313 [==============================] - 168s 73ms/step - loss: 1.0300 - accuracy: 0.4778\n",
      "Epoch 6/20\n",
      "2313/2313 [==============================] - 168s 73ms/step - loss: 1.0231 - accuracy: 0.4845\n",
      "Epoch 7/20\n",
      "2313/2313 [==============================] - 168s 73ms/step - loss: 1.0208 - accuracy: 0.4843\n",
      "Epoch 8/20\n",
      "2313/2313 [==============================] - 167s 72ms/step - loss: 1.0215 - accuracy: 0.4820\n",
      "Epoch 9/20\n",
      "2313/2313 [==============================] - 168s 72ms/step - loss: 1.0155 - accuracy: 0.4910\n",
      "Epoch 10/20\n",
      "2313/2313 [==============================] - 169s 73ms/step - loss: 1.0120 - accuracy: 0.4928\n",
      "Epoch 11/20\n",
      "2313/2313 [==============================] - 168s 73ms/step - loss: 1.0092 - accuracy: 0.4948\n",
      "Epoch 12/20\n",
      "2313/2313 [==============================] - 169s 73ms/step - loss: 1.0060 - accuracy: 0.4951\n",
      "Epoch 13/20\n",
      "2313/2313 [==============================] - 169s 73ms/step - loss: 1.0036 - accuracy: 0.5003\n",
      "Epoch 14/20\n",
      "2313/2313 [==============================] - 168s 73ms/step - loss: 0.9971 - accuracy: 0.5040\n",
      "Epoch 15/20\n",
      "2313/2313 [==============================] - 170s 73ms/step - loss: 0.9947 - accuracy: 0.5079\n",
      "Epoch 16/20\n",
      "2313/2313 [==============================] - 169s 73ms/step - loss: 0.9925 - accuracy: 0.5081\n",
      "Epoch 17/20\n",
      "2313/2313 [==============================] - 169s 73ms/step - loss: 0.9899 - accuracy: 0.5098\n",
      "Epoch 18/20\n",
      "2313/2313 [==============================] - 170s 73ms/step - loss: 0.9983 - accuracy: 0.5049\n",
      "Epoch 19/20\n",
      "2313/2313 [==============================] - 168s 73ms/step - loss: 1.0131 - accuracy: 0.4915\n",
      "Epoch 20/20\n",
      "2313/2313 [==============================] - 170s 74ms/step - loss: 1.0045 - accuracy: 0.4993\n"
     ]
    }
   ],
   "source": [
    "h = model.fit(\n",
    "     full_df, y,\n",
    "     epochs=20,\n",
    "     callbacks=[tf.keras.callbacks.EarlyStopping(monitor='accuracy', patience=4)]\n",
    ")"
   ]
  },
  {
   "cell_type": "markdown",
   "metadata": {
    "cell_id": "00039-d8fe55b1-3cf1-4e82-83ef-32c512c67ad5",
    "deepnote_cell_type": "markdown",
    "papermill": {
     "duration": 22.720732,
     "end_time": "2021-10-30T01:48:54.447018",
     "exception": false,
     "start_time": "2021-10-30T01:48:31.726286",
     "status": "completed"
    },
    "tags": []
   },
   "source": [
    "## Generating Predictions"
   ]
  },
  {
   "cell_type": "markdown",
   "metadata": {
    "cell_id": "00040-89e26bea-df93-45b8-afdb-d756d6ba4396",
    "deepnote_cell_type": "text-cell-h2",
    "is_collapsed": false,
    "papermill": {
     "duration": 22.093189,
     "end_time": "2021-10-30T01:49:39.033385",
     "exception": false,
     "start_time": "2021-10-30T01:49:16.940196",
     "status": "completed"
    },
    "tags": []
   },
   "source": [
    "## Download and Transform Test Data"
   ]
  },
  {
   "cell_type": "code",
   "execution_count": 31,
   "metadata": {
    "cell_id": "00041-d904a76d-d735-47a4-a4bc-438baddd33c2",
    "deepnote_cell_type": "code",
    "deepnote_to_be_reexecuted": false,
    "execution": {
     "iopub.execute_input": "2021-10-30T01:50:24.118308Z",
     "iopub.status.busy": "2021-10-30T01:50:24.117482Z",
     "iopub.status.idle": "2021-10-30T01:50:24.403774Z",
     "shell.execute_reply": "2021-10-30T01:50:24.403309Z"
    },
    "execution_millis": 96,
    "execution_start": 1632761905283,
    "papermill": {
     "duration": 22.880274,
     "end_time": "2021-10-30T01:50:24.403897",
     "exception": false,
     "start_time": "2021-10-30T01:50:01.523623",
     "status": "completed"
    },
    "source_hash": "f26a56b3",
    "tags": []
   },
   "outputs": [],
   "source": [
    "url = \"https://raw.githubusercontent.com/Cameron-Watts/PDS_Piece/main/data/raw/twitter_validation.csv\"\n",
    "\n",
    "test_df = pd.read_csv(url, names=[\"Tweet_ID\", \"Entity\", \"Sentiment\", \"Tweet_Content\"])\n",
    "\n",
    "test_df = test_df.dropna()"
   ]
  },
  {
   "cell_type": "code",
   "execution_count": 32,
   "metadata": {
    "execution": {
     "iopub.execute_input": "2021-10-30T01:51:09.353393Z",
     "iopub.status.busy": "2021-10-30T01:51:09.352499Z",
     "iopub.status.idle": "2021-10-30T01:51:09.385124Z",
     "shell.execute_reply": "2021-10-30T01:51:09.386013Z"
    },
    "papermill": {
     "duration": 22.811459,
     "end_time": "2021-10-30T01:51:09.386261",
     "exception": false,
     "start_time": "2021-10-30T01:50:46.574802",
     "status": "completed"
    },
    "tags": []
   },
   "outputs": [
    {
     "data": {
      "text/html": [
       "<div>\n",
       "<style scoped>\n",
       "    .dataframe tbody tr th:only-of-type {\n",
       "        vertical-align: middle;\n",
       "    }\n",
       "\n",
       "    .dataframe tbody tr th {\n",
       "        vertical-align: top;\n",
       "    }\n",
       "\n",
       "    .dataframe thead th {\n",
       "        text-align: right;\n",
       "    }\n",
       "</style>\n",
       "<table border=\"1\" class=\"dataframe\">\n",
       "  <thead>\n",
       "    <tr style=\"text-align: right;\">\n",
       "      <th></th>\n",
       "      <th>Tweet_ID</th>\n",
       "      <th>Entity</th>\n",
       "      <th>Sentiment</th>\n",
       "      <th>Tweet_Content</th>\n",
       "      <th>Amazon</th>\n",
       "      <th>ApexLegends</th>\n",
       "      <th>AssassinsCreed</th>\n",
       "      <th>Battlefield</th>\n",
       "      <th>Borderlands</th>\n",
       "      <th>CS-GO</th>\n",
       "      <th>...</th>\n",
       "      <th>Overwatch</th>\n",
       "      <th>PlayStation5(PS5)</th>\n",
       "      <th>PlayerUnknownsBattlegrounds(PUBG)</th>\n",
       "      <th>RedDeadRedemption(RDR)</th>\n",
       "      <th>TomClancysGhostRecon</th>\n",
       "      <th>TomClancysRainbowSix</th>\n",
       "      <th>Verizon</th>\n",
       "      <th>WorldOfCraft</th>\n",
       "      <th>Xbox(Xseries)</th>\n",
       "      <th>johnson&amp;johnson</th>\n",
       "    </tr>\n",
       "  </thead>\n",
       "  <tbody>\n",
       "    <tr>\n",
       "      <th>0</th>\n",
       "      <td>3364</td>\n",
       "      <td>Facebook</td>\n",
       "      <td>Irrelevant</td>\n",
       "      <td>I mentioned on Facebook that I was struggling ...</td>\n",
       "      <td>0</td>\n",
       "      <td>0</td>\n",
       "      <td>0</td>\n",
       "      <td>0</td>\n",
       "      <td>0</td>\n",
       "      <td>0</td>\n",
       "      <td>...</td>\n",
       "      <td>0</td>\n",
       "      <td>0</td>\n",
       "      <td>0</td>\n",
       "      <td>0</td>\n",
       "      <td>0</td>\n",
       "      <td>0</td>\n",
       "      <td>0</td>\n",
       "      <td>0</td>\n",
       "      <td>0</td>\n",
       "      <td>0</td>\n",
       "    </tr>\n",
       "    <tr>\n",
       "      <th>1</th>\n",
       "      <td>352</td>\n",
       "      <td>Amazon</td>\n",
       "      <td>Neutral</td>\n",
       "      <td>BBC News - Amazon boss Jeff Bezos rejects clai...</td>\n",
       "      <td>1</td>\n",
       "      <td>0</td>\n",
       "      <td>0</td>\n",
       "      <td>0</td>\n",
       "      <td>0</td>\n",
       "      <td>0</td>\n",
       "      <td>...</td>\n",
       "      <td>0</td>\n",
       "      <td>0</td>\n",
       "      <td>0</td>\n",
       "      <td>0</td>\n",
       "      <td>0</td>\n",
       "      <td>0</td>\n",
       "      <td>0</td>\n",
       "      <td>0</td>\n",
       "      <td>0</td>\n",
       "      <td>0</td>\n",
       "    </tr>\n",
       "    <tr>\n",
       "      <th>2</th>\n",
       "      <td>8312</td>\n",
       "      <td>Microsoft</td>\n",
       "      <td>Negative</td>\n",
       "      <td>@Microsoft Why do I pay for WORD when it funct...</td>\n",
       "      <td>0</td>\n",
       "      <td>0</td>\n",
       "      <td>0</td>\n",
       "      <td>0</td>\n",
       "      <td>0</td>\n",
       "      <td>0</td>\n",
       "      <td>...</td>\n",
       "      <td>0</td>\n",
       "      <td>0</td>\n",
       "      <td>0</td>\n",
       "      <td>0</td>\n",
       "      <td>0</td>\n",
       "      <td>0</td>\n",
       "      <td>0</td>\n",
       "      <td>0</td>\n",
       "      <td>0</td>\n",
       "      <td>0</td>\n",
       "    </tr>\n",
       "    <tr>\n",
       "      <th>3</th>\n",
       "      <td>4371</td>\n",
       "      <td>CS-GO</td>\n",
       "      <td>Negative</td>\n",
       "      <td>CSGO matchmaking is so full of closet hacking,...</td>\n",
       "      <td>0</td>\n",
       "      <td>0</td>\n",
       "      <td>0</td>\n",
       "      <td>0</td>\n",
       "      <td>0</td>\n",
       "      <td>1</td>\n",
       "      <td>...</td>\n",
       "      <td>0</td>\n",
       "      <td>0</td>\n",
       "      <td>0</td>\n",
       "      <td>0</td>\n",
       "      <td>0</td>\n",
       "      <td>0</td>\n",
       "      <td>0</td>\n",
       "      <td>0</td>\n",
       "      <td>0</td>\n",
       "      <td>0</td>\n",
       "    </tr>\n",
       "    <tr>\n",
       "      <th>4</th>\n",
       "      <td>4433</td>\n",
       "      <td>Google</td>\n",
       "      <td>Neutral</td>\n",
       "      <td>Now the President is slapping Americans in the...</td>\n",
       "      <td>0</td>\n",
       "      <td>0</td>\n",
       "      <td>0</td>\n",
       "      <td>0</td>\n",
       "      <td>0</td>\n",
       "      <td>0</td>\n",
       "      <td>...</td>\n",
       "      <td>0</td>\n",
       "      <td>0</td>\n",
       "      <td>0</td>\n",
       "      <td>0</td>\n",
       "      <td>0</td>\n",
       "      <td>0</td>\n",
       "      <td>0</td>\n",
       "      <td>0</td>\n",
       "      <td>0</td>\n",
       "      <td>0</td>\n",
       "    </tr>\n",
       "  </tbody>\n",
       "</table>\n",
       "<p>5 rows × 36 columns</p>\n",
       "</div>"
      ],
      "text/plain": [
       "   Tweet_ID     Entity   Sentiment  \\\n",
       "0      3364   Facebook  Irrelevant   \n",
       "1       352     Amazon     Neutral   \n",
       "2      8312  Microsoft    Negative   \n",
       "3      4371      CS-GO    Negative   \n",
       "4      4433     Google     Neutral   \n",
       "\n",
       "                                       Tweet_Content  Amazon  ApexLegends  \\\n",
       "0  I mentioned on Facebook that I was struggling ...       0            0   \n",
       "1  BBC News - Amazon boss Jeff Bezos rejects clai...       1            0   \n",
       "2  @Microsoft Why do I pay for WORD when it funct...       0            0   \n",
       "3  CSGO matchmaking is so full of closet hacking,...       0            0   \n",
       "4  Now the President is slapping Americans in the...       0            0   \n",
       "\n",
       "   AssassinsCreed  Battlefield  Borderlands  CS-GO  ...  Overwatch  \\\n",
       "0               0            0            0      0  ...          0   \n",
       "1               0            0            0      0  ...          0   \n",
       "2               0            0            0      0  ...          0   \n",
       "3               0            0            0      1  ...          0   \n",
       "4               0            0            0      0  ...          0   \n",
       "\n",
       "   PlayStation5(PS5)  PlayerUnknownsBattlegrounds(PUBG)  \\\n",
       "0                  0                                  0   \n",
       "1                  0                                  0   \n",
       "2                  0                                  0   \n",
       "3                  0                                  0   \n",
       "4                  0                                  0   \n",
       "\n",
       "   RedDeadRedemption(RDR)  TomClancysGhostRecon  TomClancysRainbowSix  \\\n",
       "0                       0                     0                     0   \n",
       "1                       0                     0                     0   \n",
       "2                       0                     0                     0   \n",
       "3                       0                     0                     0   \n",
       "4                       0                     0                     0   \n",
       "\n",
       "   Verizon  WorldOfCraft  Xbox(Xseries)  johnson&johnson  \n",
       "0        0             0              0                0  \n",
       "1        0             0              0                0  \n",
       "2        0             0              0                0  \n",
       "3        0             0              0                0  \n",
       "4        0             0              0                0  \n",
       "\n",
       "[5 rows x 36 columns]"
      ]
     },
     "execution_count": 32,
     "metadata": {},
     "output_type": "execute_result"
    }
   ],
   "source": [
    "onehot = pd.get_dummies(test_df[\"Entity\"])\n",
    "\n",
    "test_df = test_df.join(onehot)\n",
    "\n",
    "test_df.head()"
   ]
  },
  {
   "cell_type": "code",
   "execution_count": 33,
   "metadata": {
    "execution": {
     "iopub.execute_input": "2021-10-30T01:51:54.441357Z",
     "iopub.status.busy": "2021-10-30T01:51:54.440158Z",
     "iopub.status.idle": "2021-10-30T01:53:43.048945Z",
     "shell.execute_reply": "2021-10-30T01:53:43.049391Z"
    },
    "papermill": {
     "duration": 130.868168,
     "end_time": "2021-10-30T01:53:43.049573",
     "exception": false,
     "start_time": "2021-10-30T01:51:32.181405",
     "status": "completed"
    },
    "tags": []
   },
   "outputs": [],
   "source": [
    "test_df[\"Tweet_Content_Split\"] = test_df[\"Tweet_Content\"].apply(word_tokenize)\n",
    "test_df[\"Tweet_Content_Split\"] = test_df[\"Tweet_Content_Split\"].apply(remove_stopwords)"
   ]
  },
  {
   "cell_type": "code",
   "execution_count": 34,
   "metadata": {
    "execution": {
     "iopub.execute_input": "2021-10-30T01:54:28.182133Z",
     "iopub.status.busy": "2021-10-30T01:54:28.181236Z",
     "iopub.status.idle": "2021-10-30T01:54:28.202990Z",
     "shell.execute_reply": "2021-10-30T01:54:28.202595Z"
    },
    "papermill": {
     "duration": 22.888444,
     "end_time": "2021-10-30T01:54:28.203125",
     "exception": false,
     "start_time": "2021-10-30T01:54:05.314681",
     "status": "completed"
    },
    "tags": []
   },
   "outputs": [],
   "source": [
    "test_tweet_tokens = tokeniser.texts_to_matrix(list(test_df[\"Tweet_Content_Split\"]))"
   ]
  },
  {
   "cell_type": "code",
   "execution_count": 35,
   "metadata": {
    "execution": {
     "iopub.execute_input": "2021-10-30T01:55:12.934870Z",
     "iopub.status.busy": "2021-10-30T01:55:12.933200Z",
     "iopub.status.idle": "2021-10-30T01:55:12.935449Z",
     "shell.execute_reply": "2021-10-30T01:55:12.935861Z"
    },
    "papermill": {
     "duration": 22.321976,
     "end_time": "2021-10-30T01:55:12.936007",
     "exception": false,
     "start_time": "2021-10-30T01:54:50.614031",
     "status": "completed"
    },
    "tags": []
   },
   "outputs": [],
   "source": [
    "y = test_df[\"Sentiment\"]\n",
    "\n",
    "names_to_ids = lambda y: np.array([class_to_index.get(x) for x in test_df[\"Sentiment\"]])\n",
    "\n",
    "test_labels = names_to_ids(y)"
   ]
  },
  {
   "cell_type": "code",
   "execution_count": 36,
   "metadata": {
    "execution": {
     "iopub.execute_input": "2021-10-30T01:55:58.220884Z",
     "iopub.status.busy": "2021-10-30T01:55:58.213365Z",
     "iopub.status.idle": "2021-10-30T01:55:58.223680Z",
     "shell.execute_reply": "2021-10-30T01:55:58.224100Z"
    },
    "papermill": {
     "duration": 22.757945,
     "end_time": "2021-10-30T01:55:58.224249",
     "exception": false,
     "start_time": "2021-10-30T01:55:35.466304",
     "status": "completed"
    },
    "tags": []
   },
   "outputs": [
    {
     "data": {
      "text/html": [
       "<div>\n",
       "<style scoped>\n",
       "    .dataframe tbody tr th:only-of-type {\n",
       "        vertical-align: middle;\n",
       "    }\n",
       "\n",
       "    .dataframe tbody tr th {\n",
       "        vertical-align: top;\n",
       "    }\n",
       "\n",
       "    .dataframe thead th {\n",
       "        text-align: right;\n",
       "    }\n",
       "</style>\n",
       "<table border=\"1\" class=\"dataframe\">\n",
       "  <thead>\n",
       "    <tr style=\"text-align: right;\">\n",
       "      <th></th>\n",
       "      <th>Tweet_ID</th>\n",
       "      <th>Entity</th>\n",
       "      <th>Sentiment</th>\n",
       "      <th>Tweet_Content</th>\n",
       "      <th>Amazon</th>\n",
       "      <th>ApexLegends</th>\n",
       "      <th>AssassinsCreed</th>\n",
       "      <th>Battlefield</th>\n",
       "      <th>Borderlands</th>\n",
       "      <th>CS-GO</th>\n",
       "      <th>...</th>\n",
       "      <th>PlayStation5(PS5)</th>\n",
       "      <th>PlayerUnknownsBattlegrounds(PUBG)</th>\n",
       "      <th>RedDeadRedemption(RDR)</th>\n",
       "      <th>TomClancysGhostRecon</th>\n",
       "      <th>TomClancysRainbowSix</th>\n",
       "      <th>Verizon</th>\n",
       "      <th>WorldOfCraft</th>\n",
       "      <th>Xbox(Xseries)</th>\n",
       "      <th>johnson&amp;johnson</th>\n",
       "      <th>Tweet_Content_Split</th>\n",
       "    </tr>\n",
       "  </thead>\n",
       "  <tbody>\n",
       "    <tr>\n",
       "      <th>0</th>\n",
       "      <td>3364</td>\n",
       "      <td>Facebook</td>\n",
       "      <td>Irrelevant</td>\n",
       "      <td>I mentioned on Facebook that I was struggling ...</td>\n",
       "      <td>0</td>\n",
       "      <td>0</td>\n",
       "      <td>0</td>\n",
       "      <td>0</td>\n",
       "      <td>0</td>\n",
       "      <td>0</td>\n",
       "      <td>...</td>\n",
       "      <td>0</td>\n",
       "      <td>0</td>\n",
       "      <td>0</td>\n",
       "      <td>0</td>\n",
       "      <td>0</td>\n",
       "      <td>0</td>\n",
       "      <td>0</td>\n",
       "      <td>0</td>\n",
       "      <td>0</td>\n",
       "      <td>I mentioned Facebook I struggling motivation g...</td>\n",
       "    </tr>\n",
       "    <tr>\n",
       "      <th>1</th>\n",
       "      <td>352</td>\n",
       "      <td>Amazon</td>\n",
       "      <td>Neutral</td>\n",
       "      <td>BBC News - Amazon boss Jeff Bezos rejects clai...</td>\n",
       "      <td>1</td>\n",
       "      <td>0</td>\n",
       "      <td>0</td>\n",
       "      <td>0</td>\n",
       "      <td>0</td>\n",
       "      <td>0</td>\n",
       "      <td>...</td>\n",
       "      <td>0</td>\n",
       "      <td>0</td>\n",
       "      <td>0</td>\n",
       "      <td>0</td>\n",
       "      <td>0</td>\n",
       "      <td>0</td>\n",
       "      <td>0</td>\n",
       "      <td>0</td>\n",
       "      <td>0</td>\n",
       "      <td>BBC News Amazon bos Jeff Bezos reject claim co...</td>\n",
       "    </tr>\n",
       "    <tr>\n",
       "      <th>2</th>\n",
       "      <td>8312</td>\n",
       "      <td>Microsoft</td>\n",
       "      <td>Negative</td>\n",
       "      <td>@Microsoft Why do I pay for WORD when it funct...</td>\n",
       "      <td>0</td>\n",
       "      <td>0</td>\n",
       "      <td>0</td>\n",
       "      <td>0</td>\n",
       "      <td>0</td>\n",
       "      <td>0</td>\n",
       "      <td>...</td>\n",
       "      <td>0</td>\n",
       "      <td>0</td>\n",
       "      <td>0</td>\n",
       "      <td>0</td>\n",
       "      <td>0</td>\n",
       "      <td>0</td>\n",
       "      <td>0</td>\n",
       "      <td>0</td>\n",
       "      <td>0</td>\n",
       "      <td>Microsoft Why I pay WORD function poorly Samsu...</td>\n",
       "    </tr>\n",
       "    <tr>\n",
       "      <th>3</th>\n",
       "      <td>4371</td>\n",
       "      <td>CS-GO</td>\n",
       "      <td>Negative</td>\n",
       "      <td>CSGO matchmaking is so full of closet hacking,...</td>\n",
       "      <td>0</td>\n",
       "      <td>0</td>\n",
       "      <td>0</td>\n",
       "      <td>0</td>\n",
       "      <td>0</td>\n",
       "      <td>1</td>\n",
       "      <td>...</td>\n",
       "      <td>0</td>\n",
       "      <td>0</td>\n",
       "      <td>0</td>\n",
       "      <td>0</td>\n",
       "      <td>0</td>\n",
       "      <td>0</td>\n",
       "      <td>0</td>\n",
       "      <td>0</td>\n",
       "      <td>0</td>\n",
       "      <td>CSGO matchmaking full closet hacking truly awf...</td>\n",
       "    </tr>\n",
       "    <tr>\n",
       "      <th>4</th>\n",
       "      <td>4433</td>\n",
       "      <td>Google</td>\n",
       "      <td>Neutral</td>\n",
       "      <td>Now the President is slapping Americans in the...</td>\n",
       "      <td>0</td>\n",
       "      <td>0</td>\n",
       "      <td>0</td>\n",
       "      <td>0</td>\n",
       "      <td>0</td>\n",
       "      <td>0</td>\n",
       "      <td>...</td>\n",
       "      <td>0</td>\n",
       "      <td>0</td>\n",
       "      <td>0</td>\n",
       "      <td>0</td>\n",
       "      <td>0</td>\n",
       "      <td>0</td>\n",
       "      <td>0</td>\n",
       "      <td>0</td>\n",
       "      <td>0</td>\n",
       "      <td>Now President slapping Americans really commit...</td>\n",
       "    </tr>\n",
       "  </tbody>\n",
       "</table>\n",
       "<p>5 rows × 37 columns</p>\n",
       "</div>"
      ],
      "text/plain": [
       "   Tweet_ID     Entity   Sentiment  \\\n",
       "0      3364   Facebook  Irrelevant   \n",
       "1       352     Amazon     Neutral   \n",
       "2      8312  Microsoft    Negative   \n",
       "3      4371      CS-GO    Negative   \n",
       "4      4433     Google     Neutral   \n",
       "\n",
       "                                       Tweet_Content  Amazon  ApexLegends  \\\n",
       "0  I mentioned on Facebook that I was struggling ...       0            0   \n",
       "1  BBC News - Amazon boss Jeff Bezos rejects clai...       1            0   \n",
       "2  @Microsoft Why do I pay for WORD when it funct...       0            0   \n",
       "3  CSGO matchmaking is so full of closet hacking,...       0            0   \n",
       "4  Now the President is slapping Americans in the...       0            0   \n",
       "\n",
       "   AssassinsCreed  Battlefield  Borderlands  CS-GO  ...  PlayStation5(PS5)  \\\n",
       "0               0            0            0      0  ...                  0   \n",
       "1               0            0            0      0  ...                  0   \n",
       "2               0            0            0      0  ...                  0   \n",
       "3               0            0            0      1  ...                  0   \n",
       "4               0            0            0      0  ...                  0   \n",
       "\n",
       "   PlayerUnknownsBattlegrounds(PUBG)  RedDeadRedemption(RDR)  \\\n",
       "0                                  0                       0   \n",
       "1                                  0                       0   \n",
       "2                                  0                       0   \n",
       "3                                  0                       0   \n",
       "4                                  0                       0   \n",
       "\n",
       "   TomClancysGhostRecon  TomClancysRainbowSix  Verizon  WorldOfCraft  \\\n",
       "0                     0                     0        0             0   \n",
       "1                     0                     0        0             0   \n",
       "2                     0                     0        0             0   \n",
       "3                     0                     0        0             0   \n",
       "4                     0                     0        0             0   \n",
       "\n",
       "   Xbox(Xseries)  johnson&johnson  \\\n",
       "0              0                0   \n",
       "1              0                0   \n",
       "2              0                0   \n",
       "3              0                0   \n",
       "4              0                0   \n",
       "\n",
       "                                 Tweet_Content_Split  \n",
       "0  I mentioned Facebook I struggling motivation g...  \n",
       "1  BBC News Amazon bos Jeff Bezos reject claim co...  \n",
       "2  Microsoft Why I pay WORD function poorly Samsu...  \n",
       "3  CSGO matchmaking full closet hacking truly awf...  \n",
       "4  Now President slapping Americans really commit...  \n",
       "\n",
       "[5 rows x 37 columns]"
      ]
     },
     "execution_count": 36,
     "metadata": {},
     "output_type": "execute_result"
    }
   ],
   "source": [
    "test_df.head()"
   ]
  },
  {
   "cell_type": "code",
   "execution_count": 37,
   "metadata": {
    "execution": {
     "iopub.execute_input": "2021-10-30T01:56:43.320015Z",
     "iopub.status.busy": "2021-10-30T01:56:43.318321Z",
     "iopub.status.idle": "2021-10-30T01:56:43.320688Z",
     "shell.execute_reply": "2021-10-30T01:56:43.321137Z"
    },
    "papermill": {
     "duration": 22.528082,
     "end_time": "2021-10-30T01:56:43.321306",
     "exception": false,
     "start_time": "2021-10-30T01:56:20.793224",
     "status": "completed"
    },
    "tags": []
   },
   "outputs": [],
   "source": [
    "y = test_labels\n",
    "\n",
    "test_df2 = test_df.drop([\"Sentiment\", \"Entity\", \"Tweet_ID\", \"Tweet_Content\", \"Tweet_Content_Split\"], axis=1)"
   ]
  },
  {
   "cell_type": "code",
   "execution_count": 38,
   "metadata": {
    "execution": {
     "iopub.execute_input": "2021-10-30T01:57:28.862788Z",
     "iopub.status.busy": "2021-10-30T01:57:28.861897Z",
     "iopub.status.idle": "2021-10-30T01:57:30.172920Z",
     "shell.execute_reply": "2021-10-30T01:57:30.173392Z"
    },
    "papermill": {
     "duration": 24.021525,
     "end_time": "2021-10-30T01:57:30.173551",
     "exception": false,
     "start_time": "2021-10-30T01:57:06.152026",
     "status": "completed"
    },
    "tags": []
   },
   "outputs": [
    {
     "name": "stdout",
     "output_type": "stream",
     "text": [
      "32/32 [==============================] - 1s 5ms/step - loss: 1.0690 - accuracy: 0.4850\n"
     ]
    },
    {
     "data": {
      "text/plain": [
       "[1.0690076351165771, 0.48500001430511475]"
      ]
     },
     "execution_count": 38,
     "metadata": {},
     "output_type": "execute_result"
    }
   ],
   "source": [
    "model.evaluate(test_df2, y)"
   ]
  },
  {
   "cell_type": "markdown",
   "metadata": {
    "cell_id": "00045-1c9f580f-0913-4a52-ba76-597404000136",
    "deepnote_cell_type": "text-cell-h2",
    "is_collapsed": false,
    "papermill": {
     "duration": 22.958021,
     "end_time": "2021-10-30T01:58:15.640481",
     "exception": false,
     "start_time": "2021-10-30T01:57:52.682460",
     "status": "completed"
    },
    "tags": []
   },
   "source": [
    "## Generate Predictions"
   ]
  },
  {
   "cell_type": "code",
   "execution_count": 39,
   "metadata": {
    "cell_id": "00046-fd438663-20b6-41a4-97c6-88d3f9e77c18",
    "deepnote_cell_type": "code",
    "deepnote_to_be_reexecuted": false,
    "execution": {
     "iopub.execute_input": "2021-10-30T01:59:00.259385Z",
     "iopub.status.busy": "2021-10-30T01:59:00.258465Z",
     "iopub.status.idle": "2021-10-30T01:59:16.236793Z",
     "shell.execute_reply": "2021-10-30T01:59:16.235863Z"
    },
    "execution_millis": 4810,
    "execution_start": 1632761905994,
    "papermill": {
     "duration": 38.191043,
     "end_time": "2021-10-30T01:59:16.236936",
     "exception": false,
     "start_time": "2021-10-30T01:58:38.045893",
     "status": "completed"
    },
    "source_hash": "91739caa",
    "tags": []
   },
   "outputs": [],
   "source": [
    "y_pred = model.predict(X_test)\n",
    "preds = [round(sum(y_pred[i,:])) for i in range(len(y_pred))]\n",
    "\n",
    "y_pred_labels = ids_to_names(preds)"
   ]
  },
  {
   "cell_type": "code",
   "execution_count": null,
   "metadata": {
    "cell_id": "00047-bd881f2f-aec8-4e87-9d0b-268517be4e54",
    "deepnote_cell_type": "code",
    "deepnote_to_be_reexecuted": false,
    "execution_millis": 7,
    "execution_start": 1632761910810,
    "papermill": {
     "duration": 22.174348,
     "end_time": "2021-10-30T02:00:01.210799",
     "exception": false,
     "start_time": "2021-10-30T01:59:39.036451",
     "status": "completed"
    },
    "source_hash": "c0dbe3fe",
    "tags": []
   },
   "outputs": [],
   "source": []
  },
  {
   "cell_type": "code",
   "execution_count": null,
   "metadata": {
    "papermill": {
     "duration": 22.971128,
     "end_time": "2021-10-30T02:00:47.002627",
     "exception": false,
     "start_time": "2021-10-30T02:00:24.031499",
     "status": "completed"
    },
    "tags": []
   },
   "outputs": [],
   "source": []
  }
 ],
 "metadata": {
  "kernelspec": {
   "display_name": "Python 3",
   "language": "python",
   "name": "python3"
  },
  "language_info": {
   "codemirror_mode": {
    "name": "ipython",
    "version": 3
   },
   "file_extension": ".py",
   "mimetype": "text/x-python",
   "name": "python",
   "nbconvert_exporter": "python",
   "pygments_lexer": "ipython3",
   "version": "3.6.12"
  },
  "papermill": {
   "default_parameters": {},
   "duration": 14286.088038,
   "end_time": "2021-10-30T02:01:12.683663",
   "environment_variables": {},
   "exception": null,
   "input_path": "__notebook__.ipynb",
   "output_path": "__notebook__.ipynb",
   "parameters": {},
   "start_time": "2021-10-29T22:03:06.595625",
   "version": "2.3.3"
  }
 },
 "nbformat": 4,
 "nbformat_minor": 5
}
