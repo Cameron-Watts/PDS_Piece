{
 "cells": [
  {
   "cell_type": "markdown",
   "metadata": {},
   "source": [
    "# Table of Contents"
   ]
  },
  {
   "cell_type": "markdown",
   "metadata": {},
   "source": [
    "## Preparation\n",
    "\n",
    "This section is where we prepare for the project, through a variety of initial steps. The steps in this section are as follows:\n",
    "\n",
    "- Importing Packages\n",
    "- Importing Data\n",
    "- Dropping NA Values\n",
    "- Subsetting Data"
   ]
  },
  {
   "cell_type": "markdown",
   "metadata": {},
   "source": [
    "### Importing Packages"
   ]
  },
  {
   "cell_type": "code",
   "execution_count": 1,
   "metadata": {},
   "outputs": [],
   "source": [
    "#Data management\n",
    "import pandas as pd\n",
    "import numpy as np\n",
    "#from pandas_profiling import ProfileReport\n",
    "\n",
    "#TextBlob Features\n",
    "from textblob import TextBlob\n",
    "\n",
    "#Plotting\n",
    "import matplotlib.pyplot as plt\n",
    "\n",
    "#SciKit-Learn\n",
    "from sklearn.model_selection import train_test_split\n",
    "\n",
    "#nltk\n",
    "import nltk\n",
    "from nltk.corpus import stopwords\n",
    "#nltk.download('stopwords')\n",
    "from nltk.tokenize import word_tokenize\n",
    "from nltk.stem import WordNetLemmatizer\n",
    "#nltk.download('wordnet')\n",
    "\n",
    "#Tensorflow / Keras\n",
    "import tensorflow as tf\n",
    "from tensorflow.keras.preprocessing.text import Tokenizer\n",
    "\n",
    "#Test\n",
    "from collections import Counter"
   ]
  },
  {
   "cell_type": "markdown",
   "metadata": {},
   "source": [
    "### Importing Data"
   ]
  },
  {
   "cell_type": "code",
   "execution_count": 2,
   "metadata": {},
   "outputs": [],
   "source": [
    "#Training Data\n",
    "path = \"../data/raw/twitter_training.csv\"\n",
    "train_df = pd.read_csv(path, names=[\"Tweet_ID\", \"Entity\", \"Sentiment\", \"Tweet_Content\"])\n",
    "\n",
    "#Test Data (Not to be used until the full model has been trained)\n",
    "test_path = \"../data/raw/twitter_validation.csv\"\n",
    "test_df = pd.read_csv(test_path, names=[\"Tweet_ID\", \"Entity\", \"Sentiment\", \"Tweet_Content\"])"
   ]
  },
  {
   "cell_type": "markdown",
   "metadata": {},
   "source": [
    "### Dropping NA Values\n",
    "\n",
    "Here, we drop any rows with null values, as these miss out on key information."
   ]
  },
  {
   "cell_type": "code",
   "execution_count": 3,
   "metadata": {},
   "outputs": [],
   "source": [
    "train_df = train_df.dropna()\n",
    "test_df = test_df.dropna()"
   ]
  },
  {
   "cell_type": "markdown",
   "metadata": {},
   "source": [
    "### Subsetting Data\n",
    "\n",
    "As this dataset is quite large, during the exploration process we begin by subsetting the data during the training process, to speed up any testing steps. We also reset the index of the dataframe, to make adding columns easier later on in the process."
   ]
  },
  {
   "cell_type": "code",
   "execution_count": 4,
   "metadata": {},
   "outputs": [],
   "source": [
    "df = train_df.sample(frac=0.1)\n",
    "df.reset_index(drop=True, inplace=True)"
   ]
  },
  {
   "cell_type": "markdown",
   "metadata": {},
   "source": [
    "## Data Exploration\n",
    "\n",
    "Here, we explore the data, testing if it is balanced, and checking for patterns in missing rows. This can generally be done in an automated fashion with pandas-profiling. The sections under this header include:\n",
    "\n",
    "- Basic visualisation\n",
    "- Automated Data Exploration with pandas-profiling\n",
    "- Checking for balance in output categories"
   ]
  },
  {
   "cell_type": "markdown",
   "metadata": {},
   "source": [
    "### Basic Visualisation\n",
    "\n",
    "We can display basic statistics about the data using pandas, and also view a few entries of the dataset, to see example points with which we'll work."
   ]
  },
  {
   "cell_type": "code",
   "execution_count": 5,
   "metadata": {},
   "outputs": [
    {
     "name": "stdout",
     "output_type": "stream",
     "text": [
      "<class 'pandas.core.frame.DataFrame'>\n",
      "RangeIndex: 7400 entries, 0 to 7399\n",
      "Data columns (total 4 columns):\n",
      " #   Column         Non-Null Count  Dtype \n",
      "---  ------         --------------  ----- \n",
      " 0   Tweet_ID       7400 non-null   int64 \n",
      " 1   Entity         7400 non-null   object\n",
      " 2   Sentiment      7400 non-null   object\n",
      " 3   Tweet_Content  7400 non-null   object\n",
      "dtypes: int64(1), object(3)\n",
      "memory usage: 231.4+ KB\n"
     ]
    }
   ],
   "source": [
    "#See overall information about the data frame\n",
    "df.info()"
   ]
  },
  {
   "cell_type": "code",
   "execution_count": 6,
   "metadata": {},
   "outputs": [
    {
     "data": {
      "text/html": [
       "<div>\n",
       "<style scoped>\n",
       "    .dataframe tbody tr th:only-of-type {\n",
       "        vertical-align: middle;\n",
       "    }\n",
       "\n",
       "    .dataframe tbody tr th {\n",
       "        vertical-align: top;\n",
       "    }\n",
       "\n",
       "    .dataframe thead th {\n",
       "        text-align: right;\n",
       "    }\n",
       "</style>\n",
       "<table border=\"1\" class=\"dataframe\">\n",
       "  <thead>\n",
       "    <tr style=\"text-align: right;\">\n",
       "      <th></th>\n",
       "      <th>Tweet_ID</th>\n",
       "      <th>Entity</th>\n",
       "      <th>Sentiment</th>\n",
       "      <th>Tweet_Content</th>\n",
       "    </tr>\n",
       "  </thead>\n",
       "  <tbody>\n",
       "    <tr>\n",
       "      <th>0</th>\n",
       "      <td>2598</td>\n",
       "      <td>Borderlands</td>\n",
       "      <td>Positive</td>\n",
       "      <td>Elie is making a film based on the game,.. bit...</td>\n",
       "    </tr>\n",
       "    <tr>\n",
       "      <th>1</th>\n",
       "      <td>10799</td>\n",
       "      <td>RedDeadRedemption(RDR)</td>\n",
       "      <td>Neutral</td>\n",
       "      <td>“This HUMBLE BARISTA as an actor in RED DEAD R...</td>\n",
       "    </tr>\n",
       "    <tr>\n",
       "      <th>2</th>\n",
       "      <td>3719</td>\n",
       "      <td>Cyberpunk2077</td>\n",
       "      <td>Positive</td>\n",
       "      <td>Nice!</td>\n",
       "    </tr>\n",
       "    <tr>\n",
       "      <th>3</th>\n",
       "      <td>11933</td>\n",
       "      <td>Verizon</td>\n",
       "      <td>Negative</td>\n",
       "      <td>20 Been on hold temporarily for over 20 sq min...</td>\n",
       "    </tr>\n",
       "    <tr>\n",
       "      <th>4</th>\n",
       "      <td>2571</td>\n",
       "      <td>Borderlands</td>\n",
       "      <td>Positive</td>\n",
       "      <td>Mayhem and Murder Aplenty! It's time for a  . ...</td>\n",
       "    </tr>\n",
       "  </tbody>\n",
       "</table>\n",
       "</div>"
      ],
      "text/plain": [
       "   Tweet_ID                  Entity Sentiment  \\\n",
       "0      2598             Borderlands  Positive   \n",
       "1     10799  RedDeadRedemption(RDR)   Neutral   \n",
       "2      3719           Cyberpunk2077  Positive   \n",
       "3     11933                 Verizon  Negative   \n",
       "4      2571             Borderlands  Positive   \n",
       "\n",
       "                                       Tweet_Content  \n",
       "0  Elie is making a film based on the game,.. bit...  \n",
       "1  “This HUMBLE BARISTA as an actor in RED DEAD R...  \n",
       "2                                              Nice!  \n",
       "3  20 Been on hold temporarily for over 20 sq min...  \n",
       "4  Mayhem and Murder Aplenty! It's time for a  . ...  "
      ]
     },
     "execution_count": 6,
     "metadata": {},
     "output_type": "execute_result"
    }
   ],
   "source": [
    "#Display a few entries\n",
    "df.head()"
   ]
  },
  {
   "cell_type": "markdown",
   "metadata": {},
   "source": [
    "### Automated Data Exploration with Pandas-Profiling\n",
    "\n",
    "Pandas-profiling is a library used to automatically explore data. This gives us a good overview of the dataset, which we can use to inform our later work."
   ]
  },
  {
   "cell_type": "code",
   "execution_count": 7,
   "metadata": {},
   "outputs": [],
   "source": [
    "#profile = ProfileReport(df, title=\"Pandas Profiling Report\", explorative=True)\n",
    "#profile"
   ]
  },
  {
   "cell_type": "markdown",
   "metadata": {},
   "source": [
    "### Checking Balance of the Data in Output Categories\n",
    "\n",
    "We want to check the balance of the output column (Sentiment), such that we don't train a model that always predicts one output. This model might have a high accuracy, but we wouldn't have learned anything about trends in the data, other than the count in the most common sentiment. It might be tempting to think about balancing the test data too, but remember that data in the real world will be unlikely to come nicely balanced, and test data is analagous to real world data\n",
    "\n",
    "\n",
    "The proportion of sentiments ranges from about 0.15 to 0.3, which is generally good balance, such that we are unlikely to see a scenario in which only one class is predicted. We will however be looking out for if our training accuracy forms a plateau at about 0.3, which could be indicative of this problem."
   ]
  },
  {
   "cell_type": "code",
   "execution_count": 8,
   "metadata": {},
   "outputs": [
    {
     "data": {
      "text/plain": [
       "<BarContainer object of 4 artists>"
      ]
     },
     "execution_count": 8,
     "metadata": {},
     "output_type": "execute_result"
    },
    {
     "data": {
      "image/png": "[encoded data removed]",
      "text/plain": [
       "<Figure size 432x288 with 1 Axes>"
      ]
     },
     "metadata": {
      "needs_background": "light"
     },
     "output_type": "display_data"
    }
   ],
   "source": [
    "#Checking balance of target classes\n",
    "sentiments = list(df[\"Sentiment\"].unique())\n",
    "\n",
    "sentiment_nums = [len(df[df[\"Sentiment\"] == sentiment]) / len(df) for sentiment in sentiments]\n",
    "\n",
    "plt.bar(sentiments, sentiment_nums)"
   ]
  },
  {
   "cell_type": "markdown",
   "metadata": {},
   "source": [
    "## Basic Data Enrichment\n",
    "\n",
    "Here, we consider basic features that can enhance the dataset. This will include one-hot encoding of the categorical \"Entity\" variable. We can also use pre-trained NLP systems here to extract features from the text, such as the one from TextBlob, giving us a \"polarity\" and \"subjectivity\" value from any text that we give it. These extra features are added to the dataframe.\n",
    "\n",
    "We can also create an indexer to convert sentiments from labels to indexes, and back again. This is useful in understanding our predictions later on.\n",
    "\n",
    "Sections under this header include:\n",
    "\n",
    "- One-Hot Encoding\n",
    "- Enrichment with Pre-Trained NLP Models (TextBlob)\n",
    "- Labels to Indexes (and Back Again)"
   ]
  },
  {
   "cell_type": "markdown",
   "metadata": {},
   "source": [
    "### One-Hot Encoding\n",
    "\n",
    "Here, we create a Boolean column for each possible entity, as there are only 32 of these. 32 columns are added, each signifying if the Tweet was related to the given entity. Each Tweet will only be related to one entity in total."
   ]
  },
  {
   "cell_type": "code",
   "execution_count": 9,
   "metadata": {},
   "outputs": [
    {
     "name": "stdout",
     "output_type": "stream",
     "text": [
      "['Borderlands' 'RedDeadRedemption(RDR)' 'Cyberpunk2077' 'Verizon'\n",
      " 'Fortnite' 'Amazon' 'Battlefield' 'PlayStation5(PS5)' 'NBA2K'\n",
      " 'LeagueOfLegends' 'FIFA' 'TomClancysGhostRecon' 'ApexLegends'\n",
      " 'AssassinsCreed' 'CallOfDutyBlackopsColdWar' 'Facebook' 'MaddenNFL'\n",
      " 'Nvidia' 'Xbox(Xseries)' 'Overwatch' 'HomeDepot' 'Dota2' 'Google'\n",
      " 'Microsoft' 'GrandTheftAuto(GTA)' 'TomClancysRainbowSix'\n",
      " 'PlayerUnknownsBattlegrounds(PUBG)' 'johnson&johnson' 'Hearthstone'\n",
      " 'CS-GO' 'WorldOfCraft' 'CallOfDuty']\n",
      "32\n"
     ]
    }
   ],
   "source": [
    "#View all possible entities\n",
    "print(df[\"Entity\"].unique())\n",
    "print(len(df[\"Entity\"].unique()))"
   ]
  },
  {
   "cell_type": "code",
   "execution_count": 10,
   "metadata": {},
   "outputs": [
    {
     "data": {
      "text/html": [
       "<div>\n",
       "<style scoped>\n",
       "    .dataframe tbody tr th:only-of-type {\n",
       "        vertical-align: middle;\n",
       "    }\n",
       "\n",
       "    .dataframe tbody tr th {\n",
       "        vertical-align: top;\n",
       "    }\n",
       "\n",
       "    .dataframe thead th {\n",
       "        text-align: right;\n",
       "    }\n",
       "</style>\n",
       "<table border=\"1\" class=\"dataframe\">\n",
       "  <thead>\n",
       "    <tr style=\"text-align: right;\">\n",
       "      <th></th>\n",
       "      <th>Tweet_ID</th>\n",
       "      <th>Entity</th>\n",
       "      <th>Sentiment</th>\n",
       "      <th>Tweet_Content</th>\n",
       "      <th>Entity_Amazon</th>\n",
       "      <th>Entity_ApexLegends</th>\n",
       "      <th>Entity_AssassinsCreed</th>\n",
       "      <th>Entity_Battlefield</th>\n",
       "      <th>Entity_Borderlands</th>\n",
       "      <th>Entity_CS-GO</th>\n",
       "      <th>...</th>\n",
       "      <th>Entity_Overwatch</th>\n",
       "      <th>Entity_PlayStation5(PS5)</th>\n",
       "      <th>Entity_PlayerUnknownsBattlegrounds(PUBG)</th>\n",
       "      <th>Entity_RedDeadRedemption(RDR)</th>\n",
       "      <th>Entity_TomClancysGhostRecon</th>\n",
       "      <th>Entity_TomClancysRainbowSix</th>\n",
       "      <th>Entity_Verizon</th>\n",
       "      <th>Entity_WorldOfCraft</th>\n",
       "      <th>Entity_Xbox(Xseries)</th>\n",
       "      <th>Entity_johnson&amp;johnson</th>\n",
       "    </tr>\n",
       "  </thead>\n",
       "  <tbody>\n",
       "    <tr>\n",
       "      <th>0</th>\n",
       "      <td>2598</td>\n",
       "      <td>Borderlands</td>\n",
       "      <td>Positive</td>\n",
       "      <td>Elie is making a film based on the game,.. bit...</td>\n",
       "      <td>0</td>\n",
       "      <td>0</td>\n",
       "      <td>0</td>\n",
       "      <td>0</td>\n",
       "      <td>1</td>\n",
       "      <td>0</td>\n",
       "      <td>...</td>\n",
       "      <td>0</td>\n",
       "      <td>0</td>\n",
       "      <td>0</td>\n",
       "      <td>0</td>\n",
       "      <td>0</td>\n",
       "      <td>0</td>\n",
       "      <td>0</td>\n",
       "      <td>0</td>\n",
       "      <td>0</td>\n",
       "      <td>0</td>\n",
       "    </tr>\n",
       "    <tr>\n",
       "      <th>1</th>\n",
       "      <td>10799</td>\n",
       "      <td>RedDeadRedemption(RDR)</td>\n",
       "      <td>Neutral</td>\n",
       "      <td>“This HUMBLE BARISTA as an actor in RED DEAD R...</td>\n",
       "      <td>0</td>\n",
       "      <td>0</td>\n",
       "      <td>0</td>\n",
       "      <td>0</td>\n",
       "      <td>0</td>\n",
       "      <td>0</td>\n",
       "      <td>...</td>\n",
       "      <td>0</td>\n",
       "      <td>0</td>\n",
       "      <td>0</td>\n",
       "      <td>1</td>\n",
       "      <td>0</td>\n",
       "      <td>0</td>\n",
       "      <td>0</td>\n",
       "      <td>0</td>\n",
       "      <td>0</td>\n",
       "      <td>0</td>\n",
       "    </tr>\n",
       "    <tr>\n",
       "      <th>2</th>\n",
       "      <td>3719</td>\n",
       "      <td>Cyberpunk2077</td>\n",
       "      <td>Positive</td>\n",
       "      <td>Nice!</td>\n",
       "      <td>0</td>\n",
       "      <td>0</td>\n",
       "      <td>0</td>\n",
       "      <td>0</td>\n",
       "      <td>0</td>\n",
       "      <td>0</td>\n",
       "      <td>...</td>\n",
       "      <td>0</td>\n",
       "      <td>0</td>\n",
       "      <td>0</td>\n",
       "      <td>0</td>\n",
       "      <td>0</td>\n",
       "      <td>0</td>\n",
       "      <td>0</td>\n",
       "      <td>0</td>\n",
       "      <td>0</td>\n",
       "      <td>0</td>\n",
       "    </tr>\n",
       "    <tr>\n",
       "      <th>3</th>\n",
       "      <td>11933</td>\n",
       "      <td>Verizon</td>\n",
       "      <td>Negative</td>\n",
       "      <td>20 Been on hold temporarily for over 20 sq min...</td>\n",
       "      <td>0</td>\n",
       "      <td>0</td>\n",
       "      <td>0</td>\n",
       "      <td>0</td>\n",
       "      <td>0</td>\n",
       "      <td>0</td>\n",
       "      <td>...</td>\n",
       "      <td>0</td>\n",
       "      <td>0</td>\n",
       "      <td>0</td>\n",
       "      <td>0</td>\n",
       "      <td>0</td>\n",
       "      <td>0</td>\n",
       "      <td>1</td>\n",
       "      <td>0</td>\n",
       "      <td>0</td>\n",
       "      <td>0</td>\n",
       "    </tr>\n",
       "    <tr>\n",
       "      <th>4</th>\n",
       "      <td>2571</td>\n",
       "      <td>Borderlands</td>\n",
       "      <td>Positive</td>\n",
       "      <td>Mayhem and Murder Aplenty! It's time for a  . ...</td>\n",
       "      <td>0</td>\n",
       "      <td>0</td>\n",
       "      <td>0</td>\n",
       "      <td>0</td>\n",
       "      <td>1</td>\n",
       "      <td>0</td>\n",
       "      <td>...</td>\n",
       "      <td>0</td>\n",
       "      <td>0</td>\n",
       "      <td>0</td>\n",
       "      <td>0</td>\n",
       "      <td>0</td>\n",
       "      <td>0</td>\n",
       "      <td>0</td>\n",
       "      <td>0</td>\n",
       "      <td>0</td>\n",
       "      <td>0</td>\n",
       "    </tr>\n",
       "  </tbody>\n",
       "</table>\n",
       "<p>5 rows × 36 columns</p>\n",
       "</div>"
      ],
      "text/plain": [
       "   Tweet_ID                  Entity Sentiment  \\\n",
       "0      2598             Borderlands  Positive   \n",
       "1     10799  RedDeadRedemption(RDR)   Neutral   \n",
       "2      3719           Cyberpunk2077  Positive   \n",
       "3     11933                 Verizon  Negative   \n",
       "4      2571             Borderlands  Positive   \n",
       "\n",
       "                                       Tweet_Content  Entity_Amazon  \\\n",
       "0  Elie is making a film based on the game,.. bit...              0   \n",
       "1  “This HUMBLE BARISTA as an actor in RED DEAD R...              0   \n",
       "2                                              Nice!              0   \n",
       "3  20 Been on hold temporarily for over 20 sq min...              0   \n",
       "4  Mayhem and Murder Aplenty! It's time for a  . ...              0   \n",
       "\n",
       "   Entity_ApexLegends  Entity_AssassinsCreed  Entity_Battlefield  \\\n",
       "0                   0                      0                   0   \n",
       "1                   0                      0                   0   \n",
       "2                   0                      0                   0   \n",
       "3                   0                      0                   0   \n",
       "4                   0                      0                   0   \n",
       "\n",
       "   Entity_Borderlands  Entity_CS-GO  ...  Entity_Overwatch  \\\n",
       "0                   1             0  ...                 0   \n",
       "1                   0             0  ...                 0   \n",
       "2                   0             0  ...                 0   \n",
       "3                   0             0  ...                 0   \n",
       "4                   1             0  ...                 0   \n",
       "\n",
       "   Entity_PlayStation5(PS5)  Entity_PlayerUnknownsBattlegrounds(PUBG)  \\\n",
       "0                         0                                         0   \n",
       "1                         0                                         0   \n",
       "2                         0                                         0   \n",
       "3                         0                                         0   \n",
       "4                         0                                         0   \n",
       "\n",
       "   Entity_RedDeadRedemption(RDR)  Entity_TomClancysGhostRecon  \\\n",
       "0                              0                            0   \n",
       "1                              1                            0   \n",
       "2                              0                            0   \n",
       "3                              0                            0   \n",
       "4                              0                            0   \n",
       "\n",
       "   Entity_TomClancysRainbowSix  Entity_Verizon  Entity_WorldOfCraft  \\\n",
       "0                            0               0                    0   \n",
       "1                            0               0                    0   \n",
       "2                            0               0                    0   \n",
       "3                            0               1                    0   \n",
       "4                            0               0                    0   \n",
       "\n",
       "   Entity_Xbox(Xseries)  Entity_johnson&johnson  \n",
       "0                     0                       0  \n",
       "1                     0                       0  \n",
       "2                     0                       0  \n",
       "3                     0                       0  \n",
       "4                     0                       0  \n",
       "\n",
       "[5 rows x 36 columns]"
      ]
     },
     "execution_count": 10,
     "metadata": {},
     "output_type": "execute_result"
    }
   ],
   "source": [
    "#One-hot encode using Pandas' get_dummies()\n",
    "onehot = pd.get_dummies(df[\"Entity\"], prefix=\"Entity\")\n",
    "\n",
    "#Join these new columns back into the DataFrame\n",
    "df = df.join(onehot)\n",
    "\n",
    "#Display a sample of the data with our new columns\n",
    "df.head()"
   ]
  },
  {
   "cell_type": "code",
   "execution_count": 11,
   "metadata": {},
   "outputs": [],
   "source": [
    "#Remove the Entity column, as we have transformed this data into a more usable format\n",
    "\n",
    "df = df.drop(\"Entity\", axis=1)"
   ]
  },
  {
   "cell_type": "markdown",
   "metadata": {},
   "source": [
    "### Enrichment with Pre-Trained Models (TextBlob)\n",
    "\n",
    "Here, we use the built-in functionality of TextBlob to add dimensionality to the data, by using it to analyse the text of the \"Tweet_Content\" column, and storing the outputs in a new column. This pre-trained model allows us to easily analyse strings of text, without any of the more involved NLP methods. Though we also plan to use more methods for NLP, this step can be a good to see if this model picks up on areas that our created one does not."
   ]
  },
  {
   "cell_type": "code",
   "execution_count": 12,
   "metadata": {},
   "outputs": [],
   "source": [
    "#Adding dimensions with textblob\n",
    "def tb_enrich(ls):\n",
    "    #Enriches a column of text with TextBlob Sentiment Analysis outputs\n",
    "    tb_polarity = []\n",
    "    tb_subject = []\n",
    "\n",
    "    for tweet in ls:\n",
    "        tb_polarity.append(TextBlob(tweet).sentiment[0])\n",
    "        tb_subject.append(TextBlob(tweet).sentiment[1])\n",
    "    \n",
    "\n",
    "    return tb_polarity, tb_subject\n",
    "    \n",
    "df[\"Polarity\"], df[\"Subjectivity\"] = tb_enrich(list(df[\"Tweet_Content\"]))"
   ]
  },
  {
   "cell_type": "code",
   "execution_count": 13,
   "metadata": {},
   "outputs": [
    {
     "data": {
      "text/html": [
       "<div>\n",
       "<style scoped>\n",
       "    .dataframe tbody tr th:only-of-type {\n",
       "        vertical-align: middle;\n",
       "    }\n",
       "\n",
       "    .dataframe tbody tr th {\n",
       "        vertical-align: top;\n",
       "    }\n",
       "\n",
       "    .dataframe thead th {\n",
       "        text-align: right;\n",
       "    }\n",
       "</style>\n",
       "<table border=\"1\" class=\"dataframe\">\n",
       "  <thead>\n",
       "    <tr style=\"text-align: right;\">\n",
       "      <th></th>\n",
       "      <th>Tweet_ID</th>\n",
       "      <th>Sentiment</th>\n",
       "      <th>Tweet_Content</th>\n",
       "      <th>Entity_Amazon</th>\n",
       "      <th>Entity_ApexLegends</th>\n",
       "      <th>Entity_AssassinsCreed</th>\n",
       "      <th>Entity_Battlefield</th>\n",
       "      <th>Entity_Borderlands</th>\n",
       "      <th>Entity_CS-GO</th>\n",
       "      <th>Entity_CallOfDuty</th>\n",
       "      <th>...</th>\n",
       "      <th>Entity_PlayerUnknownsBattlegrounds(PUBG)</th>\n",
       "      <th>Entity_RedDeadRedemption(RDR)</th>\n",
       "      <th>Entity_TomClancysGhostRecon</th>\n",
       "      <th>Entity_TomClancysRainbowSix</th>\n",
       "      <th>Entity_Verizon</th>\n",
       "      <th>Entity_WorldOfCraft</th>\n",
       "      <th>Entity_Xbox(Xseries)</th>\n",
       "      <th>Entity_johnson&amp;johnson</th>\n",
       "      <th>Polarity</th>\n",
       "      <th>Subjectivity</th>\n",
       "    </tr>\n",
       "  </thead>\n",
       "  <tbody>\n",
       "    <tr>\n",
       "      <th>0</th>\n",
       "      <td>2598</td>\n",
       "      <td>Positive</td>\n",
       "      <td>Elie is making a film based on the game,.. bit...</td>\n",
       "      <td>0</td>\n",
       "      <td>0</td>\n",
       "      <td>0</td>\n",
       "      <td>0</td>\n",
       "      <td>1</td>\n",
       "      <td>0</td>\n",
       "      <td>0</td>\n",
       "      <td>...</td>\n",
       "      <td>0</td>\n",
       "      <td>0</td>\n",
       "      <td>0</td>\n",
       "      <td>0</td>\n",
       "      <td>0</td>\n",
       "      <td>0</td>\n",
       "      <td>0</td>\n",
       "      <td>0</td>\n",
       "      <td>-0.400000</td>\n",
       "      <td>0.400000</td>\n",
       "    </tr>\n",
       "    <tr>\n",
       "      <th>1</th>\n",
       "      <td>10799</td>\n",
       "      <td>Neutral</td>\n",
       "      <td>“This HUMBLE BARISTA as an actor in RED DEAD R...</td>\n",
       "      <td>0</td>\n",
       "      <td>0</td>\n",
       "      <td>0</td>\n",
       "      <td>0</td>\n",
       "      <td>0</td>\n",
       "      <td>0</td>\n",
       "      <td>0</td>\n",
       "      <td>...</td>\n",
       "      <td>0</td>\n",
       "      <td>1</td>\n",
       "      <td>0</td>\n",
       "      <td>0</td>\n",
       "      <td>0</td>\n",
       "      <td>0</td>\n",
       "      <td>0</td>\n",
       "      <td>0</td>\n",
       "      <td>-0.150000</td>\n",
       "      <td>0.266667</td>\n",
       "    </tr>\n",
       "    <tr>\n",
       "      <th>2</th>\n",
       "      <td>3719</td>\n",
       "      <td>Positive</td>\n",
       "      <td>Nice!</td>\n",
       "      <td>0</td>\n",
       "      <td>0</td>\n",
       "      <td>0</td>\n",
       "      <td>0</td>\n",
       "      <td>0</td>\n",
       "      <td>0</td>\n",
       "      <td>0</td>\n",
       "      <td>...</td>\n",
       "      <td>0</td>\n",
       "      <td>0</td>\n",
       "      <td>0</td>\n",
       "      <td>0</td>\n",
       "      <td>0</td>\n",
       "      <td>0</td>\n",
       "      <td>0</td>\n",
       "      <td>0</td>\n",
       "      <td>0.750000</td>\n",
       "      <td>1.000000</td>\n",
       "    </tr>\n",
       "    <tr>\n",
       "      <th>3</th>\n",
       "      <td>11933</td>\n",
       "      <td>Negative</td>\n",
       "      <td>20 Been on hold temporarily for over 20 sq min...</td>\n",
       "      <td>0</td>\n",
       "      <td>0</td>\n",
       "      <td>0</td>\n",
       "      <td>0</td>\n",
       "      <td>0</td>\n",
       "      <td>0</td>\n",
       "      <td>0</td>\n",
       "      <td>...</td>\n",
       "      <td>0</td>\n",
       "      <td>0</td>\n",
       "      <td>0</td>\n",
       "      <td>0</td>\n",
       "      <td>1</td>\n",
       "      <td>0</td>\n",
       "      <td>0</td>\n",
       "      <td>0</td>\n",
       "      <td>-0.133333</td>\n",
       "      <td>0.600000</td>\n",
       "    </tr>\n",
       "    <tr>\n",
       "      <th>4</th>\n",
       "      <td>2571</td>\n",
       "      <td>Positive</td>\n",
       "      <td>Mayhem and Murder Aplenty! It's time for a  . ...</td>\n",
       "      <td>0</td>\n",
       "      <td>0</td>\n",
       "      <td>0</td>\n",
       "      <td>0</td>\n",
       "      <td>1</td>\n",
       "      <td>0</td>\n",
       "      <td>0</td>\n",
       "      <td>...</td>\n",
       "      <td>0</td>\n",
       "      <td>0</td>\n",
       "      <td>0</td>\n",
       "      <td>0</td>\n",
       "      <td>0</td>\n",
       "      <td>0</td>\n",
       "      <td>0</td>\n",
       "      <td>0</td>\n",
       "      <td>0.000000</td>\n",
       "      <td>0.000000</td>\n",
       "    </tr>\n",
       "  </tbody>\n",
       "</table>\n",
       "<p>5 rows × 37 columns</p>\n",
       "</div>"
      ],
      "text/plain": [
       "   Tweet_ID Sentiment                                      Tweet_Content  \\\n",
       "0      2598  Positive  Elie is making a film based on the game,.. bit...   \n",
       "1     10799   Neutral  “This HUMBLE BARISTA as an actor in RED DEAD R...   \n",
       "2      3719  Positive                                              Nice!   \n",
       "3     11933  Negative  20 Been on hold temporarily for over 20 sq min...   \n",
       "4      2571  Positive  Mayhem and Murder Aplenty! It's time for a  . ...   \n",
       "\n",
       "   Entity_Amazon  Entity_ApexLegends  Entity_AssassinsCreed  \\\n",
       "0              0                   0                      0   \n",
       "1              0                   0                      0   \n",
       "2              0                   0                      0   \n",
       "3              0                   0                      0   \n",
       "4              0                   0                      0   \n",
       "\n",
       "   Entity_Battlefield  Entity_Borderlands  Entity_CS-GO  Entity_CallOfDuty  \\\n",
       "0                   0                   1             0                  0   \n",
       "1                   0                   0             0                  0   \n",
       "2                   0                   0             0                  0   \n",
       "3                   0                   0             0                  0   \n",
       "4                   0                   1             0                  0   \n",
       "\n",
       "   ...  Entity_PlayerUnknownsBattlegrounds(PUBG)  \\\n",
       "0  ...                                         0   \n",
       "1  ...                                         0   \n",
       "2  ...                                         0   \n",
       "3  ...                                         0   \n",
       "4  ...                                         0   \n",
       "\n",
       "   Entity_RedDeadRedemption(RDR)  Entity_TomClancysGhostRecon  \\\n",
       "0                              0                            0   \n",
       "1                              1                            0   \n",
       "2                              0                            0   \n",
       "3                              0                            0   \n",
       "4                              0                            0   \n",
       "\n",
       "   Entity_TomClancysRainbowSix  Entity_Verizon  Entity_WorldOfCraft  \\\n",
       "0                            0               0                    0   \n",
       "1                            0               0                    0   \n",
       "2                            0               0                    0   \n",
       "3                            0               1                    0   \n",
       "4                            0               0                    0   \n",
       "\n",
       "   Entity_Xbox(Xseries)  Entity_johnson&johnson  Polarity  Subjectivity  \n",
       "0                     0                       0 -0.400000      0.400000  \n",
       "1                     0                       0 -0.150000      0.266667  \n",
       "2                     0                       0  0.750000      1.000000  \n",
       "3                     0                       0 -0.133333      0.600000  \n",
       "4                     0                       0  0.000000      0.000000  \n",
       "\n",
       "[5 rows x 37 columns]"
      ]
     },
     "execution_count": 13,
     "metadata": {},
     "output_type": "execute_result"
    }
   ],
   "source": [
    "df.head()"
   ]
  },
  {
   "cell_type": "markdown",
   "metadata": {},
   "source": [
    "### Labels to Indexes (and Back Again)\n",
    "\n",
    "Here, as discussed above, we create a dictionary in order to change the text in the \"Sentiment\" column into an index representing the predicted sentiment.\n",
    "\n",
    "# is the converting strictly necessary?\n",
    "\n",
    "We then convert the \"Sentiment\" column in the training data to the labels, which is what we will learn to predict"
   ]
  },
  {
   "cell_type": "code",
   "execution_count": 14,
   "metadata": {},
   "outputs": [],
   "source": [
    "#Define the indexing for each possible label in a dictionary\n",
    "class_to_index = {\"Neutral\":0, \"Irrelevant\":1, \"Negative\":2, \"Positive\": 3}\n",
    "\n",
    "#Creates a reverse dictionary\n",
    "index_to_class = dict((v,k) for k, v in class_to_index.items())\n",
    "\n",
    "#Creates lambda functions, applying the appropriate dictionary\n",
    "names_to_ids = lambda n: np.array([class_to_index.get(x) for x in n])\n",
    "ids_to_names = lambda n: np.array([index_to_class.get(x) for x in n])"
   ]
  },
  {
   "cell_type": "code",
   "execution_count": 15,
   "metadata": {},
   "outputs": [
    {
     "name": "stdout",
     "output_type": "stream",
     "text": [
      "[3 2 1 0]\n",
      "['Neutral' 'Irrelevant' 'Negative' 'Positive']\n"
     ]
    }
   ],
   "source": [
    "#Test each function\n",
    "print(names_to_ids([\"Positive\", \"Negative\", \"Irrelevant\", \"Neutral\"]))\n",
    "print(ids_to_names([0,1,2,3]))"
   ]
  },
  {
   "cell_type": "markdown",
   "metadata": {},
   "source": [
    "# is this strictly necessary?"
   ]
  },
  {
   "cell_type": "code",
   "execution_count": 16,
   "metadata": {},
   "outputs": [],
   "source": [
    "#Convert the \"Sentiment\" column into indexes\n",
    "df[\"Sentiment\"] = names_to_ids(df[\"Sentiment\"])"
   ]
  },
  {
   "cell_type": "code",
   "execution_count": 17,
   "metadata": {},
   "outputs": [
    {
     "data": {
      "text/html": [
       "<div>\n",
       "<style scoped>\n",
       "    .dataframe tbody tr th:only-of-type {\n",
       "        vertical-align: middle;\n",
       "    }\n",
       "\n",
       "    .dataframe tbody tr th {\n",
       "        vertical-align: top;\n",
       "    }\n",
       "\n",
       "    .dataframe thead th {\n",
       "        text-align: right;\n",
       "    }\n",
       "</style>\n",
       "<table border=\"1\" class=\"dataframe\">\n",
       "  <thead>\n",
       "    <tr style=\"text-align: right;\">\n",
       "      <th></th>\n",
       "      <th>Tweet_ID</th>\n",
       "      <th>Sentiment</th>\n",
       "      <th>Tweet_Content</th>\n",
       "      <th>Entity_Amazon</th>\n",
       "      <th>Entity_ApexLegends</th>\n",
       "      <th>Entity_AssassinsCreed</th>\n",
       "      <th>Entity_Battlefield</th>\n",
       "      <th>Entity_Borderlands</th>\n",
       "      <th>Entity_CS-GO</th>\n",
       "      <th>Entity_CallOfDuty</th>\n",
       "      <th>...</th>\n",
       "      <th>Entity_PlayerUnknownsBattlegrounds(PUBG)</th>\n",
       "      <th>Entity_RedDeadRedemption(RDR)</th>\n",
       "      <th>Entity_TomClancysGhostRecon</th>\n",
       "      <th>Entity_TomClancysRainbowSix</th>\n",
       "      <th>Entity_Verizon</th>\n",
       "      <th>Entity_WorldOfCraft</th>\n",
       "      <th>Entity_Xbox(Xseries)</th>\n",
       "      <th>Entity_johnson&amp;johnson</th>\n",
       "      <th>Polarity</th>\n",
       "      <th>Subjectivity</th>\n",
       "    </tr>\n",
       "  </thead>\n",
       "  <tbody>\n",
       "    <tr>\n",
       "      <th>0</th>\n",
       "      <td>2598</td>\n",
       "      <td>3</td>\n",
       "      <td>Elie is making a film based on the game,.. bit...</td>\n",
       "      <td>0</td>\n",
       "      <td>0</td>\n",
       "      <td>0</td>\n",
       "      <td>0</td>\n",
       "      <td>1</td>\n",
       "      <td>0</td>\n",
       "      <td>0</td>\n",
       "      <td>...</td>\n",
       "      <td>0</td>\n",
       "      <td>0</td>\n",
       "      <td>0</td>\n",
       "      <td>0</td>\n",
       "      <td>0</td>\n",
       "      <td>0</td>\n",
       "      <td>0</td>\n",
       "      <td>0</td>\n",
       "      <td>-0.400000</td>\n",
       "      <td>0.400000</td>\n",
       "    </tr>\n",
       "    <tr>\n",
       "      <th>1</th>\n",
       "      <td>10799</td>\n",
       "      <td>0</td>\n",
       "      <td>“This HUMBLE BARISTA as an actor in RED DEAD R...</td>\n",
       "      <td>0</td>\n",
       "      <td>0</td>\n",
       "      <td>0</td>\n",
       "      <td>0</td>\n",
       "      <td>0</td>\n",
       "      <td>0</td>\n",
       "      <td>0</td>\n",
       "      <td>...</td>\n",
       "      <td>0</td>\n",
       "      <td>1</td>\n",
       "      <td>0</td>\n",
       "      <td>0</td>\n",
       "      <td>0</td>\n",
       "      <td>0</td>\n",
       "      <td>0</td>\n",
       "      <td>0</td>\n",
       "      <td>-0.150000</td>\n",
       "      <td>0.266667</td>\n",
       "    </tr>\n",
       "    <tr>\n",
       "      <th>2</th>\n",
       "      <td>3719</td>\n",
       "      <td>3</td>\n",
       "      <td>Nice!</td>\n",
       "      <td>0</td>\n",
       "      <td>0</td>\n",
       "      <td>0</td>\n",
       "      <td>0</td>\n",
       "      <td>0</td>\n",
       "      <td>0</td>\n",
       "      <td>0</td>\n",
       "      <td>...</td>\n",
       "      <td>0</td>\n",
       "      <td>0</td>\n",
       "      <td>0</td>\n",
       "      <td>0</td>\n",
       "      <td>0</td>\n",
       "      <td>0</td>\n",
       "      <td>0</td>\n",
       "      <td>0</td>\n",
       "      <td>0.750000</td>\n",
       "      <td>1.000000</td>\n",
       "    </tr>\n",
       "    <tr>\n",
       "      <th>3</th>\n",
       "      <td>11933</td>\n",
       "      <td>2</td>\n",
       "      <td>20 Been on hold temporarily for over 20 sq min...</td>\n",
       "      <td>0</td>\n",
       "      <td>0</td>\n",
       "      <td>0</td>\n",
       "      <td>0</td>\n",
       "      <td>0</td>\n",
       "      <td>0</td>\n",
       "      <td>0</td>\n",
       "      <td>...</td>\n",
       "      <td>0</td>\n",
       "      <td>0</td>\n",
       "      <td>0</td>\n",
       "      <td>0</td>\n",
       "      <td>1</td>\n",
       "      <td>0</td>\n",
       "      <td>0</td>\n",
       "      <td>0</td>\n",
       "      <td>-0.133333</td>\n",
       "      <td>0.600000</td>\n",
       "    </tr>\n",
       "    <tr>\n",
       "      <th>4</th>\n",
       "      <td>2571</td>\n",
       "      <td>3</td>\n",
       "      <td>Mayhem and Murder Aplenty! It's time for a  . ...</td>\n",
       "      <td>0</td>\n",
       "      <td>0</td>\n",
       "      <td>0</td>\n",
       "      <td>0</td>\n",
       "      <td>1</td>\n",
       "      <td>0</td>\n",
       "      <td>0</td>\n",
       "      <td>...</td>\n",
       "      <td>0</td>\n",
       "      <td>0</td>\n",
       "      <td>0</td>\n",
       "      <td>0</td>\n",
       "      <td>0</td>\n",
       "      <td>0</td>\n",
       "      <td>0</td>\n",
       "      <td>0</td>\n",
       "      <td>0.000000</td>\n",
       "      <td>0.000000</td>\n",
       "    </tr>\n",
       "  </tbody>\n",
       "</table>\n",
       "<p>5 rows × 37 columns</p>\n",
       "</div>"
      ],
      "text/plain": [
       "   Tweet_ID  Sentiment                                      Tweet_Content  \\\n",
       "0      2598          3  Elie is making a film based on the game,.. bit...   \n",
       "1     10799          0  “This HUMBLE BARISTA as an actor in RED DEAD R...   \n",
       "2      3719          3                                              Nice!   \n",
       "3     11933          2  20 Been on hold temporarily for over 20 sq min...   \n",
       "4      2571          3  Mayhem and Murder Aplenty! It's time for a  . ...   \n",
       "\n",
       "   Entity_Amazon  Entity_ApexLegends  Entity_AssassinsCreed  \\\n",
       "0              0                   0                      0   \n",
       "1              0                   0                      0   \n",
       "2              0                   0                      0   \n",
       "3              0                   0                      0   \n",
       "4              0                   0                      0   \n",
       "\n",
       "   Entity_Battlefield  Entity_Borderlands  Entity_CS-GO  Entity_CallOfDuty  \\\n",
       "0                   0                   1             0                  0   \n",
       "1                   0                   0             0                  0   \n",
       "2                   0                   0             0                  0   \n",
       "3                   0                   0             0                  0   \n",
       "4                   0                   1             0                  0   \n",
       "\n",
       "   ...  Entity_PlayerUnknownsBattlegrounds(PUBG)  \\\n",
       "0  ...                                         0   \n",
       "1  ...                                         0   \n",
       "2  ...                                         0   \n",
       "3  ...                                         0   \n",
       "4  ...                                         0   \n",
       "\n",
       "   Entity_RedDeadRedemption(RDR)  Entity_TomClancysGhostRecon  \\\n",
       "0                              0                            0   \n",
       "1                              1                            0   \n",
       "2                              0                            0   \n",
       "3                              0                            0   \n",
       "4                              0                            0   \n",
       "\n",
       "   Entity_TomClancysRainbowSix  Entity_Verizon  Entity_WorldOfCraft  \\\n",
       "0                            0               0                    0   \n",
       "1                            0               0                    0   \n",
       "2                            0               0                    0   \n",
       "3                            0               1                    0   \n",
       "4                            0               0                    0   \n",
       "\n",
       "   Entity_Xbox(Xseries)  Entity_johnson&johnson  Polarity  Subjectivity  \n",
       "0                     0                       0 -0.400000      0.400000  \n",
       "1                     0                       0 -0.150000      0.266667  \n",
       "2                     0                       0  0.750000      1.000000  \n",
       "3                     0                       0 -0.133333      0.600000  \n",
       "4                     0                       0  0.000000      0.000000  \n",
       "\n",
       "[5 rows x 37 columns]"
      ]
     },
     "execution_count": 17,
     "metadata": {},
     "output_type": "execute_result"
    }
   ],
   "source": [
    "df.head()"
   ]
  },
  {
   "cell_type": "markdown",
   "metadata": {},
   "source": [
    "## NLP Data Enrichment\n",
    "\n",
    "In this section, we work with the text in the \"Tweet_Content\" column, extracting all the insight from this that we can, and converting it into a useable format for the neural network that we will train later. This involves removing words that have little meaning (stop word removal), and grouping words with the same meaning regardless of details such as tense (lemmatisation). Then, we use tokenisation in order to codify the presence of words into a matrix, similar in fashion to one-hot encoding. This is known as a \"Bag of Words\" method.\n",
    "\n",
    "Sections under this header include:\n",
    "\n",
    "- Stop Word Removal and Lemmatisation with NLTK\n",
    "- Tokenisation\n",
    "- Adding the Tokenised Strings to the DataFrame"
   ]
  },
  {
   "cell_type": "markdown",
   "metadata": {},
   "source": [
    "### Stop Word Removal and Lemmatisation with NLTK\n",
    "\n",
    "Here, we first split each string into its individual words, before checking if these:\n",
    "1. Contain text\n",
    "2. Are in the list of stopwords\n",
    "\n",
    "If there is no text in the word, meaning there are only numbers or punctuation (or other characters), or the word is a stop word (words such as \"with\", \"a\", \"the\"), then the word is removed from the string.\n",
    "\n",
    "We also lemmatise in this step, in which we convert words into their root form, such that tense and other details can be ignored in our final model (a negative statement in the past tense is still negative)."
   ]
  },
  {
   "cell_type": "code",
   "execution_count": 18,
   "metadata": {},
   "outputs": [],
   "source": [
    "def remove_stopwords(ls):\n",
    "    #Lemmatises, then removes stop words\n",
    "    ls = [lemmatiser.lemmatize(word) for word in ls if word not in (stop_english) and (word.isalpha())]\n",
    "    \n",
    "    #Joins the words back into a single string\n",
    "    ls = \" \".join(ls)\n",
    "    return ls\n",
    "\n",
    "#Splits each string into a list of words\n",
    "df[\"Tweet_Content_Split\"] = df[\"Tweet_Content\"].apply(word_tokenize)\n",
    "\n",
    "#Applies the above function to each entry in the DataFrame\n",
    "lemmatiser = WordNetLemmatizer()\n",
    "stop_english = Counter(stopwords.words()) #Here we use a Counter dictionary on the cached\n",
    "                                          # list of stop words for a huge speed-up\n",
    "df[\"Tweet_Content_Split\"] = df[\"Tweet_Content_Split\"].apply(remove_stopwords)"
   ]
  },
  {
   "cell_type": "code",
   "execution_count": 19,
   "metadata": {
    "scrolled": true
   },
   "outputs": [
    {
     "data": {
      "text/html": [
       "<div>\n",
       "<style scoped>\n",
       "    .dataframe tbody tr th:only-of-type {\n",
       "        vertical-align: middle;\n",
       "    }\n",
       "\n",
       "    .dataframe tbody tr th {\n",
       "        vertical-align: top;\n",
       "    }\n",
       "\n",
       "    .dataframe thead th {\n",
       "        text-align: right;\n",
       "    }\n",
       "</style>\n",
       "<table border=\"1\" class=\"dataframe\">\n",
       "  <thead>\n",
       "    <tr style=\"text-align: right;\">\n",
       "      <th></th>\n",
       "      <th>Tweet_ID</th>\n",
       "      <th>Sentiment</th>\n",
       "      <th>Tweet_Content</th>\n",
       "      <th>Entity_Amazon</th>\n",
       "      <th>Entity_ApexLegends</th>\n",
       "      <th>Entity_AssassinsCreed</th>\n",
       "      <th>Entity_Battlefield</th>\n",
       "      <th>Entity_Borderlands</th>\n",
       "      <th>Entity_CS-GO</th>\n",
       "      <th>Entity_CallOfDuty</th>\n",
       "      <th>...</th>\n",
       "      <th>Entity_RedDeadRedemption(RDR)</th>\n",
       "      <th>Entity_TomClancysGhostRecon</th>\n",
       "      <th>Entity_TomClancysRainbowSix</th>\n",
       "      <th>Entity_Verizon</th>\n",
       "      <th>Entity_WorldOfCraft</th>\n",
       "      <th>Entity_Xbox(Xseries)</th>\n",
       "      <th>Entity_johnson&amp;johnson</th>\n",
       "      <th>Polarity</th>\n",
       "      <th>Subjectivity</th>\n",
       "      <th>Tweet_Content_Split</th>\n",
       "    </tr>\n",
       "  </thead>\n",
       "  <tbody>\n",
       "    <tr>\n",
       "      <th>0</th>\n",
       "      <td>2598</td>\n",
       "      <td>3</td>\n",
       "      <td>Elie is making a film based on the game,.. bit...</td>\n",
       "      <td>0</td>\n",
       "      <td>0</td>\n",
       "      <td>0</td>\n",
       "      <td>0</td>\n",
       "      <td>1</td>\n",
       "      <td>0</td>\n",
       "      <td>0</td>\n",
       "      <td>...</td>\n",
       "      <td>0</td>\n",
       "      <td>0</td>\n",
       "      <td>0</td>\n",
       "      <td>0</td>\n",
       "      <td>0</td>\n",
       "      <td>0</td>\n",
       "      <td>0</td>\n",
       "      <td>-0.400000</td>\n",
       "      <td>0.400000</td>\n",
       "      <td>Elie making film based game</td>\n",
       "    </tr>\n",
       "    <tr>\n",
       "      <th>1</th>\n",
       "      <td>10799</td>\n",
       "      <td>0</td>\n",
       "      <td>“This HUMBLE BARISTA as an actor in RED DEAD R...</td>\n",
       "      <td>0</td>\n",
       "      <td>0</td>\n",
       "      <td>0</td>\n",
       "      <td>0</td>\n",
       "      <td>0</td>\n",
       "      <td>0</td>\n",
       "      <td>0</td>\n",
       "      <td>...</td>\n",
       "      <td>1</td>\n",
       "      <td>0</td>\n",
       "      <td>0</td>\n",
       "      <td>0</td>\n",
       "      <td>0</td>\n",
       "      <td>0</td>\n",
       "      <td>0</td>\n",
       "      <td>-0.150000</td>\n",
       "      <td>0.266667</td>\n",
       "      <td>This HUMBLE BARISTA actor RED DEAD REDEMPTION ...</td>\n",
       "    </tr>\n",
       "    <tr>\n",
       "      <th>2</th>\n",
       "      <td>3719</td>\n",
       "      <td>3</td>\n",
       "      <td>Nice!</td>\n",
       "      <td>0</td>\n",
       "      <td>0</td>\n",
       "      <td>0</td>\n",
       "      <td>0</td>\n",
       "      <td>0</td>\n",
       "      <td>0</td>\n",
       "      <td>0</td>\n",
       "      <td>...</td>\n",
       "      <td>0</td>\n",
       "      <td>0</td>\n",
       "      <td>0</td>\n",
       "      <td>0</td>\n",
       "      <td>0</td>\n",
       "      <td>0</td>\n",
       "      <td>0</td>\n",
       "      <td>0.750000</td>\n",
       "      <td>1.000000</td>\n",
       "      <td>Nice</td>\n",
       "    </tr>\n",
       "    <tr>\n",
       "      <th>3</th>\n",
       "      <td>11933</td>\n",
       "      <td>2</td>\n",
       "      <td>20 Been on hold temporarily for over 20 sq min...</td>\n",
       "      <td>0</td>\n",
       "      <td>0</td>\n",
       "      <td>0</td>\n",
       "      <td>0</td>\n",
       "      <td>0</td>\n",
       "      <td>0</td>\n",
       "      <td>0</td>\n",
       "      <td>...</td>\n",
       "      <td>0</td>\n",
       "      <td>0</td>\n",
       "      <td>0</td>\n",
       "      <td>1</td>\n",
       "      <td>0</td>\n",
       "      <td>0</td>\n",
       "      <td>0</td>\n",
       "      <td>-0.133333</td>\n",
       "      <td>0.600000</td>\n",
       "      <td>Been hold temporarily sq min trading Verizon A...</td>\n",
       "    </tr>\n",
       "    <tr>\n",
       "      <th>4</th>\n",
       "      <td>2571</td>\n",
       "      <td>3</td>\n",
       "      <td>Mayhem and Murder Aplenty! It's time for a  . ...</td>\n",
       "      <td>0</td>\n",
       "      <td>0</td>\n",
       "      <td>0</td>\n",
       "      <td>0</td>\n",
       "      <td>1</td>\n",
       "      <td>0</td>\n",
       "      <td>0</td>\n",
       "      <td>...</td>\n",
       "      <td>0</td>\n",
       "      <td>0</td>\n",
       "      <td>0</td>\n",
       "      <td>0</td>\n",
       "      <td>0</td>\n",
       "      <td>0</td>\n",
       "      <td>0</td>\n",
       "      <td>0.000000</td>\n",
       "      <td>0.000000</td>\n",
       "      <td>Mayhem Murder Aplenty It time</td>\n",
       "    </tr>\n",
       "  </tbody>\n",
       "</table>\n",
       "<p>5 rows × 38 columns</p>\n",
       "</div>"
      ],
      "text/plain": [
       "   Tweet_ID  Sentiment                                      Tweet_Content  \\\n",
       "0      2598          3  Elie is making a film based on the game,.. bit...   \n",
       "1     10799          0  “This HUMBLE BARISTA as an actor in RED DEAD R...   \n",
       "2      3719          3                                              Nice!   \n",
       "3     11933          2  20 Been on hold temporarily for over 20 sq min...   \n",
       "4      2571          3  Mayhem and Murder Aplenty! It's time for a  . ...   \n",
       "\n",
       "   Entity_Amazon  Entity_ApexLegends  Entity_AssassinsCreed  \\\n",
       "0              0                   0                      0   \n",
       "1              0                   0                      0   \n",
       "2              0                   0                      0   \n",
       "3              0                   0                      0   \n",
       "4              0                   0                      0   \n",
       "\n",
       "   Entity_Battlefield  Entity_Borderlands  Entity_CS-GO  Entity_CallOfDuty  \\\n",
       "0                   0                   1             0                  0   \n",
       "1                   0                   0             0                  0   \n",
       "2                   0                   0             0                  0   \n",
       "3                   0                   0             0                  0   \n",
       "4                   0                   1             0                  0   \n",
       "\n",
       "   ...  Entity_RedDeadRedemption(RDR)  Entity_TomClancysGhostRecon  \\\n",
       "0  ...                              0                            0   \n",
       "1  ...                              1                            0   \n",
       "2  ...                              0                            0   \n",
       "3  ...                              0                            0   \n",
       "4  ...                              0                            0   \n",
       "\n",
       "   Entity_TomClancysRainbowSix  Entity_Verizon  Entity_WorldOfCraft  \\\n",
       "0                            0               0                    0   \n",
       "1                            0               0                    0   \n",
       "2                            0               0                    0   \n",
       "3                            0               1                    0   \n",
       "4                            0               0                    0   \n",
       "\n",
       "   Entity_Xbox(Xseries)  Entity_johnson&johnson  Polarity  Subjectivity  \\\n",
       "0                     0                       0 -0.400000      0.400000   \n",
       "1                     0                       0 -0.150000      0.266667   \n",
       "2                     0                       0  0.750000      1.000000   \n",
       "3                     0                       0 -0.133333      0.600000   \n",
       "4                     0                       0  0.000000      0.000000   \n",
       "\n",
       "                                 Tweet_Content_Split  \n",
       "0                        Elie making film based game  \n",
       "1  This HUMBLE BARISTA actor RED DEAD REDEMPTION ...  \n",
       "2                                               Nice  \n",
       "3  Been hold temporarily sq min trading Verizon A...  \n",
       "4                      Mayhem Murder Aplenty It time  \n",
       "\n",
       "[5 rows x 38 columns]"
      ]
     },
     "execution_count": 19,
     "metadata": {},
     "output_type": "execute_result"
    }
   ],
   "source": [
    "df.head()"
   ]
  },
  {
   "cell_type": "markdown",
   "metadata": {},
   "source": [
    "### Tokenisation\n",
    "\n",
    "We create tokens for the most common words in the dataset, so we can represent the presence of words in our created corpus (the n most common words) with a list of integers. "
   ]
  },
  {
   "cell_type": "code",
   "execution_count": 20,
   "metadata": {},
   "outputs": [],
   "source": [
    "#Define the Tokeniser\n",
    "tokeniser = Tokenizer(num_words=1000, lower=True)\n",
    "\n",
    "#Create the corpus by finding the most common \n",
    "tokeniser.fit_on_texts(df[\"Tweet_Content_Split\"])"
   ]
  },
  {
   "cell_type": "code",
   "execution_count": 21,
   "metadata": {},
   "outputs": [],
   "source": [
    "#Tokenise our column of edited Tweet content\n",
    "tweet_tokens = tokeniser.texts_to_matrix(list(df[\"Tweet_Content_Split\"]))"
   ]
  },
  {
   "cell_type": "code",
   "execution_count": 22,
   "metadata": {},
   "outputs": [
    {
     "data": {
      "text/plain": [
       "(7400, 1000)"
      ]
     },
     "execution_count": 22,
     "metadata": {},
     "output_type": "execute_result"
    }
   ],
   "source": [
    "tweet_tokens.shape"
   ]
  },
  {
   "cell_type": "markdown",
   "metadata": {},
   "source": [
    "### Adding the Tokenised Strings to the DataFrame\n",
    "\n",
    "Currently, the tokens are contained in a matrix titled \"tweet_tokens\". We then want to combine these back into the dataframe containing all of the current data. This is completed below, and then we test to make sure that this has occurred correctly by looking at the number of columns compared to that of the original matrices."
   ]
  },
  {
   "cell_type": "code",
   "execution_count": 23,
   "metadata": {},
   "outputs": [
    {
     "name": "stdout",
     "output_type": "stream",
     "text": [
      "(7400, 38)\n",
      "(7400, 1000)\n"
     ]
    }
   ],
   "source": [
    "print(df.shape)\n",
    "print(tweet_tokens.shape)"
   ]
  },
  {
   "cell_type": "code",
   "execution_count": 24,
   "metadata": {
    "scrolled": true
   },
   "outputs": [
    {
     "data": {
      "text/plain": [
       "(7400, 1038)"
      ]
     },
     "execution_count": 24,
     "metadata": {},
     "output_type": "execute_result"
    }
   ],
   "source": [
    "#Combining the dataframe with the tokens using pd.concat\n",
    "full_df = pd.concat([df, pd.DataFrame(tweet_tokens)], sort=False, axis=1)\n",
    "full_df.shape"
   ]
  },
  {
   "cell_type": "markdown",
   "metadata": {},
   "source": [
    "## Final Data Preparation\n",
    "\n",
    "The data is now almost ready for a model to be trained on it, but a few final preparations will need to occur. For example, we need to drop the columns that we don't plan to use, such as the \"Tweet_Content\" column, which has had its useful information extracted already.\n",
    "\n",
    "We also split the data into a training and test set, such that we can evaluate our model's performance without touching the held-out data. We do this because if we continually test against this held-out data, it loses its usefulness as unseen \"real-world\" data.\n",
    "\n",
    "Sections under this header include:\n",
    "- Dropping Unused Data\n",
    "- Test-Train Split"
   ]
  },
  {
   "cell_type": "markdown",
   "metadata": {},
   "source": [
    "### Dropping Unused Data\n",
    "\n",
    "We drop non-useful columns from the DataFrame here. These either have no use (Tweet ID), or have already had the useful information extracted (Tweet Content). We also remove the \"y\" or dependent variable here, so we don't accidentally train on it."
   ]
  },
  {
   "cell_type": "code",
   "execution_count": 25,
   "metadata": {},
   "outputs": [],
   "source": [
    "#Remove dependent variable\n",
    "y = full_df[\"Sentiment\"]\n",
    "\n",
    "#Drop all non-useful columns\n",
    "full_df = full_df.drop([\"Sentiment\", \"Tweet_ID\", \"Tweet_Content\", \"Tweet_Content_Split\"], axis=1)"
   ]
  },
  {
   "cell_type": "markdown",
   "metadata": {},
   "source": [
    "### Test-Train Split\n",
    "\n",
    "Here, we use SciKit-Learn's inbuilt function to split our data into a test set and a train set, with the appropriate labels. We use a constant random state to make this replicable."
   ]
  },
  {
   "cell_type": "code",
   "execution_count": 26,
   "metadata": {},
   "outputs": [],
   "source": [
    "X_train, X_test, y_train, y_test = train_test_split(full_df, y, test_size=0.2, random_state=1)"
   ]
  },
  {
   "cell_type": "markdown",
   "metadata": {},
   "source": [
    "## Model Construction and Training\n",
    "\n",
    "# Mess below here"
   ]
  },
  {
   "cell_type": "code",
   "execution_count": 27,
   "metadata": {},
   "outputs": [],
   "source": [
    "from sklearn.ensemble import RandomForestClassifier\n",
    "\n",
    "#Random Forest\n",
    "clf = RandomForestClassifier(n_estimators=100)\n",
    "\n",
    "clf = clf.fit(X_train, y_train)"
   ]
  },
  {
   "cell_type": "code",
   "execution_count": 28,
   "metadata": {},
   "outputs": [
    {
     "data": {
      "text/plain": [
       "<sklearn.metrics._plot.confusion_matrix.ConfusionMatrixDisplay at 0x1ed8c0e3128>"
      ]
     },
     "execution_count": 28,
     "metadata": {},
     "output_type": "execute_result"
    },
    {
     "data": {
      "image/png": "[encoded data removed]",
      "text/plain": [
       "<Figure size 432x288 with 2 Axes>"
      ]
     },
     "metadata": {
      "needs_background": "light"
     },
     "output_type": "display_data"
    }
   ],
   "source": [
    "from sklearn.metrics import confusion_matrix, ConfusionMatrixDisplay\n",
    "y_pred = clf.predict(X_test)\n",
    "\n",
    "y_unique = y_test.unique()\n",
    "cm = confusion_matrix(y_test, y_pred, labels = y_unique)\n",
    "\n",
    "disp = ConfusionMatrixDisplay(confusion_matrix=cm, display_labels=y_unique)\n",
    "disp.plot()"
   ]
  },
  {
   "cell_type": "code",
   "execution_count": 29,
   "metadata": {},
   "outputs": [
    {
     "data": {
      "text/plain": [
       "0.6074324324324324"
      ]
     },
     "execution_count": 29,
     "metadata": {},
     "output_type": "execute_result"
    }
   ],
   "source": [
    "from sklearn.metrics import accuracy_score\n",
    "\n",
    "accuracy_score(y_test, y_pred)"
   ]
  },
  {
   "cell_type": "code",
   "execution_count": 60,
   "metadata": {},
   "outputs": [],
   "source": [
    "import os\n",
    "dirname = os.path.realpath('./')\n",
    "filename = os.path.join(os.path.dirname(dirname), 'saved_models')"
   ]
  },
  {
   "cell_type": "code",
   "execution_count": 62,
   "metadata": {
    "scrolled": true
   },
   "outputs": [
    {
     "ename": "PermissionError",
     "evalue": "[Errno 13] Permission denied: 'C:\\\\Users\\\\Cameron\\\\Documents\\\\Practical Data Science Tutorial\\\\PDS_Piece\\\\saved_models'",
     "output_type": "error",
     "traceback": [
      "\u001b[1;31m---------------------------------------------------------------------------\u001b[0m",
      "\u001b[1;31mPermissionError\u001b[0m                           Traceback (most recent call last)",
      "\u001b[1;32m<ipython-input-62-2fb947a206de>\u001b[0m in \u001b[0;36m<module>\u001b[1;34m\u001b[0m\n\u001b[0;32m      4\u001b[0m \u001b[0mrandom_forest_model\u001b[0m \u001b[1;33m=\u001b[0m \u001b[0mclf\u001b[0m\u001b[1;33m\u001b[0m\u001b[1;33m\u001b[0m\u001b[0m\n\u001b[0;32m      5\u001b[0m \u001b[1;33m\u001b[0m\u001b[0m\n\u001b[1;32m----> 6\u001b[1;33m \u001b[0mdump\u001b[0m\u001b[1;33m(\u001b[0m\u001b[0mrandom_forest_model\u001b[0m\u001b[1;33m,\u001b[0m \u001b[0mfilename\u001b[0m\u001b[1;33m)\u001b[0m\u001b[1;33m\u001b[0m\u001b[1;33m\u001b[0m\u001b[0m\n\u001b[0m",
      "\u001b[1;32m~\\Anaconda3\\lib\\site-packages\\joblib\\numpy_pickle.py\u001b[0m in \u001b[0;36mdump\u001b[1;34m(value, filename, compress, protocol, cache_size)\u001b[0m\n\u001b[0;32m    477\u001b[0m             \u001b[0mNumpyPickler\u001b[0m\u001b[1;33m(\u001b[0m\u001b[0mf\u001b[0m\u001b[1;33m,\u001b[0m \u001b[0mprotocol\u001b[0m\u001b[1;33m=\u001b[0m\u001b[0mprotocol\u001b[0m\u001b[1;33m)\u001b[0m\u001b[1;33m.\u001b[0m\u001b[0mdump\u001b[0m\u001b[1;33m(\u001b[0m\u001b[0mvalue\u001b[0m\u001b[1;33m)\u001b[0m\u001b[1;33m\u001b[0m\u001b[1;33m\u001b[0m\u001b[0m\n\u001b[0;32m    478\u001b[0m     \u001b[1;32melif\u001b[0m \u001b[0mis_filename\u001b[0m\u001b[1;33m:\u001b[0m\u001b[1;33m\u001b[0m\u001b[1;33m\u001b[0m\u001b[0m\n\u001b[1;32m--> 479\u001b[1;33m         \u001b[1;32mwith\u001b[0m \u001b[0mopen\u001b[0m\u001b[1;33m(\u001b[0m\u001b[0mfilename\u001b[0m\u001b[1;33m,\u001b[0m \u001b[1;34m'wb'\u001b[0m\u001b[1;33m)\u001b[0m \u001b[1;32mas\u001b[0m \u001b[0mf\u001b[0m\u001b[1;33m:\u001b[0m\u001b[1;33m\u001b[0m\u001b[1;33m\u001b[0m\u001b[0m\n\u001b[0m\u001b[0;32m    480\u001b[0m             \u001b[0mNumpyPickler\u001b[0m\u001b[1;33m(\u001b[0m\u001b[0mf\u001b[0m\u001b[1;33m,\u001b[0m \u001b[0mprotocol\u001b[0m\u001b[1;33m=\u001b[0m\u001b[0mprotocol\u001b[0m\u001b[1;33m)\u001b[0m\u001b[1;33m.\u001b[0m\u001b[0mdump\u001b[0m\u001b[1;33m(\u001b[0m\u001b[0mvalue\u001b[0m\u001b[1;33m)\u001b[0m\u001b[1;33m\u001b[0m\u001b[1;33m\u001b[0m\u001b[0m\n\u001b[0;32m    481\u001b[0m     \u001b[1;32melse\u001b[0m\u001b[1;33m:\u001b[0m\u001b[1;33m\u001b[0m\u001b[1;33m\u001b[0m\u001b[0m\n",
      "\u001b[1;31mPermissionError\u001b[0m: [Errno 13] Permission denied: 'C:\\\\Users\\\\Cameron\\\\Documents\\\\Practical Data Science Tutorial\\\\PDS_Piece\\\\saved_models'"
     ]
    }
   ],
   "source": [
    "#Save model using joblib\n",
    "from joblib import dump\n",
    "\n",
    "random_forest_model = clf\n",
    "\n",
    "dump(random_forest_model, filename)"
   ]
  },
  {
   "cell_type": "code",
   "execution_count": 32,
   "metadata": {},
   "outputs": [
    {
     "data": {
      "text/plain": [
       "['y_test.joblib']"
      ]
     },
     "execution_count": 32,
     "metadata": {},
     "output_type": "execute_result"
    }
   ],
   "source": [
    "#save data using joblib\n",
    "\n",
    "dump(X_train, \"x_train.joblib\")\n",
    "dump(y_train, \"y_train.joblib\")\n",
    "dump(X_test, \"x_test.joblib\")\n",
    "dump(y_test, \"y_test.joblib\")"
   ]
  }
 ],
 "metadata": {
  "kernelspec": {
   "display_name": "Python 3",
   "language": "python",
   "name": "python3"
  },
  "language_info": {
   "codemirror_mode": {
    "name": "ipython",
    "version": 3
   },
   "file_extension": ".py",
   "mimetype": "text/x-python",
   "name": "python",
   "nbconvert_exporter": "python",
   "pygments_lexer": "ipython3",
   "version": "3.6.12"
  }
 },
 "nbformat": 4,
 "nbformat_minor": 4
}
